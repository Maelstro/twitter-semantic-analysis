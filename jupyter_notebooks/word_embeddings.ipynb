{
 "cells": [
  {
   "cell_type": "code",
   "execution_count": 1,
   "metadata": {},
   "outputs": [],
   "source": [
    "# Twitter database - word embeddings\n",
    "import itertools\n",
    "import pandas as pd\n",
    "import numpy as np\n",
    "import re\n",
    "import os\n",
    "from tqdm import tqdm\n",
    "from nltk.stem import WordNetLemmatizer, SnowballStemmer\n",
    "\n",
    "# Functions\n",
    "# Create a stemmer\n",
    "stemmer = SnowballStemmer(\"english\")\n",
    "\n",
    "# Functions for stemming and lemmatization\n",
    "def stem_and_lemmatize(text:str) -> str:\n",
    "    \"\"\"Stems and lemmatizes a given text.\"\"\"\n",
    "    return stemmer.stem(WordNetLemmatizer().lemmatize(text, pos='v'))\n",
    "\n",
    "def unique_word_dict(text: list) -> dict:\n",
    "    \"\"\"Creates a dictionary of unique words in a given test list\"\"\"\n",
    "    unique_words = list(set(text))\n",
    "    unique_words.sort()\n",
    "    \n",
    "    unique_dict = {w: i for i, word in enumerate(unique_words)}\n",
    "    return unique_dict\n",
    "\n",
    "def preprocess_texts(text_list: list) -> list:\n",
    "    \"\"\"Processes text to remove all unwanted words and symbols.\"\"\"\n",
    "\n",
    "    # Lowercase the tweets\n",
    "    text_list = [text.lower() for text in text_list] \n",
    "\n",
    "    # Regex patterns\n",
    "    url_pattern        = r\"((http://)[^ ]*|(https://)[^ ]*|( www\\.)[^ ]*)\"\n",
    "    user_pattern       = '@[^\\s]+'\n",
    "    alpha_pattern      = \"[^a-zA-Z]\"\n",
    "    sequence_pattern   = r\"(.)\\1\\1+\"\n",
    "    seq_replace_pattern = r\"\\1\\1\"\n",
    "\n",
    "    # Remove URLs from the tweet text\n",
    "    text_list = [re.sub(url_pattern, ' ', str(x))\n",
    "                                    for x in text_list]\n",
    "    # Remove username from the tweet text\n",
    "    text_list = [re.sub(user_pattern, ' ', str(x))\n",
    "                                    for x in text_list]\n",
    "    # Remove all non-alphanumeric symbols\n",
    "    text_list = [re.sub(alpha_pattern, ' ', str(x))\n",
    "                                    for x in text_list]\n",
    "    # Replace all 3 or more consecutive letters with 2 letters\n",
    "    text_list = [re.sub(sequence_pattern, seq_replace_pattern, str(x))\n",
    "                                    for x in text_list]\n",
    "\n",
    "    \n",
    "    full_tweet_list = []\n",
    "    for x in text_list:\n",
    "        full_tweet = []\n",
    "        for word in x.split():\n",
    "            word = stem_and_lemmatize(word)\n",
    "            full_tweet.append(word)\n",
    "        full_tweet_list.append(full_tweet)\n",
    "\n",
    "    return full_tweet_list\n",
    "\n",
    "def preprocess_single_tweet(text: str) -> list:\n",
    "    # Lowercase the tweets\n",
    "    lc_text = text.lower()\n",
    "\n",
    "    # Regex patterns\n",
    "    url_pattern        = r\"((http://)[^ ]*|(https://)[^ ]*|( www\\.)[^ ]*)\"\n",
    "    user_pattern       = '@[^\\s]+'\n",
    "    alpha_pattern      = \"[^a-zA-Z]\"\n",
    "    sequence_pattern   = r\"(.)\\1\\1+\"\n",
    "    seq_replace_pattern = r\"\\1\\1\"\n",
    "\n",
    "    # Remove URLs from the tweet text\n",
    "    lc_text = re.sub(url_pattern, ' ', lc_text)\n",
    "\n",
    "    # Remove username from the tweet text\n",
    "    lc_text = re.sub(user_pattern, ' ', lc_text)\n",
    "\n",
    "    # Remove all non-alphanumeric symbols\n",
    "    lc_text = re.sub(alpha_pattern, ' ', lc_text)\n",
    "\n",
    "    # Replace all 3 or more consecutive letters with 2 letters\n",
    "    lc_text = re.sub(sequence_pattern, seq_replace_pattern, lc_text)\n",
    "\n",
    "\n",
    "    \n",
    "    processed_text = []\n",
    "    for word in lc_text.split():\n",
    "        if word not in gensim.parsing.preprocessing.STOPWORDS and len(word) > 3:\n",
    "            word = stem_and_lemmatize(word)\n",
    "            processed_text.append(word)\n",
    "\n",
    "    return processed_text"
   ]
  },
  {
   "cell_type": "code",
   "execution_count": 2,
   "metadata": {},
   "outputs": [],
   "source": [
    "# Read texts from file\n",
    "tweets = pd.read_csv('twitter_database.csv')\n",
    "tweets = [t for t in tweets['tweet_text']]"
   ]
  },
  {
   "cell_type": "code",
   "execution_count": 3,
   "metadata": {},
   "outputs": [],
   "source": [
    "# Preprocess the texts\n",
    "word_lists = []\n",
    "processed_tweets = preprocess_texts(tweets)"
   ]
  },
  {
   "cell_type": "code",
   "execution_count": 4,
   "metadata": {},
   "outputs": [],
   "source": [
    "# Create the context dictionary\n",
    "WINDOW_SIZE = 5    # Size of the context window\n",
    "\n",
    "for tweet in processed_tweets:\n",
    "    for i, word in enumerate(tweet):\n",
    "        for w in range(WINDOW_SIZE):\n",
    "            if i + 1 + WINDOW_SIZE < len(tweet):\n",
    "                word_lists.append([word] + [tweet[(i + 1 + w)]])\n",
    "            if i - w - 1 >= 0:\n",
    "                word_lists.append([word] + [tweet[(i - w - 1)]])"
   ]
  },
  {
   "cell_type": "code",
   "execution_count": 5,
   "metadata": {},
   "outputs": [],
   "source": [
    "# Create a dictionary of unique words\n",
    "all_processed = itertools.chain.from_iterable(processed_tweets)\n",
    "unique_words = unique_word_dict(all_processed)\n",
    "\n",
    "# Number of features\n",
    "words_count = len(unique_words)\n",
    "\n",
    "# List of unique words\n",
    "unique_word_list = list(unique_words.keys())"
   ]
  },
  {
   "cell_type": "raw",
   "metadata": {},
   "source": [
    "print(unique_word_list)"
   ]
  },
  {
   "cell_type": "code",
   "execution_count": null,
   "metadata": {},
   "outputs": [],
   "source": []
  }
 ],
 "metadata": {
  "kernelspec": {
   "display_name": "Python 3",
   "language": "python",
   "name": "python3"
  },
  "language_info": {
   "codemirror_mode": {
    "name": "ipython",
    "version": 3
   },
   "file_extension": ".py",
   "mimetype": "text/x-python",
   "name": "python",
   "nbconvert_exporter": "python",
   "pygments_lexer": "ipython3",
   "version": "3.8.6"
  }
 },
 "nbformat": 4,
 "nbformat_minor": 4
}
