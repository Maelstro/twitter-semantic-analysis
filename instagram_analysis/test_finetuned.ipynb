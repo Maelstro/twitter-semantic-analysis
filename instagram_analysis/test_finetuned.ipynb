{
 "cells": [
  {
   "cell_type": "code",
   "execution_count": 1,
   "id": "56699a4b-ca05-4724-af32-d0fdd0eaa73f",
   "metadata": {},
   "outputs": [],
   "source": [
    "# Associate words with archetypes/character traits as intermediate layer\n",
    "# and with influencer as the \"last\" layer\n",
    "\n",
    "# Dependencies\n",
    "import pandas as pd\n",
    "import dask.dataframe as dd\n",
    "import numpy as np\n",
    "from tqdm.notebook import trange, tqdm\n",
    "import copy\n",
    "import os\n",
    "import toml\n",
    "import re\n",
    "import itertools\n",
    "from text_cleaner import *\n",
    "import operator\n",
    "from collections import Counter\n",
    "import pickle\n",
    "\n",
    "def extract_hashtags(post_text):\n",
    "    HASH_RE = re.compile(r\"\\#\\w+\")\n",
    "    out_list = re.findall(HASH_RE, post_text)\n",
    "    return out_list"
   ]
  },
  {
   "cell_type": "code",
   "execution_count": 2,
   "id": "cf46d0f0-71da-446d-ad01-9ebb0e3e3891",
   "metadata": {},
   "outputs": [
    {
     "name": "stdout",
     "output_type": "stream",
     "text": [
      "['innocent', 'sage', 'explorer', 'outlaw', 'magician', 'hero', 'lover', 'jester', 'everyman', 'caregiver', 'ruler', 'creator', 'dominant', 'submissive', 'maximalist', 'minimalist', 'inspiring', 'systematic', 'discovering', 'conservative', 'verifying', 'overlooking', 'sharpening', 'harmonic', 'empathic', 'matter_of_fact', 'brave', 'protective', 'generous', 'thrifty', 'favourable', 'balanced', 'sensuality', 'intelligent', 'believe', 'egocentric', 'allocentric']\n"
     ]
    },
    {
     "data": {
      "text/html": [
       "<div>\n",
       "<style scoped>\n",
       "    .dataframe tbody tr th:only-of-type {\n",
       "        vertical-align: middle;\n",
       "    }\n",
       "\n",
       "    .dataframe tbody tr th {\n",
       "        vertical-align: top;\n",
       "    }\n",
       "\n",
       "    .dataframe thead th {\n",
       "        text-align: right;\n",
       "    }\n",
       "</style>\n",
       "<table border=\"1\" class=\"dataframe\">\n",
       "  <thead>\n",
       "    <tr style=\"text-align: right;\">\n",
       "      <th></th>\n",
       "      <th>innocent</th>\n",
       "      <th>sage</th>\n",
       "      <th>explorer</th>\n",
       "      <th>outlaw</th>\n",
       "      <th>magician</th>\n",
       "      <th>hero</th>\n",
       "      <th>lover</th>\n",
       "      <th>jester</th>\n",
       "      <th>everyman</th>\n",
       "      <th>caregiver</th>\n",
       "      <th>...</th>\n",
       "      <th>protective</th>\n",
       "      <th>generous</th>\n",
       "      <th>thrifty</th>\n",
       "      <th>favourable</th>\n",
       "      <th>balanced</th>\n",
       "      <th>sensuality</th>\n",
       "      <th>intelligent</th>\n",
       "      <th>believe</th>\n",
       "      <th>egocentric</th>\n",
       "      <th>allocentric</th>\n",
       "    </tr>\n",
       "    <tr>\n",
       "      <th>id</th>\n",
       "      <th></th>\n",
       "      <th></th>\n",
       "      <th></th>\n",
       "      <th></th>\n",
       "      <th></th>\n",
       "      <th></th>\n",
       "      <th></th>\n",
       "      <th></th>\n",
       "      <th></th>\n",
       "      <th></th>\n",
       "      <th></th>\n",
       "      <th></th>\n",
       "      <th></th>\n",
       "      <th></th>\n",
       "      <th></th>\n",
       "      <th></th>\n",
       "      <th></th>\n",
       "      <th></th>\n",
       "      <th></th>\n",
       "      <th></th>\n",
       "      <th></th>\n",
       "    </tr>\n",
       "  </thead>\n",
       "  <tbody>\n",
       "    <tr>\n",
       "      <th>marek_grodzki</th>\n",
       "      <td>0.0</td>\n",
       "      <td>0.0</td>\n",
       "      <td>0.0</td>\n",
       "      <td>0.0</td>\n",
       "      <td>0.0</td>\n",
       "      <td>0.0</td>\n",
       "      <td>0.0</td>\n",
       "      <td>4.0</td>\n",
       "      <td>0.0</td>\n",
       "      <td>0.0</td>\n",
       "      <td>...</td>\n",
       "      <td>2.0</td>\n",
       "      <td>3.0</td>\n",
       "      <td>4.0</td>\n",
       "      <td>4.0</td>\n",
       "      <td>3.0</td>\n",
       "      <td>4.0</td>\n",
       "      <td>4.0</td>\n",
       "      <td>3.0</td>\n",
       "      <td>0.0</td>\n",
       "      <td>0.0</td>\n",
       "    </tr>\n",
       "    <tr>\n",
       "      <th>vege_style_life</th>\n",
       "      <td>0.0</td>\n",
       "      <td>0.0</td>\n",
       "      <td>4.0</td>\n",
       "      <td>0.0</td>\n",
       "      <td>0.0</td>\n",
       "      <td>0.0</td>\n",
       "      <td>0.0</td>\n",
       "      <td>0.0</td>\n",
       "      <td>0.0</td>\n",
       "      <td>0.0</td>\n",
       "      <td>...</td>\n",
       "      <td>4.0</td>\n",
       "      <td>4.0</td>\n",
       "      <td>4.0</td>\n",
       "      <td>4.0</td>\n",
       "      <td>3.0</td>\n",
       "      <td>3.0</td>\n",
       "      <td>3.0</td>\n",
       "      <td>2.0</td>\n",
       "      <td>0.0</td>\n",
       "      <td>3.0</td>\n",
       "    </tr>\n",
       "    <tr>\n",
       "      <th>oliwka__2007</th>\n",
       "      <td>0.0</td>\n",
       "      <td>0.0</td>\n",
       "      <td>0.0</td>\n",
       "      <td>0.0</td>\n",
       "      <td>0.0</td>\n",
       "      <td>0.0</td>\n",
       "      <td>0.0</td>\n",
       "      <td>0.0</td>\n",
       "      <td>4.0</td>\n",
       "      <td>0.0</td>\n",
       "      <td>...</td>\n",
       "      <td>2.0</td>\n",
       "      <td>2.0</td>\n",
       "      <td>0.0</td>\n",
       "      <td>3.0</td>\n",
       "      <td>1.0</td>\n",
       "      <td>2.0</td>\n",
       "      <td>4.0</td>\n",
       "      <td>1.0</td>\n",
       "      <td>0.0</td>\n",
       "      <td>3.0</td>\n",
       "    </tr>\n",
       "    <tr>\n",
       "      <th>z_przestrzeni_serca</th>\n",
       "      <td>4.0</td>\n",
       "      <td>0.0</td>\n",
       "      <td>0.0</td>\n",
       "      <td>0.0</td>\n",
       "      <td>0.0</td>\n",
       "      <td>0.0</td>\n",
       "      <td>0.0</td>\n",
       "      <td>0.0</td>\n",
       "      <td>0.0</td>\n",
       "      <td>0.0</td>\n",
       "      <td>...</td>\n",
       "      <td>4.0</td>\n",
       "      <td>3.0</td>\n",
       "      <td>0.0</td>\n",
       "      <td>4.0</td>\n",
       "      <td>4.0</td>\n",
       "      <td>3.0</td>\n",
       "      <td>4.0</td>\n",
       "      <td>4.0</td>\n",
       "      <td>0.0</td>\n",
       "      <td>1.0</td>\n",
       "    </tr>\n",
       "    <tr>\n",
       "      <th>zaradne_warsztaty</th>\n",
       "      <td>3.0</td>\n",
       "      <td>0.0</td>\n",
       "      <td>0.0</td>\n",
       "      <td>0.0</td>\n",
       "      <td>3.0</td>\n",
       "      <td>0.0</td>\n",
       "      <td>0.0</td>\n",
       "      <td>2.0</td>\n",
       "      <td>3.0</td>\n",
       "      <td>4.0</td>\n",
       "      <td>...</td>\n",
       "      <td>3.0</td>\n",
       "      <td>4.0</td>\n",
       "      <td>0.0</td>\n",
       "      <td>2.0</td>\n",
       "      <td>2.0</td>\n",
       "      <td>4.0</td>\n",
       "      <td>2.0</td>\n",
       "      <td>3.0</td>\n",
       "      <td>1.0</td>\n",
       "      <td>3.0</td>\n",
       "    </tr>\n",
       "  </tbody>\n",
       "</table>\n",
       "<p>5 rows × 37 columns</p>\n",
       "</div>"
      ],
      "text/plain": [
       "                     innocent  sage  explorer  outlaw  magician  hero  lover  \\\n",
       "id                                                                             \n",
       "marek_grodzki             0.0   0.0       0.0     0.0       0.0   0.0    0.0   \n",
       "vege_style_life           0.0   0.0       4.0     0.0       0.0   0.0    0.0   \n",
       "oliwka__2007              0.0   0.0       0.0     0.0       0.0   0.0    0.0   \n",
       "z_przestrzeni_serca       4.0   0.0       0.0     0.0       0.0   0.0    0.0   \n",
       "zaradne_warsztaty         3.0   0.0       0.0     0.0       3.0   0.0    0.0   \n",
       "\n",
       "                     jester  everyman  caregiver  ...  protective  generous  \\\n",
       "id                                                ...                         \n",
       "marek_grodzki           4.0       0.0        0.0  ...         2.0       3.0   \n",
       "vege_style_life         0.0       0.0        0.0  ...         4.0       4.0   \n",
       "oliwka__2007            0.0       4.0        0.0  ...         2.0       2.0   \n",
       "z_przestrzeni_serca     0.0       0.0        0.0  ...         4.0       3.0   \n",
       "zaradne_warsztaty       2.0       3.0        4.0  ...         3.0       4.0   \n",
       "\n",
       "                     thrifty  favourable  balanced  sensuality  intelligent  \\\n",
       "id                                                                            \n",
       "marek_grodzki            4.0         4.0       3.0         4.0          4.0   \n",
       "vege_style_life          4.0         4.0       3.0         3.0          3.0   \n",
       "oliwka__2007             0.0         3.0       1.0         2.0          4.0   \n",
       "z_przestrzeni_serca      0.0         4.0       4.0         3.0          4.0   \n",
       "zaradne_warsztaty        0.0         2.0       2.0         4.0          2.0   \n",
       "\n",
       "                     believe  egocentric  allocentric  \n",
       "id                                                     \n",
       "marek_grodzki            3.0         0.0          0.0  \n",
       "vege_style_life          2.0         0.0          3.0  \n",
       "oliwka__2007             1.0         0.0          3.0  \n",
       "z_przestrzeni_serca      4.0         0.0          1.0  \n",
       "zaradne_warsztaty        3.0         1.0          3.0  \n",
       "\n",
       "[5 rows x 37 columns]"
      ]
     },
     "execution_count": 2,
     "metadata": {},
     "output_type": "execute_result"
    }
   ],
   "source": [
    "# Load the .csv with archetypes\n",
    "arch_df = pd.read_csv('archetypes_pl_new.csv', index_col=0)\n",
    "\n",
    "# Save the order of columns\n",
    "trait_list = arch_df.columns.tolist()\n",
    "\n",
    "# Show the table header and column list\n",
    "print(trait_list)\n",
    "arch_df.head()"
   ]
  },
  {
   "cell_type": "code",
   "execution_count": 3,
   "id": "0b7a5768-48e1-4cbf-ab83-1e0b300587ca",
   "metadata": {},
   "outputs": [
    {
     "data": {
      "text/html": [
       "<div>\n",
       "<style scoped>\n",
       "    .dataframe tbody tr th:only-of-type {\n",
       "        vertical-align: middle;\n",
       "    }\n",
       "\n",
       "    .dataframe tbody tr th {\n",
       "        vertical-align: top;\n",
       "    }\n",
       "\n",
       "    .dataframe thead th {\n",
       "        text-align: right;\n",
       "    }\n",
       "</style>\n",
       "<table border=\"1\" class=\"dataframe\">\n",
       "  <thead>\n",
       "    <tr style=\"text-align: right;\">\n",
       "      <th></th>\n",
       "      <th>innocent</th>\n",
       "      <th>sage</th>\n",
       "      <th>explorer</th>\n",
       "      <th>outlaw</th>\n",
       "      <th>magician</th>\n",
       "      <th>hero</th>\n",
       "      <th>lover</th>\n",
       "      <th>jester</th>\n",
       "      <th>everyman</th>\n",
       "      <th>caregiver</th>\n",
       "      <th>...</th>\n",
       "      <th>protective</th>\n",
       "      <th>generous</th>\n",
       "      <th>thrifty</th>\n",
       "      <th>favourable</th>\n",
       "      <th>balanced</th>\n",
       "      <th>sensuality</th>\n",
       "      <th>intelligent</th>\n",
       "      <th>believe</th>\n",
       "      <th>egocentric</th>\n",
       "      <th>allocentric</th>\n",
       "    </tr>\n",
       "    <tr>\n",
       "      <th>id</th>\n",
       "      <th></th>\n",
       "      <th></th>\n",
       "      <th></th>\n",
       "      <th></th>\n",
       "      <th></th>\n",
       "      <th></th>\n",
       "      <th></th>\n",
       "      <th></th>\n",
       "      <th></th>\n",
       "      <th></th>\n",
       "      <th></th>\n",
       "      <th></th>\n",
       "      <th></th>\n",
       "      <th></th>\n",
       "      <th></th>\n",
       "      <th></th>\n",
       "      <th></th>\n",
       "      <th></th>\n",
       "      <th></th>\n",
       "      <th></th>\n",
       "      <th></th>\n",
       "    </tr>\n",
       "  </thead>\n",
       "  <tbody>\n",
       "    <tr>\n",
       "      <th>marek_grodzki</th>\n",
       "      <td>0.0</td>\n",
       "      <td>0.0</td>\n",
       "      <td>0.0</td>\n",
       "      <td>0.0</td>\n",
       "      <td>0.0</td>\n",
       "      <td>0.0</td>\n",
       "      <td>0.0</td>\n",
       "      <td>4.0</td>\n",
       "      <td>0.0</td>\n",
       "      <td>0.0</td>\n",
       "      <td>...</td>\n",
       "      <td>2.0</td>\n",
       "      <td>3.0</td>\n",
       "      <td>4.0</td>\n",
       "      <td>4.0</td>\n",
       "      <td>3.0</td>\n",
       "      <td>4.0</td>\n",
       "      <td>4.0</td>\n",
       "      <td>3.0</td>\n",
       "      <td>0.0</td>\n",
       "      <td>0.0</td>\n",
       "    </tr>\n",
       "    <tr>\n",
       "      <th>vege_style_life</th>\n",
       "      <td>0.0</td>\n",
       "      <td>0.0</td>\n",
       "      <td>4.0</td>\n",
       "      <td>0.0</td>\n",
       "      <td>0.0</td>\n",
       "      <td>0.0</td>\n",
       "      <td>0.0</td>\n",
       "      <td>0.0</td>\n",
       "      <td>0.0</td>\n",
       "      <td>0.0</td>\n",
       "      <td>...</td>\n",
       "      <td>4.0</td>\n",
       "      <td>4.0</td>\n",
       "      <td>4.0</td>\n",
       "      <td>4.0</td>\n",
       "      <td>3.0</td>\n",
       "      <td>3.0</td>\n",
       "      <td>3.0</td>\n",
       "      <td>2.0</td>\n",
       "      <td>0.0</td>\n",
       "      <td>3.0</td>\n",
       "    </tr>\n",
       "    <tr>\n",
       "      <th>oliwka__2007</th>\n",
       "      <td>0.0</td>\n",
       "      <td>0.0</td>\n",
       "      <td>0.0</td>\n",
       "      <td>0.0</td>\n",
       "      <td>0.0</td>\n",
       "      <td>0.0</td>\n",
       "      <td>0.0</td>\n",
       "      <td>0.0</td>\n",
       "      <td>4.0</td>\n",
       "      <td>0.0</td>\n",
       "      <td>...</td>\n",
       "      <td>2.0</td>\n",
       "      <td>2.0</td>\n",
       "      <td>0.0</td>\n",
       "      <td>3.0</td>\n",
       "      <td>1.0</td>\n",
       "      <td>2.0</td>\n",
       "      <td>4.0</td>\n",
       "      <td>1.0</td>\n",
       "      <td>0.0</td>\n",
       "      <td>3.0</td>\n",
       "    </tr>\n",
       "    <tr>\n",
       "      <th>z_przestrzeni_serca</th>\n",
       "      <td>4.0</td>\n",
       "      <td>0.0</td>\n",
       "      <td>0.0</td>\n",
       "      <td>0.0</td>\n",
       "      <td>0.0</td>\n",
       "      <td>0.0</td>\n",
       "      <td>0.0</td>\n",
       "      <td>0.0</td>\n",
       "      <td>0.0</td>\n",
       "      <td>0.0</td>\n",
       "      <td>...</td>\n",
       "      <td>4.0</td>\n",
       "      <td>3.0</td>\n",
       "      <td>0.0</td>\n",
       "      <td>4.0</td>\n",
       "      <td>4.0</td>\n",
       "      <td>3.0</td>\n",
       "      <td>4.0</td>\n",
       "      <td>4.0</td>\n",
       "      <td>0.0</td>\n",
       "      <td>1.0</td>\n",
       "    </tr>\n",
       "    <tr>\n",
       "      <th>zaradne_warsztaty</th>\n",
       "      <td>3.0</td>\n",
       "      <td>0.0</td>\n",
       "      <td>0.0</td>\n",
       "      <td>0.0</td>\n",
       "      <td>3.0</td>\n",
       "      <td>0.0</td>\n",
       "      <td>0.0</td>\n",
       "      <td>2.0</td>\n",
       "      <td>3.0</td>\n",
       "      <td>4.0</td>\n",
       "      <td>...</td>\n",
       "      <td>3.0</td>\n",
       "      <td>4.0</td>\n",
       "      <td>0.0</td>\n",
       "      <td>2.0</td>\n",
       "      <td>2.0</td>\n",
       "      <td>4.0</td>\n",
       "      <td>2.0</td>\n",
       "      <td>3.0</td>\n",
       "      <td>1.0</td>\n",
       "      <td>3.0</td>\n",
       "    </tr>\n",
       "  </tbody>\n",
       "</table>\n",
       "<p>5 rows × 37 columns</p>\n",
       "</div>"
      ],
      "text/plain": [
       "                     innocent  sage  explorer  outlaw  magician  hero  lover  \\\n",
       "id                                                                             \n",
       "marek_grodzki             0.0   0.0       0.0     0.0       0.0   0.0    0.0   \n",
       "vege_style_life           0.0   0.0       4.0     0.0       0.0   0.0    0.0   \n",
       "oliwka__2007              0.0   0.0       0.0     0.0       0.0   0.0    0.0   \n",
       "z_przestrzeni_serca       4.0   0.0       0.0     0.0       0.0   0.0    0.0   \n",
       "zaradne_warsztaty         3.0   0.0       0.0     0.0       3.0   0.0    0.0   \n",
       "\n",
       "                     jester  everyman  caregiver  ...  protective  generous  \\\n",
       "id                                                ...                         \n",
       "marek_grodzki           4.0       0.0        0.0  ...         2.0       3.0   \n",
       "vege_style_life         0.0       0.0        0.0  ...         4.0       4.0   \n",
       "oliwka__2007            0.0       4.0        0.0  ...         2.0       2.0   \n",
       "z_przestrzeni_serca     0.0       0.0        0.0  ...         4.0       3.0   \n",
       "zaradne_warsztaty       2.0       3.0        4.0  ...         3.0       4.0   \n",
       "\n",
       "                     thrifty  favourable  balanced  sensuality  intelligent  \\\n",
       "id                                                                            \n",
       "marek_grodzki            4.0         4.0       3.0         4.0          4.0   \n",
       "vege_style_life          4.0         4.0       3.0         3.0          3.0   \n",
       "oliwka__2007             0.0         3.0       1.0         2.0          4.0   \n",
       "z_przestrzeni_serca      0.0         4.0       4.0         3.0          4.0   \n",
       "zaradne_warsztaty        0.0         2.0       2.0         4.0          2.0   \n",
       "\n",
       "                     believe  egocentric  allocentric  \n",
       "id                                                     \n",
       "marek_grodzki            3.0         0.0          0.0  \n",
       "vege_style_life          2.0         0.0          3.0  \n",
       "oliwka__2007             1.0         0.0          3.0  \n",
       "z_przestrzeni_serca      4.0         0.0          1.0  \n",
       "zaradne_warsztaty        3.0         1.0          3.0  \n",
       "\n",
       "[5 rows x 37 columns]"
      ]
     },
     "execution_count": 3,
     "metadata": {},
     "output_type": "execute_result"
    }
   ],
   "source": [
    "# Table preprocessing - replace all NaN with 2 (Unrelated/Don't know class), replace 0-5 values with the ones in range -1.0 - 1.0\n",
    "arch_df = arch_df.fillna(2)\n",
    "\n",
    "# Remove duplicated annotations, to exclude conflicting entries\n",
    "arch_df = arch_df[~arch_df.index.duplicated(keep='first')]\n",
    "\n",
    "# Print the head of the dataset after modification\n",
    "arch_df.head()"
   ]
  },
  {
   "cell_type": "code",
   "execution_count": 4,
   "id": "3194b6f5-4364-4dea-9377-50b794e010da",
   "metadata": {},
   "outputs": [
    {
     "data": {
      "application/vnd.jupyter.widget-view+json": {
       "model_id": "88ac8d04e7014bd9971978ca1233dcb1",
       "version_major": 2,
       "version_minor": 0
      },
      "text/plain": [
       "0it [00:00, ?it/s]"
      ]
     },
     "metadata": {},
     "output_type": "display_data"
    },
    {
     "data": {
      "application/vnd.jupyter.widget-view+json": {
       "model_id": "c9182a807ea34171927ef486b109ee22",
       "version_major": 2,
       "version_minor": 0
      },
      "text/plain": [
       "0it [00:00, ?it/s]"
      ]
     },
     "metadata": {},
     "output_type": "display_data"
    }
   ],
   "source": [
    "# Split dataset into train/test, in 75-25% proportion\n",
    "train_df = pd.read_csv(\"agds_structures/train_90.csv\", index_col=0)\n",
    "test_df = pd.read_csv(\"agds_structures/test_10.csv\", index_col=0)\n",
    "\n",
    "BASE_DIR = \"instagram_cleared\"\n",
    "\n",
    "def generate_dataset(dataset_frame):\n",
    "    posts = []\n",
    "\n",
    "    # Iterate over whole DataFrame\n",
    "    for i, row in tqdm(dataset_frame.iterrows()):\n",
    "        profile_posts = []\n",
    "        profile_hashtags = []\n",
    "\n",
    "        # Get all posts per profile\n",
    "        profile_path = os.path.join(BASE_DIR, i)\n",
    "        for file in os.listdir(profile_path):\n",
    "            if not file.endswith(\".toml\"):\n",
    "                with open(os.path.join(profile_path, file), \"r\") as post_f:\n",
    "                    read_text = post_f.read()\n",
    "                    profile_posts.append(remove_stopwords(clean_up_text(read_text)))\n",
    "                    profile_hashtags.append(extract_hashtags(read_text))\n",
    "\n",
    "        # Merge lists - a single list for a single influencer\n",
    "        profile_hashtags = list(itertools.chain.from_iterable(profile_hashtags))\n",
    "        posts.append(list(itertools.chain.from_iterable([profile_posts, [profile_hashtags]])))\n",
    "    return posts\n",
    "\n",
    "train_posts = generate_dataset(train_df)\n",
    "test_posts = generate_dataset(test_df)"
   ]
  },
  {
   "cell_type": "code",
   "execution_count": 5,
   "id": "e8a1b438-f3a8-4dc6-85e3-7c204973b8e4",
   "metadata": {},
   "outputs": [],
   "source": [
    "# Map training usernames to indices\n",
    "users = list(train_df.index.values)\n",
    "user_indices = {k: users.index(k) for k in users}"
   ]
  },
  {
   "cell_type": "code",
   "execution_count": 6,
   "id": "0517283e-c05d-4ecd-9789-f296b35a46d9",
   "metadata": {},
   "outputs": [],
   "source": [
    "# Load softmax AGDS model\n",
    "with open(\"agds_structures/finetuned_s90_10_word_trait_array.pickle\", \"rb\") as f:\n",
    "    softmax_word_df = pickle.load(f)"
   ]
  },
  {
   "cell_type": "code",
   "execution_count": 7,
   "id": "a86afd7f-eee2-4522-9852-a18f0e1125a8",
   "metadata": {
    "collapsed": true,
    "jupyter": {
     "outputs_hidden": true,
     "source_hidden": true
    },
    "tags": []
   },
   "outputs": [
    {
     "data": {
      "application/vnd.jupyter.widget-view+json": {
       "model_id": "a1480736138f4566aaf318ab04041e00",
       "version_major": 2,
       "version_minor": 0
      },
      "text/plain": [
       "  0%|          | 0/37 [00:00<?, ?it/s]"
      ]
     },
     "metadata": {},
     "output_type": "display_data"
    },
    {
     "data": {
      "application/vnd.jupyter.widget-view+json": {
       "model_id": "e2ae1a8170b74eb8a41e1a4e6f17ae6d",
       "version_major": 2,
       "version_minor": 0
      },
      "text/plain": [
       "  0%|          | 0/211596 [00:00<?, ?it/s]"
      ]
     },
     "metadata": {},
     "output_type": "display_data"
    },
    {
     "data": {
      "application/vnd.jupyter.widget-view+json": {
       "model_id": "6af965865fc94d92bc19eb130dd295fc",
       "version_major": 2,
       "version_minor": 0
      },
      "text/plain": [
       "  0%|          | 0/211596 [00:00<?, ?it/s]"
      ]
     },
     "metadata": {},
     "output_type": "display_data"
    },
    {
     "data": {
      "application/vnd.jupyter.widget-view+json": {
       "model_id": "715f138e2e9c4f958ba69cb0bc7879e7",
       "version_major": 2,
       "version_minor": 0
      },
      "text/plain": [
       "  0%|          | 0/211596 [00:00<?, ?it/s]"
      ]
     },
     "metadata": {},
     "output_type": "display_data"
    },
    {
     "data": {
      "application/vnd.jupyter.widget-view+json": {
       "model_id": "fc2f587653584dc7a54f6acbadae12de",
       "version_major": 2,
       "version_minor": 0
      },
      "text/plain": [
       "  0%|          | 0/211596 [00:00<?, ?it/s]"
      ]
     },
     "metadata": {},
     "output_type": "display_data"
    },
    {
     "data": {
      "application/vnd.jupyter.widget-view+json": {
       "model_id": "8085473f51ea42e49bee8602e3470d42",
       "version_major": 2,
       "version_minor": 0
      },
      "text/plain": [
       "  0%|          | 0/211596 [00:00<?, ?it/s]"
      ]
     },
     "metadata": {},
     "output_type": "display_data"
    },
    {
     "data": {
      "application/vnd.jupyter.widget-view+json": {
       "model_id": "be87f76ae44244ed8bf35a769d46ea85",
       "version_major": 2,
       "version_minor": 0
      },
      "text/plain": [
       "  0%|          | 0/211596 [00:00<?, ?it/s]"
      ]
     },
     "metadata": {},
     "output_type": "display_data"
    },
    {
     "data": {
      "application/vnd.jupyter.widget-view+json": {
       "model_id": "b5f26c1fb6f94ee3b360f7fb954cf3c5",
       "version_major": 2,
       "version_minor": 0
      },
      "text/plain": [
       "  0%|          | 0/211596 [00:00<?, ?it/s]"
      ]
     },
     "metadata": {},
     "output_type": "display_data"
    },
    {
     "data": {
      "application/vnd.jupyter.widget-view+json": {
       "model_id": "8278a58cefae4e2c8a14ea9518e25360",
       "version_major": 2,
       "version_minor": 0
      },
      "text/plain": [
       "  0%|          | 0/211596 [00:00<?, ?it/s]"
      ]
     },
     "metadata": {},
     "output_type": "display_data"
    },
    {
     "data": {
      "application/vnd.jupyter.widget-view+json": {
       "model_id": "ec64b3913c524472923f380cd3779354",
       "version_major": 2,
       "version_minor": 0
      },
      "text/plain": [
       "  0%|          | 0/211596 [00:00<?, ?it/s]"
      ]
     },
     "metadata": {},
     "output_type": "display_data"
    },
    {
     "data": {
      "application/vnd.jupyter.widget-view+json": {
       "model_id": "af6d32e2a8da4773a0ead2fbdfd71465",
       "version_major": 2,
       "version_minor": 0
      },
      "text/plain": [
       "  0%|          | 0/211596 [00:00<?, ?it/s]"
      ]
     },
     "metadata": {},
     "output_type": "display_data"
    },
    {
     "data": {
      "application/vnd.jupyter.widget-view+json": {
       "model_id": "269844ba18c04dc7962404bfd238ee08",
       "version_major": 2,
       "version_minor": 0
      },
      "text/plain": [
       "  0%|          | 0/211596 [00:00<?, ?it/s]"
      ]
     },
     "metadata": {},
     "output_type": "display_data"
    },
    {
     "data": {
      "application/vnd.jupyter.widget-view+json": {
       "model_id": "6c8a761baf31442188e504db51a32dfd",
       "version_major": 2,
       "version_minor": 0
      },
      "text/plain": [
       "  0%|          | 0/211596 [00:00<?, ?it/s]"
      ]
     },
     "metadata": {},
     "output_type": "display_data"
    },
    {
     "data": {
      "application/vnd.jupyter.widget-view+json": {
       "model_id": "58700c1767964f699bac6a27ad96c7ee",
       "version_major": 2,
       "version_minor": 0
      },
      "text/plain": [
       "  0%|          | 0/211596 [00:00<?, ?it/s]"
      ]
     },
     "metadata": {},
     "output_type": "display_data"
    },
    {
     "data": {
      "application/vnd.jupyter.widget-view+json": {
       "model_id": "16342123c9e74ed88effb8e30bdc0dbb",
       "version_major": 2,
       "version_minor": 0
      },
      "text/plain": [
       "  0%|          | 0/211596 [00:00<?, ?it/s]"
      ]
     },
     "metadata": {},
     "output_type": "display_data"
    },
    {
     "data": {
      "application/vnd.jupyter.widget-view+json": {
       "model_id": "20a7892ecde749b8b27a506dcbbea603",
       "version_major": 2,
       "version_minor": 0
      },
      "text/plain": [
       "  0%|          | 0/211596 [00:00<?, ?it/s]"
      ]
     },
     "metadata": {},
     "output_type": "display_data"
    },
    {
     "data": {
      "application/vnd.jupyter.widget-view+json": {
       "model_id": "599e02e588e741e3b54f5c2be963b8f2",
       "version_major": 2,
       "version_minor": 0
      },
      "text/plain": [
       "  0%|          | 0/211596 [00:00<?, ?it/s]"
      ]
     },
     "metadata": {},
     "output_type": "display_data"
    },
    {
     "data": {
      "application/vnd.jupyter.widget-view+json": {
       "model_id": "b26f2f47068d4001b3abeb62afe2f5d7",
       "version_major": 2,
       "version_minor": 0
      },
      "text/plain": [
       "  0%|          | 0/211596 [00:00<?, ?it/s]"
      ]
     },
     "metadata": {},
     "output_type": "display_data"
    },
    {
     "data": {
      "application/vnd.jupyter.widget-view+json": {
       "model_id": "5cbd7da2f2fe462792e63baee1262a23",
       "version_major": 2,
       "version_minor": 0
      },
      "text/plain": [
       "  0%|          | 0/211596 [00:00<?, ?it/s]"
      ]
     },
     "metadata": {},
     "output_type": "display_data"
    },
    {
     "data": {
      "application/vnd.jupyter.widget-view+json": {
       "model_id": "157110413bfd4f49a75e0abfa15faa04",
       "version_major": 2,
       "version_minor": 0
      },
      "text/plain": [
       "  0%|          | 0/211596 [00:00<?, ?it/s]"
      ]
     },
     "metadata": {},
     "output_type": "display_data"
    },
    {
     "data": {
      "application/vnd.jupyter.widget-view+json": {
       "model_id": "3e629664dd9741f59f76e4c8677c5da2",
       "version_major": 2,
       "version_minor": 0
      },
      "text/plain": [
       "  0%|          | 0/211596 [00:00<?, ?it/s]"
      ]
     },
     "metadata": {},
     "output_type": "display_data"
    },
    {
     "data": {
      "application/vnd.jupyter.widget-view+json": {
       "model_id": "866f3d8aa1ee4c45811ff40a0dc448d8",
       "version_major": 2,
       "version_minor": 0
      },
      "text/plain": [
       "  0%|          | 0/211596 [00:00<?, ?it/s]"
      ]
     },
     "metadata": {},
     "output_type": "display_data"
    },
    {
     "data": {
      "application/vnd.jupyter.widget-view+json": {
       "model_id": "33192ce8548546ca8135cc698c8e193c",
       "version_major": 2,
       "version_minor": 0
      },
      "text/plain": [
       "  0%|          | 0/211596 [00:00<?, ?it/s]"
      ]
     },
     "metadata": {},
     "output_type": "display_data"
    },
    {
     "data": {
      "application/vnd.jupyter.widget-view+json": {
       "model_id": "d0c7d3a262924332b7ad4ee9e7235fbe",
       "version_major": 2,
       "version_minor": 0
      },
      "text/plain": [
       "  0%|          | 0/211596 [00:00<?, ?it/s]"
      ]
     },
     "metadata": {},
     "output_type": "display_data"
    },
    {
     "data": {
      "application/vnd.jupyter.widget-view+json": {
       "model_id": "a0ac4c7135ab4136a3d8219ee7b611c3",
       "version_major": 2,
       "version_minor": 0
      },
      "text/plain": [
       "  0%|          | 0/211596 [00:00<?, ?it/s]"
      ]
     },
     "metadata": {},
     "output_type": "display_data"
    },
    {
     "data": {
      "application/vnd.jupyter.widget-view+json": {
       "model_id": "d1736efa353049b8ae02882d2489f7d2",
       "version_major": 2,
       "version_minor": 0
      },
      "text/plain": [
       "  0%|          | 0/211596 [00:00<?, ?it/s]"
      ]
     },
     "metadata": {},
     "output_type": "display_data"
    },
    {
     "data": {
      "application/vnd.jupyter.widget-view+json": {
       "model_id": "d8044d0f9ad14fcfa0ce39480f74f47c",
       "version_major": 2,
       "version_minor": 0
      },
      "text/plain": [
       "  0%|          | 0/211596 [00:00<?, ?it/s]"
      ]
     },
     "metadata": {},
     "output_type": "display_data"
    },
    {
     "data": {
      "application/vnd.jupyter.widget-view+json": {
       "model_id": "9575e91a33074fd1bab079def11cb1d1",
       "version_major": 2,
       "version_minor": 0
      },
      "text/plain": [
       "  0%|          | 0/211596 [00:00<?, ?it/s]"
      ]
     },
     "metadata": {},
     "output_type": "display_data"
    },
    {
     "data": {
      "application/vnd.jupyter.widget-view+json": {
       "model_id": "f3b8ce61087943589c800c63bcedd3d2",
       "version_major": 2,
       "version_minor": 0
      },
      "text/plain": [
       "  0%|          | 0/211596 [00:00<?, ?it/s]"
      ]
     },
     "metadata": {},
     "output_type": "display_data"
    },
    {
     "data": {
      "application/vnd.jupyter.widget-view+json": {
       "model_id": "75105d8ee1a44a5e8c2ac16954a8186d",
       "version_major": 2,
       "version_minor": 0
      },
      "text/plain": [
       "  0%|          | 0/211596 [00:00<?, ?it/s]"
      ]
     },
     "metadata": {},
     "output_type": "display_data"
    },
    {
     "data": {
      "application/vnd.jupyter.widget-view+json": {
       "model_id": "92f94ec970b848179289d3826c086ef2",
       "version_major": 2,
       "version_minor": 0
      },
      "text/plain": [
       "  0%|          | 0/211596 [00:00<?, ?it/s]"
      ]
     },
     "metadata": {},
     "output_type": "display_data"
    },
    {
     "data": {
      "application/vnd.jupyter.widget-view+json": {
       "model_id": "d2654f134b1540ab86146ee7d51d5411",
       "version_major": 2,
       "version_minor": 0
      },
      "text/plain": [
       "  0%|          | 0/211596 [00:00<?, ?it/s]"
      ]
     },
     "metadata": {},
     "output_type": "display_data"
    },
    {
     "data": {
      "application/vnd.jupyter.widget-view+json": {
       "model_id": "8958b3082e5a45e28a085cba83a1e561",
       "version_major": 2,
       "version_minor": 0
      },
      "text/plain": [
       "  0%|          | 0/211596 [00:00<?, ?it/s]"
      ]
     },
     "metadata": {},
     "output_type": "display_data"
    },
    {
     "data": {
      "application/vnd.jupyter.widget-view+json": {
       "model_id": "71007021b2bb4f6da6035b04ff5f2764",
       "version_major": 2,
       "version_minor": 0
      },
      "text/plain": [
       "  0%|          | 0/211596 [00:00<?, ?it/s]"
      ]
     },
     "metadata": {},
     "output_type": "display_data"
    },
    {
     "data": {
      "application/vnd.jupyter.widget-view+json": {
       "model_id": "063abb9de9c04eb0b6bae376a3a3706d",
       "version_major": 2,
       "version_minor": 0
      },
      "text/plain": [
       "  0%|          | 0/211596 [00:00<?, ?it/s]"
      ]
     },
     "metadata": {},
     "output_type": "display_data"
    },
    {
     "data": {
      "application/vnd.jupyter.widget-view+json": {
       "model_id": "490cd7f0b494439a9c8871c12f56abdf",
       "version_major": 2,
       "version_minor": 0
      },
      "text/plain": [
       "  0%|          | 0/211596 [00:00<?, ?it/s]"
      ]
     },
     "metadata": {},
     "output_type": "display_data"
    },
    {
     "data": {
      "application/vnd.jupyter.widget-view+json": {
       "model_id": "d8872042bb9040a3874441e29075e5ee",
       "version_major": 2,
       "version_minor": 0
      },
      "text/plain": [
       "  0%|          | 0/211596 [00:00<?, ?it/s]"
      ]
     },
     "metadata": {},
     "output_type": "display_data"
    },
    {
     "data": {
      "application/vnd.jupyter.widget-view+json": {
       "model_id": "01bc97ee29ce4f90a793ba5cf3a87327",
       "version_major": 2,
       "version_minor": 0
      },
      "text/plain": [
       "  0%|          | 0/211596 [00:00<?, ?it/s]"
      ]
     },
     "metadata": {},
     "output_type": "display_data"
    }
   ],
   "source": [
    "# AGDS - discrete approach\n",
    "\n",
    "def merge_dicts(dict_a, dict_b) -> dict:\n",
    "    out_dict = dict_a\n",
    "    for k, v in dict_b.items():\n",
    "        if k in out_dict.keys():\n",
    "            out_dict[k] += v\n",
    "        else:\n",
    "            out_dict[k] = v\n",
    "    return out_dict\n",
    "\n",
    "def min_max_normalize(df_to_normalize):\n",
    "    normalized_df = df_to_normalize\n",
    "    cols = normalized_df.columns.tolist()\n",
    "    for col in tqdm(cols, position=1):\n",
    "        normalized_df[col] = (normalized_df[col] - normalized_df[col].min()) / (normalized_df[col].max() - normalized_df[col].min())\n",
    "    return normalized_df\n",
    "    \n",
    "\n",
    "# Iterate over all of the traits/archetypes\n",
    "word_set = set()\n",
    "trait_df_list = []\n",
    "for trait in tqdm(trait_list, position=0):\n",
    "    # Select influencers which have the given archetype annotated\n",
    "    subset_df = train_df[trait]\n",
    "    trait_subframe = pd.DataFrame()\n",
    "    for trait_class in range(5):\n",
    "        class_df = subset_df.loc[subset_df == trait_class]\n",
    "        subset_indices = [user_indices[idx] for idx in class_df.index.values]\n",
    "\n",
    "        # Get all posts for the list of influencers\n",
    "        f = operator.itemgetter(*subset_indices)\n",
    "        sublist = list(f(train_posts))\n",
    "\n",
    "        # Counter to calculate each word occurrences\n",
    "        trait_total = 0\n",
    "        out_dict = {}\n",
    "        for i, post_set in enumerate(sublist):\n",
    "            trait_ctr = Counter(itertools.chain.from_iterable(post_set))\n",
    "            trait_total += sum(trait_ctr.values())\n",
    "            out_dict = merge_dicts(out_dict, trait_ctr)\n",
    "        out_dict = {k: float(v / trait_total) for k, v in out_dict.items()}\n",
    "        word_set.update(out_dict.keys())\n",
    "        trait_ctr = {trait_class: out_dict}\n",
    "        trait_tmp_df = pd.DataFrame.from_dict(trait_ctr, orient=\"index\")\n",
    "        trait_subframe = trait_subframe.append(trait_tmp_df)\n",
    "\n",
    "    # Append the new dataframe\n",
    "    #word_df = word_df.append(trait_subframe)\n",
    "    \n",
    "    trait_subframe = min_max_normalize(trait_subframe)\n",
    "    trait_df_list.append(trait_subframe)\n",
    "    \n",
    "softmax_word_df = pd.concat(trait_df_list, keys=trait_list)"
   ]
  },
  {
   "cell_type": "code",
   "execution_count": 8,
   "id": "0e9589d9-f488-42a4-8594-f52bd7c6fdc1",
   "metadata": {
    "collapsed": true,
    "jupyter": {
     "outputs_hidden": true,
     "source_hidden": true
    },
    "tags": []
   },
   "outputs": [
    {
     "data": {
      "text/html": [
       "<div>\n",
       "<style scoped>\n",
       "    .dataframe tbody tr th:only-of-type {\n",
       "        vertical-align: middle;\n",
       "    }\n",
       "\n",
       "    .dataframe tbody tr th {\n",
       "        vertical-align: top;\n",
       "    }\n",
       "\n",
       "    .dataframe thead th {\n",
       "        text-align: right;\n",
       "    }\n",
       "</style>\n",
       "<table border=\"1\" class=\"dataframe\">\n",
       "  <thead>\n",
       "    <tr style=\"text-align: right;\">\n",
       "      <th></th>\n",
       "      <th></th>\n",
       "      <th>good</th>\n",
       "      <th>morning</th>\n",
       "      <th>wish</th>\n",
       "      <th>you</th>\n",
       "      <th>nice</th>\n",
       "      <th>relaxing</th>\n",
       "      <th>thursday</th>\n",
       "      <th>saturday</th>\n",
       "      <th>friday</th>\n",
       "      <th>start</th>\n",
       "      <th>...</th>\n",
       "      <th>#używane</th>\n",
       "      <th>#podzielnia</th>\n",
       "      <th>#ekobiuro</th>\n",
       "      <th>#goHi2020</th>\n",
       "      <th>#hackaton</th>\n",
       "      <th>#jachranka</th>\n",
       "      <th>#greenladies</th>\n",
       "      <th>#greenguys</th>\n",
       "      <th>#polishheroes</th>\n",
       "      <th>#bestgifts</th>\n",
       "    </tr>\n",
       "  </thead>\n",
       "  <tbody>\n",
       "    <tr>\n",
       "      <th rowspan=\"5\" valign=\"top\">innocent</th>\n",
       "      <th>0</th>\n",
       "      <td>1.000000</td>\n",
       "      <td>1.000000</td>\n",
       "      <td>1.000000</td>\n",
       "      <td>0.985589</td>\n",
       "      <td>1.000000</td>\n",
       "      <td>1.000000</td>\n",
       "      <td>1.000000</td>\n",
       "      <td>1.000000</td>\n",
       "      <td>0.579753</td>\n",
       "      <td>1.000000</td>\n",
       "      <td>...</td>\n",
       "      <td>NaN</td>\n",
       "      <td>NaN</td>\n",
       "      <td>NaN</td>\n",
       "      <td>NaN</td>\n",
       "      <td>NaN</td>\n",
       "      <td>NaN</td>\n",
       "      <td>NaN</td>\n",
       "      <td>NaN</td>\n",
       "      <td>NaN</td>\n",
       "      <td>NaN</td>\n",
       "    </tr>\n",
       "    <tr>\n",
       "      <th>1</th>\n",
       "      <td>0.164918</td>\n",
       "      <td>0.363648</td>\n",
       "      <td>0.005689</td>\n",
       "      <td>1.000000</td>\n",
       "      <td>0.000000</td>\n",
       "      <td>NaN</td>\n",
       "      <td>NaN</td>\n",
       "      <td>NaN</td>\n",
       "      <td>1.000000</td>\n",
       "      <td>0.437572</td>\n",
       "      <td>...</td>\n",
       "      <td>NaN</td>\n",
       "      <td>NaN</td>\n",
       "      <td>NaN</td>\n",
       "      <td>NaN</td>\n",
       "      <td>NaN</td>\n",
       "      <td>NaN</td>\n",
       "      <td>NaN</td>\n",
       "      <td>NaN</td>\n",
       "      <td>NaN</td>\n",
       "      <td>NaN</td>\n",
       "    </tr>\n",
       "    <tr>\n",
       "      <th>2</th>\n",
       "      <td>0.059452</td>\n",
       "      <td>0.032827</td>\n",
       "      <td>0.000000</td>\n",
       "      <td>0.885980</td>\n",
       "      <td>0.026943</td>\n",
       "      <td>0.003168</td>\n",
       "      <td>0.000000</td>\n",
       "      <td>0.000000</td>\n",
       "      <td>0.097603</td>\n",
       "      <td>0.325299</td>\n",
       "      <td>...</td>\n",
       "      <td>NaN</td>\n",
       "      <td>NaN</td>\n",
       "      <td>NaN</td>\n",
       "      <td>NaN</td>\n",
       "      <td>NaN</td>\n",
       "      <td>NaN</td>\n",
       "      <td>NaN</td>\n",
       "      <td>NaN</td>\n",
       "      <td>NaN</td>\n",
       "      <td>NaN</td>\n",
       "    </tr>\n",
       "    <tr>\n",
       "      <th>3</th>\n",
       "      <td>0.053402</td>\n",
       "      <td>0.063776</td>\n",
       "      <td>0.003512</td>\n",
       "      <td>0.250463</td>\n",
       "      <td>0.024454</td>\n",
       "      <td>0.000000</td>\n",
       "      <td>0.021592</td>\n",
       "      <td>0.062854</td>\n",
       "      <td>0.216949</td>\n",
       "      <td>0.151777</td>\n",
       "      <td>...</td>\n",
       "      <td>NaN</td>\n",
       "      <td>NaN</td>\n",
       "      <td>NaN</td>\n",
       "      <td>NaN</td>\n",
       "      <td>NaN</td>\n",
       "      <td>NaN</td>\n",
       "      <td>NaN</td>\n",
       "      <td>NaN</td>\n",
       "      <td>NaN</td>\n",
       "      <td>NaN</td>\n",
       "    </tr>\n",
       "    <tr>\n",
       "      <th>4</th>\n",
       "      <td>0.000000</td>\n",
       "      <td>0.000000</td>\n",
       "      <td>NaN</td>\n",
       "      <td>0.000000</td>\n",
       "      <td>0.013889</td>\n",
       "      <td>NaN</td>\n",
       "      <td>NaN</td>\n",
       "      <td>NaN</td>\n",
       "      <td>0.000000</td>\n",
       "      <td>0.000000</td>\n",
       "      <td>...</td>\n",
       "      <td>NaN</td>\n",
       "      <td>NaN</td>\n",
       "      <td>NaN</td>\n",
       "      <td>NaN</td>\n",
       "      <td>NaN</td>\n",
       "      <td>NaN</td>\n",
       "      <td>NaN</td>\n",
       "      <td>NaN</td>\n",
       "      <td>NaN</td>\n",
       "      <td>NaN</td>\n",
       "    </tr>\n",
       "    <tr>\n",
       "      <th>...</th>\n",
       "      <th>...</th>\n",
       "      <td>...</td>\n",
       "      <td>...</td>\n",
       "      <td>...</td>\n",
       "      <td>...</td>\n",
       "      <td>...</td>\n",
       "      <td>...</td>\n",
       "      <td>...</td>\n",
       "      <td>...</td>\n",
       "      <td>...</td>\n",
       "      <td>...</td>\n",
       "      <td>...</td>\n",
       "      <td>...</td>\n",
       "      <td>...</td>\n",
       "      <td>...</td>\n",
       "      <td>...</td>\n",
       "      <td>...</td>\n",
       "      <td>...</td>\n",
       "      <td>...</td>\n",
       "      <td>...</td>\n",
       "      <td>...</td>\n",
       "      <td>...</td>\n",
       "    </tr>\n",
       "    <tr>\n",
       "      <th rowspan=\"5\" valign=\"top\">allocentric</th>\n",
       "      <th>0</th>\n",
       "      <td>0.661119</td>\n",
       "      <td>1.000000</td>\n",
       "      <td>NaN</td>\n",
       "      <td>0.689478</td>\n",
       "      <td>0.441220</td>\n",
       "      <td>NaN</td>\n",
       "      <td>NaN</td>\n",
       "      <td>1.000000</td>\n",
       "      <td>0.568315</td>\n",
       "      <td>0.000000</td>\n",
       "      <td>...</td>\n",
       "      <td>NaN</td>\n",
       "      <td>NaN</td>\n",
       "      <td>NaN</td>\n",
       "      <td>NaN</td>\n",
       "      <td>NaN</td>\n",
       "      <td>NaN</td>\n",
       "      <td>NaN</td>\n",
       "      <td>NaN</td>\n",
       "      <td>NaN</td>\n",
       "      <td>NaN</td>\n",
       "    </tr>\n",
       "    <tr>\n",
       "      <th>1</th>\n",
       "      <td>1.000000</td>\n",
       "      <td>0.443374</td>\n",
       "      <td>1.000000</td>\n",
       "      <td>0.659732</td>\n",
       "      <td>1.000000</td>\n",
       "      <td>1.000000</td>\n",
       "      <td>1.000000</td>\n",
       "      <td>0.485613</td>\n",
       "      <td>0.956797</td>\n",
       "      <td>0.605759</td>\n",
       "      <td>...</td>\n",
       "      <td>NaN</td>\n",
       "      <td>NaN</td>\n",
       "      <td>NaN</td>\n",
       "      <td>NaN</td>\n",
       "      <td>NaN</td>\n",
       "      <td>NaN</td>\n",
       "      <td>NaN</td>\n",
       "      <td>NaN</td>\n",
       "      <td>NaN</td>\n",
       "      <td>NaN</td>\n",
       "    </tr>\n",
       "    <tr>\n",
       "      <th>2</th>\n",
       "      <td>0.028338</td>\n",
       "      <td>0.171131</td>\n",
       "      <td>0.000000</td>\n",
       "      <td>0.000000</td>\n",
       "      <td>0.000000</td>\n",
       "      <td>NaN</td>\n",
       "      <td>NaN</td>\n",
       "      <td>NaN</td>\n",
       "      <td>0.000000</td>\n",
       "      <td>0.113663</td>\n",
       "      <td>...</td>\n",
       "      <td>NaN</td>\n",
       "      <td>NaN</td>\n",
       "      <td>NaN</td>\n",
       "      <td>NaN</td>\n",
       "      <td>NaN</td>\n",
       "      <td>NaN</td>\n",
       "      <td>NaN</td>\n",
       "      <td>NaN</td>\n",
       "      <td>NaN</td>\n",
       "      <td>NaN</td>\n",
       "    </tr>\n",
       "    <tr>\n",
       "      <th>3</th>\n",
       "      <td>0.000000</td>\n",
       "      <td>0.078641</td>\n",
       "      <td>0.060778</td>\n",
       "      <td>0.162895</td>\n",
       "      <td>0.168929</td>\n",
       "      <td>NaN</td>\n",
       "      <td>NaN</td>\n",
       "      <td>0.139209</td>\n",
       "      <td>1.000000</td>\n",
       "      <td>0.426277</td>\n",
       "      <td>...</td>\n",
       "      <td>NaN</td>\n",
       "      <td>NaN</td>\n",
       "      <td>NaN</td>\n",
       "      <td>NaN</td>\n",
       "      <td>NaN</td>\n",
       "      <td>NaN</td>\n",
       "      <td>NaN</td>\n",
       "      <td>NaN</td>\n",
       "      <td>NaN</td>\n",
       "      <td>NaN</td>\n",
       "    </tr>\n",
       "    <tr>\n",
       "      <th>4</th>\n",
       "      <td>0.213404</td>\n",
       "      <td>0.000000</td>\n",
       "      <td>0.041266</td>\n",
       "      <td>1.000000</td>\n",
       "      <td>0.086842</td>\n",
       "      <td>0.000000</td>\n",
       "      <td>0.000000</td>\n",
       "      <td>0.000000</td>\n",
       "      <td>0.410081</td>\n",
       "      <td>1.000000</td>\n",
       "      <td>...</td>\n",
       "      <td>NaN</td>\n",
       "      <td>NaN</td>\n",
       "      <td>NaN</td>\n",
       "      <td>NaN</td>\n",
       "      <td>NaN</td>\n",
       "      <td>NaN</td>\n",
       "      <td>NaN</td>\n",
       "      <td>NaN</td>\n",
       "      <td>NaN</td>\n",
       "      <td>NaN</td>\n",
       "    </tr>\n",
       "  </tbody>\n",
       "</table>\n",
       "<p>185 rows × 211596 columns</p>\n",
       "</div>"
      ],
      "text/plain": [
       "                   good   morning      wish       you      nice  relaxing  \\\n",
       "innocent    0  1.000000  1.000000  1.000000  0.985589  1.000000  1.000000   \n",
       "            1  0.164918  0.363648  0.005689  1.000000  0.000000       NaN   \n",
       "            2  0.059452  0.032827  0.000000  0.885980  0.026943  0.003168   \n",
       "            3  0.053402  0.063776  0.003512  0.250463  0.024454  0.000000   \n",
       "            4  0.000000  0.000000       NaN  0.000000  0.013889       NaN   \n",
       "...                 ...       ...       ...       ...       ...       ...   \n",
       "allocentric 0  0.661119  1.000000       NaN  0.689478  0.441220       NaN   \n",
       "            1  1.000000  0.443374  1.000000  0.659732  1.000000  1.000000   \n",
       "            2  0.028338  0.171131  0.000000  0.000000  0.000000       NaN   \n",
       "            3  0.000000  0.078641  0.060778  0.162895  0.168929       NaN   \n",
       "            4  0.213404  0.000000  0.041266  1.000000  0.086842  0.000000   \n",
       "\n",
       "               thursday  saturday    friday     start  ...  #używane  \\\n",
       "innocent    0  1.000000  1.000000  0.579753  1.000000  ...       NaN   \n",
       "            1       NaN       NaN  1.000000  0.437572  ...       NaN   \n",
       "            2  0.000000  0.000000  0.097603  0.325299  ...       NaN   \n",
       "            3  0.021592  0.062854  0.216949  0.151777  ...       NaN   \n",
       "            4       NaN       NaN  0.000000  0.000000  ...       NaN   \n",
       "...                 ...       ...       ...       ...  ...       ...   \n",
       "allocentric 0       NaN  1.000000  0.568315  0.000000  ...       NaN   \n",
       "            1  1.000000  0.485613  0.956797  0.605759  ...       NaN   \n",
       "            2       NaN       NaN  0.000000  0.113663  ...       NaN   \n",
       "            3       NaN  0.139209  1.000000  0.426277  ...       NaN   \n",
       "            4  0.000000  0.000000  0.410081  1.000000  ...       NaN   \n",
       "\n",
       "               #podzielnia  #ekobiuro  #goHi2020  #hackaton  #jachranka  \\\n",
       "innocent    0          NaN        NaN        NaN        NaN         NaN   \n",
       "            1          NaN        NaN        NaN        NaN         NaN   \n",
       "            2          NaN        NaN        NaN        NaN         NaN   \n",
       "            3          NaN        NaN        NaN        NaN         NaN   \n",
       "            4          NaN        NaN        NaN        NaN         NaN   \n",
       "...                    ...        ...        ...        ...         ...   \n",
       "allocentric 0          NaN        NaN        NaN        NaN         NaN   \n",
       "            1          NaN        NaN        NaN        NaN         NaN   \n",
       "            2          NaN        NaN        NaN        NaN         NaN   \n",
       "            3          NaN        NaN        NaN        NaN         NaN   \n",
       "            4          NaN        NaN        NaN        NaN         NaN   \n",
       "\n",
       "               #greenladies  #greenguys  #polishheroes  #bestgifts  \n",
       "innocent    0           NaN         NaN            NaN         NaN  \n",
       "            1           NaN         NaN            NaN         NaN  \n",
       "            2           NaN         NaN            NaN         NaN  \n",
       "            3           NaN         NaN            NaN         NaN  \n",
       "            4           NaN         NaN            NaN         NaN  \n",
       "...                     ...         ...            ...         ...  \n",
       "allocentric 0           NaN         NaN            NaN         NaN  \n",
       "            1           NaN         NaN            NaN         NaN  \n",
       "            2           NaN         NaN            NaN         NaN  \n",
       "            3           NaN         NaN            NaN         NaN  \n",
       "            4           NaN         NaN            NaN         NaN  \n",
       "\n",
       "[185 rows x 211596 columns]"
      ]
     },
     "execution_count": 8,
     "metadata": {},
     "output_type": "execute_result"
    }
   ],
   "source": [
    "# Check the calculation results\n",
    "softmax_word_df"
   ]
  },
  {
   "cell_type": "code",
   "execution_count": 9,
   "id": "d5344edd-e02d-41cb-a70a-1ed996244cd6",
   "metadata": {},
   "outputs": [],
   "source": [
    "# Fill NaN values with 0\n",
    "softmax_word_df = softmax_word_df.fillna(0)\n",
    "\n",
    "softmax_word_df.to_pickle(\"normalized_s90_10_word_trait_array.pickle\")"
   ]
  },
  {
   "cell_type": "code",
   "execution_count": 7,
   "id": "92a05f6f-6048-4bac-95a2-d9229399c2bb",
   "metadata": {},
   "outputs": [],
   "source": [
    "# Create word map for softmax structure\n",
    "softmax_word_map = softmax_word_df.columns.tolist()"
   ]
  },
  {
   "cell_type": "code",
   "execution_count": 8,
   "id": "66e0899c-6c04-4b2a-940e-f7b102bcf0fe",
   "metadata": {},
   "outputs": [],
   "source": [
    "from scipy.special import softmax\n",
    "\n",
    "def get_trait_dot_product(post_text: str, word_map: list, word_dataframe: pd.DataFrame) -> list:\n",
    "    # Filter out the text\n",
    "    filtered_post = remove_stopwords(clean_up_text(post_text))\n",
    "    filtered_post += extract_hashtags(post_text)\n",
    "    \n",
    "    # Create a vector for dot product vector\n",
    "    post_vector = [0] * len(word_map)\n",
    "    \n",
    "    # Calculate word occurrences\n",
    "    word_ctr = Counter(filtered_post)\n",
    "    \n",
    "    for word, freq in word_ctr.items():\n",
    "        if word in word_map:\n",
    "            post_vector[word_map.index(word)] = freq\n",
    "    \n",
    "    # Calculate dot product for a given text\n",
    "    word_dot = word_dataframe.dot(post_vector)\n",
    "    \n",
    "    out_vec = pd.Series()\n",
    "    for trait in trait_list:\n",
    "        out_vec = out_vec.append(pd.Series([np.argmax(softmax(word_dot.loc[trait]))], index=[trait]))\n",
    "    \n",
    "    return out_vec\n",
    "\n",
    "# Trait accuracy - round the results\n",
    "def natural_round(x: float) -> int:\n",
    "    out = int(x // 1)\n",
    "    return out + 1 if (x - out) >= 0.5 else out\n",
    "\n",
    "def accuracy_per_trait(input_vector: pd.Series, annotated_vector: pd.Series) -> np.array:\n",
    "    out_array = np.array([0] * 37, dtype=np.int)\n",
    "    for i in range(len(out_array)):\n",
    "        if input_vector[i] == annotated_vector[i]:\n",
    "            out_array[i] = 1\n",
    "    return out_array"
   ]
  },
  {
   "cell_type": "code",
   "execution_count": 9,
   "id": "ac507fb4-8140-4bd1-9c2e-a4f1683e71cc",
   "metadata": {},
   "outputs": [
    {
     "data": {
      "application/vnd.jupyter.widget-view+json": {
       "model_id": "ad32708fa1404c11851da3e7e978fb75",
       "version_major": 2,
       "version_minor": 0
      },
      "text/plain": [
       "0it [00:00, ?it/s]"
      ]
     },
     "metadata": {},
     "output_type": "display_data"
    },
    {
     "name": "stderr",
     "output_type": "stream",
     "text": [
      "<ipython-input-8-4ffef00e153a>:21: DeprecationWarning: The default dtype for empty Series will be 'object' instead of 'float64' in a future version. Specify a dtype explicitly to silence this warning.\n",
      "  out_vec = pd.Series()\n"
     ]
    }
   ],
   "source": [
    "pbar = tqdm(train_df.iterrows())\n",
    "accuracy = 0\n",
    "\n",
    "# Out accuracy vector\n",
    "total_accuracy = np.array([0] * 37, dtype=np.int)\n",
    "\n",
    "for idx, row in pbar:\n",
    "    user_text = list(itertools.chain.from_iterable(train_posts[users.index(idx)]))\n",
    "    user_text = \" \".join(user_text)\n",
    "    sim_output = get_trait_dot_product(user_text, softmax_word_map, softmax_word_df)\n",
    "    user_accuracy = accuracy_per_trait(sim_output, row)\n",
    "    total_accuracy += user_accuracy\n",
    "    pbar.set_description(f\"Average accuracy: {round(np.mean(np.divide(total_accuracy, users.index(idx)+1))*100, 2)}\")"
   ]
  },
  {
   "cell_type": "code",
   "execution_count": 10,
   "id": "e1c812cd-ddbf-4ff2-b41c-20c4962032d8",
   "metadata": {},
   "outputs": [
    {
     "name": "stdout",
     "output_type": "stream",
     "text": [
      "--- ACCURACY ON TRAINING DATASET ---\n",
      "Average train dataset accuracy: 88.83%\n",
      "Accuracy per trait:\n",
      "innocent: 90.75%\n",
      "sage: 85.88%\n",
      "explorer: 85.39%\n",
      "outlaw: 88.15%\n",
      "magician: 88.47%\n",
      "hero: 90.1%\n",
      "lover: 86.2%\n",
      "jester: 90.26%\n",
      "everyman: 89.29%\n",
      "caregiver: 84.09%\n",
      "ruler: 83.6%\n",
      "creator: 87.01%\n",
      "dominant: 90.1%\n",
      "submissive: 89.12%\n",
      "maximalist: 85.06%\n",
      "minimalist: 91.56%\n",
      "inspiring: 93.18%\n",
      "systematic: 87.82%\n",
      "discovering: 93.83%\n",
      "conservative: 90.26%\n",
      "verifying: 91.72%\n",
      "overlooking: 89.12%\n",
      "sharpening: 91.23%\n",
      "harmonic: 91.88%\n",
      "empathic: 91.07%\n",
      "matter_of_fact: 82.79%\n",
      "brave: 88.31%\n",
      "protective: 87.66%\n",
      "generous: 92.37%\n",
      "thrifty: 87.99%\n",
      "favourable: 89.29%\n",
      "balanced: 92.37%\n",
      "sensuality: 89.94%\n",
      "intelligent: 86.53%\n",
      "believe: 91.72%\n",
      "egocentric: 87.01%\n",
      "allocentric: 85.55%\n"
     ]
    }
   ],
   "source": [
    "# Show total accuracy\n",
    "scaled_train_accuracy = np.divide(total_accuracy, len(train_df))\n",
    "avg_train_accuracy = np.mean(scaled_train_accuracy)\n",
    "\n",
    "print(\"--- ACCURACY ON TRAINING DATASET ---\")\n",
    "\n",
    "print(f\"Average train dataset accuracy: {round(avg_train_accuracy*100, 2)}%\")\n",
    "print(\"Accuracy per trait:\")\n",
    "for i in range(len(trait_list)):\n",
    "    print(f\"{trait_list[i]}: {round(scaled_train_accuracy[i] * 100, 2)}%\")"
   ]
  },
  {
   "cell_type": "code",
   "execution_count": 11,
   "id": "08f0d3c8-849b-485f-8017-b1c6f34de981",
   "metadata": {},
   "outputs": [],
   "source": [
    "# Set up environment for test dataset\n",
    "test_users = list(test_df.index.values)\n",
    "test_user_indices = {k: test_users.index(k) for k in test_users}"
   ]
  },
  {
   "cell_type": "code",
   "execution_count": 15,
   "id": "2e2d218b-01cc-4fdd-a7b7-dae532d6e960",
   "metadata": {},
   "outputs": [
    {
     "data": {
      "application/vnd.jupyter.widget-view+json": {
       "model_id": "72b8419b252947c89fe3871abf89310b",
       "version_major": 2,
       "version_minor": 0
      },
      "text/plain": [
       "0it [00:00, ?it/s]"
      ]
     },
     "metadata": {},
     "output_type": "display_data"
    },
    {
     "name": "stderr",
     "output_type": "stream",
     "text": [
      "<ipython-input-8-4ffef00e153a>:21: DeprecationWarning: The default dtype for empty Series will be 'object' instead of 'float64' in a future version. Specify a dtype explicitly to silence this warning.\n",
      "  out_vec = pd.Series()\n"
     ]
    }
   ],
   "source": [
    "pbar = tqdm(test_df.iterrows())\n",
    "accuracy = 0\n",
    "\n",
    "# Out accuracy vector\n",
    "test_total_accuracy = np.array([0] * 37, dtype=np.int)\n",
    "\n",
    "for idx, row in pbar:\n",
    "    user_text = list(itertools.chain.from_iterable(test_posts[test_users.index(idx)]))\n",
    "    user_text = \" \".join(user_text)\n",
    "    sim_output = get_trait_dot_product(user_text, softmax_word_map, softmax_word_df)\n",
    "    user_accuracy = accuracy_per_trait(sim_output, row)\n",
    "    test_total_accuracy += user_accuracy\n",
    "    pbar.set_description(f\"Average accuracy: {round(np.mean(np.divide(test_total_accuracy, test_users.index(idx)+1))*100, 2)}\")"
   ]
  },
  {
   "cell_type": "code",
   "execution_count": 16,
   "id": "5753e99d-511c-458e-a13a-5ae792b8d24e",
   "metadata": {},
   "outputs": [
    {
     "name": "stdout",
     "output_type": "stream",
     "text": [
      "--- ACCURACY ON TESTING DATASET ---\n",
      "Average test dataset accuracy: 91.19%\n",
      "Accuracy per trait:\n",
      "innocent: 91.3%\n",
      "sage: 84.06%\n",
      "explorer: 92.75%\n",
      "outlaw: 94.2%\n",
      "magician: 91.3%\n",
      "hero: 95.65%\n",
      "lover: 95.65%\n",
      "jester: 94.2%\n",
      "everyman: 88.41%\n",
      "caregiver: 95.65%\n",
      "ruler: 89.86%\n",
      "creator: 95.65%\n",
      "dominant: 89.86%\n",
      "submissive: 88.41%\n",
      "maximalist: 94.2%\n",
      "minimalist: 91.3%\n",
      "inspiring: 94.2%\n",
      "systematic: 86.96%\n",
      "discovering: 89.86%\n",
      "conservative: 88.41%\n",
      "verifying: 92.75%\n",
      "overlooking: 89.86%\n",
      "sharpening: 92.75%\n",
      "harmonic: 94.2%\n",
      "empathic: 91.3%\n",
      "matter_of_fact: 81.16%\n",
      "brave: 85.51%\n",
      "protective: 95.65%\n",
      "generous: 94.2%\n",
      "thrifty: 91.3%\n",
      "favourable: 85.51%\n",
      "balanced: 91.3%\n",
      "sensuality: 89.86%\n",
      "intelligent: 89.86%\n",
      "believe: 89.86%\n",
      "egocentric: 94.2%\n",
      "allocentric: 92.75%\n"
     ]
    }
   ],
   "source": [
    "# Show total accuracy\n",
    "scaled_test_accuracy = np.divide(test_total_accuracy, len(test_df))\n",
    "avg_test_accuracy = np.mean(scaled_test_accuracy)\n",
    "\n",
    "print(\"--- ACCURACY ON TESTING DATASET ---\")\n",
    "\n",
    "print(f\"Average test dataset accuracy: {round(avg_test_accuracy*100, 2)}%\")\n",
    "print(\"Accuracy per trait:\")\n",
    "for i in range(len(trait_list)):\n",
    "    print(f\"{trait_list[i]}: {round(scaled_test_accuracy[i] * 100, 2)}%\")"
   ]
  },
  {
   "cell_type": "code",
   "execution_count": null,
   "id": "364a49e4-4d0f-49f3-92fc-408a08de25e5",
   "metadata": {},
   "outputs": [],
   "source": []
  }
 ],
 "metadata": {
  "kernelspec": {
   "display_name": "Python 3",
   "language": "python",
   "name": "python3"
  },
  "language_info": {
   "codemirror_mode": {
    "name": "ipython",
    "version": 3
   },
   "file_extension": ".py",
   "mimetype": "text/x-python",
   "name": "python",
   "nbconvert_exporter": "python",
   "pygments_lexer": "ipython3",
   "version": "3.8.6"
  }
 },
 "nbformat": 4,
 "nbformat_minor": 5
}
