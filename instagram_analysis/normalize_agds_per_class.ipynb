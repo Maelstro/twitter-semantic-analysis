{
 "cells": [
  {
   "cell_type": "code",
   "execution_count": 1,
   "id": "56699a4b-ca05-4724-af32-d0fdd0eaa73f",
   "metadata": {},
   "outputs": [],
   "source": [
    "# Associate words with archetypes/character traits as intermediate layer\n",
    "# and with influencer as the \"last\" layer\n",
    "\n",
    "# Dependencies\n",
    "import pandas as pd\n",
    "import dask.dataframe as dd\n",
    "import numpy as np\n",
    "from tqdm.notebook import trange, tqdm\n",
    "import copy\n",
    "import os\n",
    "import toml\n",
    "import re\n",
    "import itertools\n",
    "from text_cleaner import *\n",
    "import operator\n",
    "from collections import Counter\n",
    "import pickle\n",
    "\n",
    "def extract_hashtags(post_text):\n",
    "    HASH_RE = re.compile(r\"\\#\\w+\")\n",
    "    out_list = re.findall(HASH_RE, post_text)\n",
    "    return out_list"
   ]
  },
  {
   "cell_type": "code",
   "execution_count": 2,
   "id": "cf46d0f0-71da-446d-ad01-9ebb0e3e3891",
   "metadata": {},
   "outputs": [
    {
     "name": "stdout",
     "output_type": "stream",
     "text": [
      "['innocent', 'sage', 'explorer', 'outlaw', 'magician', 'hero', 'lover', 'jester', 'everyman', 'caregiver', 'ruler', 'creator', 'dominant', 'submissive', 'maximalist', 'minimalist', 'inspiring', 'systematic', 'discovering', 'conservative', 'verifying', 'overlooking', 'sharpening', 'harmonic', 'empathic', 'matter_of_fact', 'brave', 'protective', 'generous', 'thrifty', 'favourable', 'balanced', 'sensuality', 'intelligent', 'believe', 'egocentric', 'allocentric']\n"
     ]
    },
    {
     "data": {
      "text/html": [
       "<div>\n",
       "<style scoped>\n",
       "    .dataframe tbody tr th:only-of-type {\n",
       "        vertical-align: middle;\n",
       "    }\n",
       "\n",
       "    .dataframe tbody tr th {\n",
       "        vertical-align: top;\n",
       "    }\n",
       "\n",
       "    .dataframe thead th {\n",
       "        text-align: right;\n",
       "    }\n",
       "</style>\n",
       "<table border=\"1\" class=\"dataframe\">\n",
       "  <thead>\n",
       "    <tr style=\"text-align: right;\">\n",
       "      <th></th>\n",
       "      <th>innocent</th>\n",
       "      <th>sage</th>\n",
       "      <th>explorer</th>\n",
       "      <th>outlaw</th>\n",
       "      <th>magician</th>\n",
       "      <th>hero</th>\n",
       "      <th>lover</th>\n",
       "      <th>jester</th>\n",
       "      <th>everyman</th>\n",
       "      <th>caregiver</th>\n",
       "      <th>...</th>\n",
       "      <th>protective</th>\n",
       "      <th>generous</th>\n",
       "      <th>thrifty</th>\n",
       "      <th>favourable</th>\n",
       "      <th>balanced</th>\n",
       "      <th>sensuality</th>\n",
       "      <th>intelligent</th>\n",
       "      <th>believe</th>\n",
       "      <th>egocentric</th>\n",
       "      <th>allocentric</th>\n",
       "    </tr>\n",
       "    <tr>\n",
       "      <th>id</th>\n",
       "      <th></th>\n",
       "      <th></th>\n",
       "      <th></th>\n",
       "      <th></th>\n",
       "      <th></th>\n",
       "      <th></th>\n",
       "      <th></th>\n",
       "      <th></th>\n",
       "      <th></th>\n",
       "      <th></th>\n",
       "      <th></th>\n",
       "      <th></th>\n",
       "      <th></th>\n",
       "      <th></th>\n",
       "      <th></th>\n",
       "      <th></th>\n",
       "      <th></th>\n",
       "      <th></th>\n",
       "      <th></th>\n",
       "      <th></th>\n",
       "      <th></th>\n",
       "    </tr>\n",
       "  </thead>\n",
       "  <tbody>\n",
       "    <tr>\n",
       "      <th>marek_grodzki</th>\n",
       "      <td>0.0</td>\n",
       "      <td>0.0</td>\n",
       "      <td>0.0</td>\n",
       "      <td>0.0</td>\n",
       "      <td>0.0</td>\n",
       "      <td>0.0</td>\n",
       "      <td>0.0</td>\n",
       "      <td>4.0</td>\n",
       "      <td>0.0</td>\n",
       "      <td>0.0</td>\n",
       "      <td>...</td>\n",
       "      <td>2.0</td>\n",
       "      <td>3.0</td>\n",
       "      <td>4.0</td>\n",
       "      <td>4.0</td>\n",
       "      <td>3.0</td>\n",
       "      <td>4.0</td>\n",
       "      <td>4.0</td>\n",
       "      <td>3.0</td>\n",
       "      <td>0.0</td>\n",
       "      <td>0.0</td>\n",
       "    </tr>\n",
       "    <tr>\n",
       "      <th>vege_style_life</th>\n",
       "      <td>0.0</td>\n",
       "      <td>0.0</td>\n",
       "      <td>4.0</td>\n",
       "      <td>0.0</td>\n",
       "      <td>0.0</td>\n",
       "      <td>0.0</td>\n",
       "      <td>0.0</td>\n",
       "      <td>0.0</td>\n",
       "      <td>0.0</td>\n",
       "      <td>0.0</td>\n",
       "      <td>...</td>\n",
       "      <td>4.0</td>\n",
       "      <td>4.0</td>\n",
       "      <td>4.0</td>\n",
       "      <td>4.0</td>\n",
       "      <td>3.0</td>\n",
       "      <td>3.0</td>\n",
       "      <td>3.0</td>\n",
       "      <td>2.0</td>\n",
       "      <td>0.0</td>\n",
       "      <td>3.0</td>\n",
       "    </tr>\n",
       "    <tr>\n",
       "      <th>oliwka__2007</th>\n",
       "      <td>0.0</td>\n",
       "      <td>0.0</td>\n",
       "      <td>0.0</td>\n",
       "      <td>0.0</td>\n",
       "      <td>0.0</td>\n",
       "      <td>0.0</td>\n",
       "      <td>0.0</td>\n",
       "      <td>0.0</td>\n",
       "      <td>4.0</td>\n",
       "      <td>0.0</td>\n",
       "      <td>...</td>\n",
       "      <td>2.0</td>\n",
       "      <td>2.0</td>\n",
       "      <td>0.0</td>\n",
       "      <td>3.0</td>\n",
       "      <td>1.0</td>\n",
       "      <td>2.0</td>\n",
       "      <td>4.0</td>\n",
       "      <td>1.0</td>\n",
       "      <td>0.0</td>\n",
       "      <td>3.0</td>\n",
       "    </tr>\n",
       "    <tr>\n",
       "      <th>z_przestrzeni_serca</th>\n",
       "      <td>4.0</td>\n",
       "      <td>0.0</td>\n",
       "      <td>0.0</td>\n",
       "      <td>0.0</td>\n",
       "      <td>0.0</td>\n",
       "      <td>0.0</td>\n",
       "      <td>0.0</td>\n",
       "      <td>0.0</td>\n",
       "      <td>0.0</td>\n",
       "      <td>0.0</td>\n",
       "      <td>...</td>\n",
       "      <td>4.0</td>\n",
       "      <td>3.0</td>\n",
       "      <td>0.0</td>\n",
       "      <td>4.0</td>\n",
       "      <td>4.0</td>\n",
       "      <td>3.0</td>\n",
       "      <td>4.0</td>\n",
       "      <td>4.0</td>\n",
       "      <td>0.0</td>\n",
       "      <td>1.0</td>\n",
       "    </tr>\n",
       "    <tr>\n",
       "      <th>zaradne_warsztaty</th>\n",
       "      <td>3.0</td>\n",
       "      <td>0.0</td>\n",
       "      <td>0.0</td>\n",
       "      <td>0.0</td>\n",
       "      <td>3.0</td>\n",
       "      <td>0.0</td>\n",
       "      <td>0.0</td>\n",
       "      <td>2.0</td>\n",
       "      <td>3.0</td>\n",
       "      <td>4.0</td>\n",
       "      <td>...</td>\n",
       "      <td>3.0</td>\n",
       "      <td>4.0</td>\n",
       "      <td>0.0</td>\n",
       "      <td>2.0</td>\n",
       "      <td>2.0</td>\n",
       "      <td>4.0</td>\n",
       "      <td>2.0</td>\n",
       "      <td>3.0</td>\n",
       "      <td>1.0</td>\n",
       "      <td>3.0</td>\n",
       "    </tr>\n",
       "  </tbody>\n",
       "</table>\n",
       "<p>5 rows × 37 columns</p>\n",
       "</div>"
      ],
      "text/plain": [
       "                     innocent  sage  explorer  outlaw  magician  hero  lover  \\\n",
       "id                                                                             \n",
       "marek_grodzki             0.0   0.0       0.0     0.0       0.0   0.0    0.0   \n",
       "vege_style_life           0.0   0.0       4.0     0.0       0.0   0.0    0.0   \n",
       "oliwka__2007              0.0   0.0       0.0     0.0       0.0   0.0    0.0   \n",
       "z_przestrzeni_serca       4.0   0.0       0.0     0.0       0.0   0.0    0.0   \n",
       "zaradne_warsztaty         3.0   0.0       0.0     0.0       3.0   0.0    0.0   \n",
       "\n",
       "                     jester  everyman  caregiver  ...  protective  generous  \\\n",
       "id                                                ...                         \n",
       "marek_grodzki           4.0       0.0        0.0  ...         2.0       3.0   \n",
       "vege_style_life         0.0       0.0        0.0  ...         4.0       4.0   \n",
       "oliwka__2007            0.0       4.0        0.0  ...         2.0       2.0   \n",
       "z_przestrzeni_serca     0.0       0.0        0.0  ...         4.0       3.0   \n",
       "zaradne_warsztaty       2.0       3.0        4.0  ...         3.0       4.0   \n",
       "\n",
       "                     thrifty  favourable  balanced  sensuality  intelligent  \\\n",
       "id                                                                            \n",
       "marek_grodzki            4.0         4.0       3.0         4.0          4.0   \n",
       "vege_style_life          4.0         4.0       3.0         3.0          3.0   \n",
       "oliwka__2007             0.0         3.0       1.0         2.0          4.0   \n",
       "z_przestrzeni_serca      0.0         4.0       4.0         3.0          4.0   \n",
       "zaradne_warsztaty        0.0         2.0       2.0         4.0          2.0   \n",
       "\n",
       "                     believe  egocentric  allocentric  \n",
       "id                                                     \n",
       "marek_grodzki            3.0         0.0          0.0  \n",
       "vege_style_life          2.0         0.0          3.0  \n",
       "oliwka__2007             1.0         0.0          3.0  \n",
       "z_przestrzeni_serca      4.0         0.0          1.0  \n",
       "zaradne_warsztaty        3.0         1.0          3.0  \n",
       "\n",
       "[5 rows x 37 columns]"
      ]
     },
     "execution_count": 2,
     "metadata": {},
     "output_type": "execute_result"
    }
   ],
   "source": [
    "# Load the .csv with archetypes\n",
    "arch_df = pd.read_csv('archetypes_pl_new.csv', index_col=0)\n",
    "\n",
    "# Save the order of columns\n",
    "trait_list = arch_df.columns.tolist()\n",
    "\n",
    "# Show the table header and column list\n",
    "print(trait_list)\n",
    "arch_df.head()"
   ]
  },
  {
   "cell_type": "code",
   "execution_count": 3,
   "id": "0b7a5768-48e1-4cbf-ab83-1e0b300587ca",
   "metadata": {},
   "outputs": [
    {
     "data": {
      "text/html": [
       "<div>\n",
       "<style scoped>\n",
       "    .dataframe tbody tr th:only-of-type {\n",
       "        vertical-align: middle;\n",
       "    }\n",
       "\n",
       "    .dataframe tbody tr th {\n",
       "        vertical-align: top;\n",
       "    }\n",
       "\n",
       "    .dataframe thead th {\n",
       "        text-align: right;\n",
       "    }\n",
       "</style>\n",
       "<table border=\"1\" class=\"dataframe\">\n",
       "  <thead>\n",
       "    <tr style=\"text-align: right;\">\n",
       "      <th></th>\n",
       "      <th>innocent</th>\n",
       "      <th>sage</th>\n",
       "      <th>explorer</th>\n",
       "      <th>outlaw</th>\n",
       "      <th>magician</th>\n",
       "      <th>hero</th>\n",
       "      <th>lover</th>\n",
       "      <th>jester</th>\n",
       "      <th>everyman</th>\n",
       "      <th>caregiver</th>\n",
       "      <th>...</th>\n",
       "      <th>protective</th>\n",
       "      <th>generous</th>\n",
       "      <th>thrifty</th>\n",
       "      <th>favourable</th>\n",
       "      <th>balanced</th>\n",
       "      <th>sensuality</th>\n",
       "      <th>intelligent</th>\n",
       "      <th>believe</th>\n",
       "      <th>egocentric</th>\n",
       "      <th>allocentric</th>\n",
       "    </tr>\n",
       "    <tr>\n",
       "      <th>id</th>\n",
       "      <th></th>\n",
       "      <th></th>\n",
       "      <th></th>\n",
       "      <th></th>\n",
       "      <th></th>\n",
       "      <th></th>\n",
       "      <th></th>\n",
       "      <th></th>\n",
       "      <th></th>\n",
       "      <th></th>\n",
       "      <th></th>\n",
       "      <th></th>\n",
       "      <th></th>\n",
       "      <th></th>\n",
       "      <th></th>\n",
       "      <th></th>\n",
       "      <th></th>\n",
       "      <th></th>\n",
       "      <th></th>\n",
       "      <th></th>\n",
       "      <th></th>\n",
       "    </tr>\n",
       "  </thead>\n",
       "  <tbody>\n",
       "    <tr>\n",
       "      <th>marek_grodzki</th>\n",
       "      <td>0.0</td>\n",
       "      <td>0.0</td>\n",
       "      <td>0.0</td>\n",
       "      <td>0.0</td>\n",
       "      <td>0.0</td>\n",
       "      <td>0.0</td>\n",
       "      <td>0.0</td>\n",
       "      <td>4.0</td>\n",
       "      <td>0.0</td>\n",
       "      <td>0.0</td>\n",
       "      <td>...</td>\n",
       "      <td>2.0</td>\n",
       "      <td>3.0</td>\n",
       "      <td>4.0</td>\n",
       "      <td>4.0</td>\n",
       "      <td>3.0</td>\n",
       "      <td>4.0</td>\n",
       "      <td>4.0</td>\n",
       "      <td>3.0</td>\n",
       "      <td>0.0</td>\n",
       "      <td>0.0</td>\n",
       "    </tr>\n",
       "    <tr>\n",
       "      <th>vege_style_life</th>\n",
       "      <td>0.0</td>\n",
       "      <td>0.0</td>\n",
       "      <td>4.0</td>\n",
       "      <td>0.0</td>\n",
       "      <td>0.0</td>\n",
       "      <td>0.0</td>\n",
       "      <td>0.0</td>\n",
       "      <td>0.0</td>\n",
       "      <td>0.0</td>\n",
       "      <td>0.0</td>\n",
       "      <td>...</td>\n",
       "      <td>4.0</td>\n",
       "      <td>4.0</td>\n",
       "      <td>4.0</td>\n",
       "      <td>4.0</td>\n",
       "      <td>3.0</td>\n",
       "      <td>3.0</td>\n",
       "      <td>3.0</td>\n",
       "      <td>2.0</td>\n",
       "      <td>0.0</td>\n",
       "      <td>3.0</td>\n",
       "    </tr>\n",
       "    <tr>\n",
       "      <th>oliwka__2007</th>\n",
       "      <td>0.0</td>\n",
       "      <td>0.0</td>\n",
       "      <td>0.0</td>\n",
       "      <td>0.0</td>\n",
       "      <td>0.0</td>\n",
       "      <td>0.0</td>\n",
       "      <td>0.0</td>\n",
       "      <td>0.0</td>\n",
       "      <td>4.0</td>\n",
       "      <td>0.0</td>\n",
       "      <td>...</td>\n",
       "      <td>2.0</td>\n",
       "      <td>2.0</td>\n",
       "      <td>0.0</td>\n",
       "      <td>3.0</td>\n",
       "      <td>1.0</td>\n",
       "      <td>2.0</td>\n",
       "      <td>4.0</td>\n",
       "      <td>1.0</td>\n",
       "      <td>0.0</td>\n",
       "      <td>3.0</td>\n",
       "    </tr>\n",
       "    <tr>\n",
       "      <th>z_przestrzeni_serca</th>\n",
       "      <td>4.0</td>\n",
       "      <td>0.0</td>\n",
       "      <td>0.0</td>\n",
       "      <td>0.0</td>\n",
       "      <td>0.0</td>\n",
       "      <td>0.0</td>\n",
       "      <td>0.0</td>\n",
       "      <td>0.0</td>\n",
       "      <td>0.0</td>\n",
       "      <td>0.0</td>\n",
       "      <td>...</td>\n",
       "      <td>4.0</td>\n",
       "      <td>3.0</td>\n",
       "      <td>0.0</td>\n",
       "      <td>4.0</td>\n",
       "      <td>4.0</td>\n",
       "      <td>3.0</td>\n",
       "      <td>4.0</td>\n",
       "      <td>4.0</td>\n",
       "      <td>0.0</td>\n",
       "      <td>1.0</td>\n",
       "    </tr>\n",
       "    <tr>\n",
       "      <th>zaradne_warsztaty</th>\n",
       "      <td>3.0</td>\n",
       "      <td>0.0</td>\n",
       "      <td>0.0</td>\n",
       "      <td>0.0</td>\n",
       "      <td>3.0</td>\n",
       "      <td>0.0</td>\n",
       "      <td>0.0</td>\n",
       "      <td>2.0</td>\n",
       "      <td>3.0</td>\n",
       "      <td>4.0</td>\n",
       "      <td>...</td>\n",
       "      <td>3.0</td>\n",
       "      <td>4.0</td>\n",
       "      <td>0.0</td>\n",
       "      <td>2.0</td>\n",
       "      <td>2.0</td>\n",
       "      <td>4.0</td>\n",
       "      <td>2.0</td>\n",
       "      <td>3.0</td>\n",
       "      <td>1.0</td>\n",
       "      <td>3.0</td>\n",
       "    </tr>\n",
       "  </tbody>\n",
       "</table>\n",
       "<p>5 rows × 37 columns</p>\n",
       "</div>"
      ],
      "text/plain": [
       "                     innocent  sage  explorer  outlaw  magician  hero  lover  \\\n",
       "id                                                                             \n",
       "marek_grodzki             0.0   0.0       0.0     0.0       0.0   0.0    0.0   \n",
       "vege_style_life           0.0   0.0       4.0     0.0       0.0   0.0    0.0   \n",
       "oliwka__2007              0.0   0.0       0.0     0.0       0.0   0.0    0.0   \n",
       "z_przestrzeni_serca       4.0   0.0       0.0     0.0       0.0   0.0    0.0   \n",
       "zaradne_warsztaty         3.0   0.0       0.0     0.0       3.0   0.0    0.0   \n",
       "\n",
       "                     jester  everyman  caregiver  ...  protective  generous  \\\n",
       "id                                                ...                         \n",
       "marek_grodzki           4.0       0.0        0.0  ...         2.0       3.0   \n",
       "vege_style_life         0.0       0.0        0.0  ...         4.0       4.0   \n",
       "oliwka__2007            0.0       4.0        0.0  ...         2.0       2.0   \n",
       "z_przestrzeni_serca     0.0       0.0        0.0  ...         4.0       3.0   \n",
       "zaradne_warsztaty       2.0       3.0        4.0  ...         3.0       4.0   \n",
       "\n",
       "                     thrifty  favourable  balanced  sensuality  intelligent  \\\n",
       "id                                                                            \n",
       "marek_grodzki            4.0         4.0       3.0         4.0          4.0   \n",
       "vege_style_life          4.0         4.0       3.0         3.0          3.0   \n",
       "oliwka__2007             0.0         3.0       1.0         2.0          4.0   \n",
       "z_przestrzeni_serca      0.0         4.0       4.0         3.0          4.0   \n",
       "zaradne_warsztaty        0.0         2.0       2.0         4.0          2.0   \n",
       "\n",
       "                     believe  egocentric  allocentric  \n",
       "id                                                     \n",
       "marek_grodzki            3.0         0.0          0.0  \n",
       "vege_style_life          2.0         0.0          3.0  \n",
       "oliwka__2007             1.0         0.0          3.0  \n",
       "z_przestrzeni_serca      4.0         0.0          1.0  \n",
       "zaradne_warsztaty        3.0         1.0          3.0  \n",
       "\n",
       "[5 rows x 37 columns]"
      ]
     },
     "execution_count": 3,
     "metadata": {},
     "output_type": "execute_result"
    }
   ],
   "source": [
    "# Table preprocessing - replace all NaN with 2 (Unrelated/Don't know class), replace 0-5 values with the ones in range -1.0 - 1.0\n",
    "arch_df = arch_df.fillna(2)\n",
    "\n",
    "# Remove duplicated annotations, to exclude conflicting entries\n",
    "arch_df = arch_df[~arch_df.index.duplicated(keep='first')]\n",
    "\n",
    "# Print the head of the dataset after modification\n",
    "arch_df.head()"
   ]
  },
  {
   "cell_type": "code",
   "execution_count": 4,
   "id": "3194b6f5-4364-4dea-9377-50b794e010da",
   "metadata": {},
   "outputs": [
    {
     "data": {
      "application/vnd.jupyter.widget-view+json": {
       "model_id": "a083a6e704564e7ba4f4f413ad43126f",
       "version_major": 2,
       "version_minor": 0
      },
      "text/plain": [
       "0it [00:00, ?it/s]"
      ]
     },
     "metadata": {},
     "output_type": "display_data"
    },
    {
     "data": {
      "application/vnd.jupyter.widget-view+json": {
       "model_id": "59471999525c4d5dbcd02322a6734f1c",
       "version_major": 2,
       "version_minor": 0
      },
      "text/plain": [
       "0it [00:00, ?it/s]"
      ]
     },
     "metadata": {},
     "output_type": "display_data"
    }
   ],
   "source": [
    "# Split dataset into train/test, in 75-25% proportion\n",
    "train_df = arch_df.sample(frac=0.9, random_state=42)\n",
    "test_df = arch_df.drop(train_df.index).sample(frac=1.0)\n",
    "\n",
    "BASE_DIR = \"instagram_cleared\"\n",
    "\n",
    "def generate_dataset(dataset_frame):\n",
    "    posts = []\n",
    "\n",
    "    # Iterate over whole DataFrame\n",
    "    for i, row in tqdm(dataset_frame.iterrows()):\n",
    "        profile_posts = []\n",
    "        profile_hashtags = []\n",
    "\n",
    "        # Get all posts per profile\n",
    "        profile_path = os.path.join(BASE_DIR, i)\n",
    "        for file in os.listdir(profile_path):\n",
    "            if not file.endswith(\".toml\"):\n",
    "                with open(os.path.join(profile_path, file), \"r\") as post_f:\n",
    "                    read_text = post_f.read()\n",
    "                    profile_posts.append(remove_stopwords(clean_up_text(read_text)))\n",
    "                    profile_hashtags.append(extract_hashtags(read_text))\n",
    "\n",
    "        # Merge lists - a single list for a single influencer\n",
    "        profile_hashtags = list(itertools.chain.from_iterable(profile_hashtags))\n",
    "        posts.append(list(itertools.chain.from_iterable([profile_posts, [profile_hashtags]])))\n",
    "    return posts\n",
    "\n",
    "train_posts = generate_dataset(train_df)\n",
    "test_posts = generate_dataset(test_df)"
   ]
  },
  {
   "cell_type": "code",
   "execution_count": 5,
   "id": "e8a1b438-f3a8-4dc6-85e3-7c204973b8e4",
   "metadata": {},
   "outputs": [],
   "source": [
    "# Map training usernames to indices\n",
    "users = list(train_df.index.values)\n",
    "user_indices = {k: users.index(k) for k in users}"
   ]
  },
  {
   "cell_type": "code",
   "execution_count": 6,
   "id": "a86afd7f-eee2-4522-9852-a18f0e1125a8",
   "metadata": {
    "tags": []
   },
   "outputs": [
    {
     "data": {
      "application/vnd.jupyter.widget-view+json": {
       "model_id": "d2e4b9610ad240d288fe26f64a5295d7",
       "version_major": 2,
       "version_minor": 0
      },
      "text/plain": [
       "  0%|          | 0/37 [00:00<?, ?it/s]"
      ]
     },
     "metadata": {},
     "output_type": "display_data"
    },
    {
     "data": {
      "application/vnd.jupyter.widget-view+json": {
       "model_id": "2254305056ad4ed78a2ac80dfa97035b",
       "version_major": 2,
       "version_minor": 0
      },
      "text/plain": [
       "  0%|          | 0/5 [00:00<?, ?it/s]"
      ]
     },
     "metadata": {},
     "output_type": "display_data"
    },
    {
     "data": {
      "application/vnd.jupyter.widget-view+json": {
       "model_id": "bfc7bdfd7db74d2a90168460aac256a1",
       "version_major": 2,
       "version_minor": 0
      },
      "text/plain": [
       "  0%|          | 0/5 [00:00<?, ?it/s]"
      ]
     },
     "metadata": {},
     "output_type": "display_data"
    },
    {
     "data": {
      "application/vnd.jupyter.widget-view+json": {
       "model_id": "5ad7764562ae470ab5749a8f5165dc17",
       "version_major": 2,
       "version_minor": 0
      },
      "text/plain": [
       "  0%|          | 0/5 [00:00<?, ?it/s]"
      ]
     },
     "metadata": {},
     "output_type": "display_data"
    },
    {
     "data": {
      "application/vnd.jupyter.widget-view+json": {
       "model_id": "df3505642ac34508a5a61df7fdb48c04",
       "version_major": 2,
       "version_minor": 0
      },
      "text/plain": [
       "  0%|          | 0/5 [00:00<?, ?it/s]"
      ]
     },
     "metadata": {},
     "output_type": "display_data"
    },
    {
     "data": {
      "application/vnd.jupyter.widget-view+json": {
       "model_id": "292c70b148084d08973f17ec76b8836b",
       "version_major": 2,
       "version_minor": 0
      },
      "text/plain": [
       "  0%|          | 0/5 [00:00<?, ?it/s]"
      ]
     },
     "metadata": {},
     "output_type": "display_data"
    },
    {
     "data": {
      "application/vnd.jupyter.widget-view+json": {
       "model_id": "eb3de8ad2bdb474099b8014ad79542b0",
       "version_major": 2,
       "version_minor": 0
      },
      "text/plain": [
       "  0%|          | 0/5 [00:00<?, ?it/s]"
      ]
     },
     "metadata": {},
     "output_type": "display_data"
    },
    {
     "data": {
      "application/vnd.jupyter.widget-view+json": {
       "model_id": "df43c80a2eaf41c38b32824aa98de665",
       "version_major": 2,
       "version_minor": 0
      },
      "text/plain": [
       "  0%|          | 0/5 [00:00<?, ?it/s]"
      ]
     },
     "metadata": {},
     "output_type": "display_data"
    },
    {
     "data": {
      "application/vnd.jupyter.widget-view+json": {
       "model_id": "4b97adcaa236417a91c5cf893195a3e3",
       "version_major": 2,
       "version_minor": 0
      },
      "text/plain": [
       "  0%|          | 0/5 [00:00<?, ?it/s]"
      ]
     },
     "metadata": {},
     "output_type": "display_data"
    },
    {
     "data": {
      "application/vnd.jupyter.widget-view+json": {
       "model_id": "22d23900cf3d451f95486cd12584efa9",
       "version_major": 2,
       "version_minor": 0
      },
      "text/plain": [
       "  0%|          | 0/5 [00:00<?, ?it/s]"
      ]
     },
     "metadata": {},
     "output_type": "display_data"
    },
    {
     "data": {
      "application/vnd.jupyter.widget-view+json": {
       "model_id": "85a74efb09a44a68be3898fb0f7399af",
       "version_major": 2,
       "version_minor": 0
      },
      "text/plain": [
       "  0%|          | 0/5 [00:00<?, ?it/s]"
      ]
     },
     "metadata": {},
     "output_type": "display_data"
    },
    {
     "data": {
      "application/vnd.jupyter.widget-view+json": {
       "model_id": "68290f08e2c64bd9a20a80a88c4c48ed",
       "version_major": 2,
       "version_minor": 0
      },
      "text/plain": [
       "  0%|          | 0/5 [00:00<?, ?it/s]"
      ]
     },
     "metadata": {},
     "output_type": "display_data"
    },
    {
     "data": {
      "application/vnd.jupyter.widget-view+json": {
       "model_id": "335cfbf55d224205849da5a0f9a47c93",
       "version_major": 2,
       "version_minor": 0
      },
      "text/plain": [
       "  0%|          | 0/5 [00:00<?, ?it/s]"
      ]
     },
     "metadata": {},
     "output_type": "display_data"
    },
    {
     "data": {
      "application/vnd.jupyter.widget-view+json": {
       "model_id": "baf46eefe2094726827e30fc1f4747c0",
       "version_major": 2,
       "version_minor": 0
      },
      "text/plain": [
       "  0%|          | 0/5 [00:00<?, ?it/s]"
      ]
     },
     "metadata": {},
     "output_type": "display_data"
    },
    {
     "data": {
      "application/vnd.jupyter.widget-view+json": {
       "model_id": "a77d04e053d242d1a70ab6f92808f726",
       "version_major": 2,
       "version_minor": 0
      },
      "text/plain": [
       "  0%|          | 0/5 [00:00<?, ?it/s]"
      ]
     },
     "metadata": {},
     "output_type": "display_data"
    },
    {
     "data": {
      "application/vnd.jupyter.widget-view+json": {
       "model_id": "d7c438e98a0049aea2b119e6be6fc946",
       "version_major": 2,
       "version_minor": 0
      },
      "text/plain": [
       "  0%|          | 0/5 [00:00<?, ?it/s]"
      ]
     },
     "metadata": {},
     "output_type": "display_data"
    },
    {
     "data": {
      "application/vnd.jupyter.widget-view+json": {
       "model_id": "0d427b2ea4eb46579d9a5237a1fa9967",
       "version_major": 2,
       "version_minor": 0
      },
      "text/plain": [
       "  0%|          | 0/5 [00:00<?, ?it/s]"
      ]
     },
     "metadata": {},
     "output_type": "display_data"
    },
    {
     "data": {
      "application/vnd.jupyter.widget-view+json": {
       "model_id": "ab478da7d2a34da48d056a627d024c97",
       "version_major": 2,
       "version_minor": 0
      },
      "text/plain": [
       "  0%|          | 0/5 [00:00<?, ?it/s]"
      ]
     },
     "metadata": {},
     "output_type": "display_data"
    },
    {
     "data": {
      "application/vnd.jupyter.widget-view+json": {
       "model_id": "5c89a56b1e3a4abfb6c5d6c97a16fcc8",
       "version_major": 2,
       "version_minor": 0
      },
      "text/plain": [
       "  0%|          | 0/5 [00:00<?, ?it/s]"
      ]
     },
     "metadata": {},
     "output_type": "display_data"
    },
    {
     "data": {
      "application/vnd.jupyter.widget-view+json": {
       "model_id": "9277ab85c8c5425491d8abcda8f23564",
       "version_major": 2,
       "version_minor": 0
      },
      "text/plain": [
       "  0%|          | 0/5 [00:00<?, ?it/s]"
      ]
     },
     "metadata": {},
     "output_type": "display_data"
    },
    {
     "data": {
      "application/vnd.jupyter.widget-view+json": {
       "model_id": "d0c639a65fdd4dc2b6114ff714e13538",
       "version_major": 2,
       "version_minor": 0
      },
      "text/plain": [
       "  0%|          | 0/5 [00:00<?, ?it/s]"
      ]
     },
     "metadata": {},
     "output_type": "display_data"
    },
    {
     "data": {
      "application/vnd.jupyter.widget-view+json": {
       "model_id": "29e4571aa07f47ee82c6e2868c6d3d8e",
       "version_major": 2,
       "version_minor": 0
      },
      "text/plain": [
       "  0%|          | 0/5 [00:00<?, ?it/s]"
      ]
     },
     "metadata": {},
     "output_type": "display_data"
    },
    {
     "data": {
      "application/vnd.jupyter.widget-view+json": {
       "model_id": "402b3979fd7f47e2a3acbc9b6058d99b",
       "version_major": 2,
       "version_minor": 0
      },
      "text/plain": [
       "  0%|          | 0/5 [00:00<?, ?it/s]"
      ]
     },
     "metadata": {},
     "output_type": "display_data"
    },
    {
     "data": {
      "application/vnd.jupyter.widget-view+json": {
       "model_id": "4835b7104ece408a8396fd9b535f001f",
       "version_major": 2,
       "version_minor": 0
      },
      "text/plain": [
       "  0%|          | 0/5 [00:00<?, ?it/s]"
      ]
     },
     "metadata": {},
     "output_type": "display_data"
    },
    {
     "data": {
      "application/vnd.jupyter.widget-view+json": {
       "model_id": "506b7fbbe34347d89b5eb732951fa0cf",
       "version_major": 2,
       "version_minor": 0
      },
      "text/plain": [
       "  0%|          | 0/5 [00:00<?, ?it/s]"
      ]
     },
     "metadata": {},
     "output_type": "display_data"
    },
    {
     "data": {
      "application/vnd.jupyter.widget-view+json": {
       "model_id": "f9988c3b3e6c4af4a5fe51ac5c0416bf",
       "version_major": 2,
       "version_minor": 0
      },
      "text/plain": [
       "  0%|          | 0/5 [00:00<?, ?it/s]"
      ]
     },
     "metadata": {},
     "output_type": "display_data"
    },
    {
     "data": {
      "application/vnd.jupyter.widget-view+json": {
       "model_id": "7c0762ff66d04db699fdec1a7abfe6db",
       "version_major": 2,
       "version_minor": 0
      },
      "text/plain": [
       "  0%|          | 0/5 [00:00<?, ?it/s]"
      ]
     },
     "metadata": {},
     "output_type": "display_data"
    },
    {
     "data": {
      "application/vnd.jupyter.widget-view+json": {
       "model_id": "47ea5b6147c341139e174dfa0d24d3d7",
       "version_major": 2,
       "version_minor": 0
      },
      "text/plain": [
       "  0%|          | 0/5 [00:00<?, ?it/s]"
      ]
     },
     "metadata": {},
     "output_type": "display_data"
    },
    {
     "data": {
      "application/vnd.jupyter.widget-view+json": {
       "model_id": "e6565ff61d96481f94263e10a75581bc",
       "version_major": 2,
       "version_minor": 0
      },
      "text/plain": [
       "  0%|          | 0/5 [00:00<?, ?it/s]"
      ]
     },
     "metadata": {},
     "output_type": "display_data"
    },
    {
     "data": {
      "application/vnd.jupyter.widget-view+json": {
       "model_id": "6a3b517b257d4fa4996700c5e1c968df",
       "version_major": 2,
       "version_minor": 0
      },
      "text/plain": [
       "  0%|          | 0/5 [00:00<?, ?it/s]"
      ]
     },
     "metadata": {},
     "output_type": "display_data"
    },
    {
     "data": {
      "application/vnd.jupyter.widget-view+json": {
       "model_id": "f683085695a946cf9502d59be069f716",
       "version_major": 2,
       "version_minor": 0
      },
      "text/plain": [
       "  0%|          | 0/5 [00:00<?, ?it/s]"
      ]
     },
     "metadata": {},
     "output_type": "display_data"
    },
    {
     "data": {
      "application/vnd.jupyter.widget-view+json": {
       "model_id": "6f142c2eb9334b15977eb5e0aeaa250b",
       "version_major": 2,
       "version_minor": 0
      },
      "text/plain": [
       "  0%|          | 0/5 [00:00<?, ?it/s]"
      ]
     },
     "metadata": {},
     "output_type": "display_data"
    },
    {
     "data": {
      "application/vnd.jupyter.widget-view+json": {
       "model_id": "a4fdee30208440208941fea12eec16ec",
       "version_major": 2,
       "version_minor": 0
      },
      "text/plain": [
       "  0%|          | 0/5 [00:00<?, ?it/s]"
      ]
     },
     "metadata": {},
     "output_type": "display_data"
    },
    {
     "data": {
      "application/vnd.jupyter.widget-view+json": {
       "model_id": "cd60702cca2f429c875d918972062c88",
       "version_major": 2,
       "version_minor": 0
      },
      "text/plain": [
       "  0%|          | 0/5 [00:00<?, ?it/s]"
      ]
     },
     "metadata": {},
     "output_type": "display_data"
    },
    {
     "data": {
      "application/vnd.jupyter.widget-view+json": {
       "model_id": "a9d9fb5019994d6aa728a20f78696cc2",
       "version_major": 2,
       "version_minor": 0
      },
      "text/plain": [
       "  0%|          | 0/5 [00:00<?, ?it/s]"
      ]
     },
     "metadata": {},
     "output_type": "display_data"
    },
    {
     "data": {
      "application/vnd.jupyter.widget-view+json": {
       "model_id": "efae842390804b60a1aa392fd8b2d302",
       "version_major": 2,
       "version_minor": 0
      },
      "text/plain": [
       "  0%|          | 0/5 [00:00<?, ?it/s]"
      ]
     },
     "metadata": {},
     "output_type": "display_data"
    },
    {
     "data": {
      "application/vnd.jupyter.widget-view+json": {
       "model_id": "f89404275a2045b7a6c635ddcb3a20bf",
       "version_major": 2,
       "version_minor": 0
      },
      "text/plain": [
       "  0%|          | 0/5 [00:00<?, ?it/s]"
      ]
     },
     "metadata": {},
     "output_type": "display_data"
    },
    {
     "data": {
      "application/vnd.jupyter.widget-view+json": {
       "model_id": "4bc65df735fa435c8ad05b7d1518c1c3",
       "version_major": 2,
       "version_minor": 0
      },
      "text/plain": [
       "  0%|          | 0/5 [00:00<?, ?it/s]"
      ]
     },
     "metadata": {},
     "output_type": "display_data"
    }
   ],
   "source": [
    "# AGDS - discrete approach\n",
    "\n",
    "def merge_dicts(dict_a, dict_b) -> dict:\n",
    "    out_dict = dict_a\n",
    "    for k, v in dict_b.items():\n",
    "        if k in out_dict.keys():\n",
    "            out_dict[k] += v\n",
    "        else:\n",
    "            out_dict[k] = v\n",
    "    return out_dict\n",
    "\n",
    "def min_max_normalize(df_to_normalize):\n",
    "    # Normalize per indices\n",
    "    normalized_df = df_to_normalize    \n",
    "    for row in tqdm(range(5), position=1):\n",
    "        normalized_df.iloc[row] = (normalized_df.iloc[row] - normalized_df.iloc[row].min()) / (\n",
    "            normalized_df.iloc[row].max() - normalized_df.iloc[row].min())\n",
    "    return normalized_df\n",
    "    \n",
    "\n",
    "# Iterate over all of the traits/archetypes\n",
    "word_set = set()\n",
    "trait_df_list = []\n",
    "for trait in tqdm(trait_list, position=0):\n",
    "    # Select influencers which have the given archetype annotated\n",
    "    subset_df = train_df[trait]\n",
    "    trait_subframe = pd.DataFrame()\n",
    "    for trait_class in range(5):\n",
    "        class_df = subset_df.loc[subset_df == trait_class]\n",
    "        subset_indices = [user_indices[idx] for idx in class_df.index.values]\n",
    "\n",
    "        # Get all posts for the list of influencers\n",
    "        f = operator.itemgetter(*subset_indices)\n",
    "        sublist = list(f(train_posts))\n",
    "\n",
    "        # Counter to calculate each word occurrences\n",
    "        trait_total = 0\n",
    "        out_dict = {}\n",
    "        for i, post_set in enumerate(sublist):\n",
    "            trait_ctr = Counter(itertools.chain.from_iterable(post_set))\n",
    "            trait_total += sum(trait_ctr.values())\n",
    "            out_dict = merge_dicts(out_dict, trait_ctr)\n",
    "        out_dict = {k: float(v / trait_total) for k, v in out_dict.items()}\n",
    "        word_set.update(out_dict.keys())\n",
    "        trait_ctr = {trait_class: out_dict}\n",
    "        trait_tmp_df = pd.DataFrame.from_dict(trait_ctr, orient=\"index\")\n",
    "        trait_subframe = trait_subframe.append(trait_tmp_df)\n",
    "\n",
    "    # Append the new dataframe\n",
    "    #word_df = word_df.append(trait_subframe)\n",
    "    \n",
    "    trait_subframe = min_max_normalize(trait_subframe)\n",
    "    trait_df_list.append(trait_subframe)\n",
    "    \n",
    "softmax_word_df = pd.concat(trait_df_list, keys=trait_list)"
   ]
  },
  {
   "cell_type": "code",
   "execution_count": 7,
   "id": "0e9589d9-f488-42a4-8594-f52bd7c6fdc1",
   "metadata": {},
   "outputs": [
    {
     "data": {
      "text/html": [
       "<div>\n",
       "<style scoped>\n",
       "    .dataframe tbody tr th:only-of-type {\n",
       "        vertical-align: middle;\n",
       "    }\n",
       "\n",
       "    .dataframe tbody tr th {\n",
       "        vertical-align: top;\n",
       "    }\n",
       "\n",
       "    .dataframe thead th {\n",
       "        text-align: right;\n",
       "    }\n",
       "</style>\n",
       "<table border=\"1\" class=\"dataframe\">\n",
       "  <thead>\n",
       "    <tr style=\"text-align: right;\">\n",
       "      <th></th>\n",
       "      <th></th>\n",
       "      <th>good</th>\n",
       "      <th>morning</th>\n",
       "      <th>wish</th>\n",
       "      <th>you</th>\n",
       "      <th>nice</th>\n",
       "      <th>relaxing</th>\n",
       "      <th>thursday</th>\n",
       "      <th>saturday</th>\n",
       "      <th>friday</th>\n",
       "      <th>start</th>\n",
       "      <th>...</th>\n",
       "      <th>#używane</th>\n",
       "      <th>#podzielnia</th>\n",
       "      <th>#ekobiuro</th>\n",
       "      <th>#goHi2020</th>\n",
       "      <th>#hackaton</th>\n",
       "      <th>#jachranka</th>\n",
       "      <th>#greenladies</th>\n",
       "      <th>#greenguys</th>\n",
       "      <th>#polishheroes</th>\n",
       "      <th>#bestgifts</th>\n",
       "    </tr>\n",
       "  </thead>\n",
       "  <tbody>\n",
       "    <tr>\n",
       "      <th rowspan=\"5\" valign=\"top\">innocent</th>\n",
       "      <th>0</th>\n",
       "      <td>0.435185</td>\n",
       "      <td>0.194444</td>\n",
       "      <td>0.314815</td>\n",
       "      <td>0.611111</td>\n",
       "      <td>0.342593</td>\n",
       "      <td>0.185185</td>\n",
       "      <td>0.037037</td>\n",
       "      <td>0.027778</td>\n",
       "      <td>0.009259</td>\n",
       "      <td>0.120370</td>\n",
       "      <td>...</td>\n",
       "      <td>NaN</td>\n",
       "      <td>NaN</td>\n",
       "      <td>NaN</td>\n",
       "      <td>NaN</td>\n",
       "      <td>NaN</td>\n",
       "      <td>NaN</td>\n",
       "      <td>NaN</td>\n",
       "      <td>NaN</td>\n",
       "      <td>NaN</td>\n",
       "      <td>NaN</td>\n",
       "    </tr>\n",
       "    <tr>\n",
       "      <th>1</th>\n",
       "      <td>0.074286</td>\n",
       "      <td>0.068571</td>\n",
       "      <td>0.000000</td>\n",
       "      <td>0.605714</td>\n",
       "      <td>0.000000</td>\n",
       "      <td>NaN</td>\n",
       "      <td>NaN</td>\n",
       "      <td>NaN</td>\n",
       "      <td>0.022857</td>\n",
       "      <td>0.051429</td>\n",
       "      <td>...</td>\n",
       "      <td>NaN</td>\n",
       "      <td>NaN</td>\n",
       "      <td>NaN</td>\n",
       "      <td>NaN</td>\n",
       "      <td>NaN</td>\n",
       "      <td>NaN</td>\n",
       "      <td>NaN</td>\n",
       "      <td>NaN</td>\n",
       "      <td>NaN</td>\n",
       "      <td>NaN</td>\n",
       "    </tr>\n",
       "    <tr>\n",
       "      <th>2</th>\n",
       "      <td>0.052790</td>\n",
       "      <td>0.013575</td>\n",
       "      <td>0.004525</td>\n",
       "      <td>0.840121</td>\n",
       "      <td>0.021116</td>\n",
       "      <td>0.000000</td>\n",
       "      <td>0.000000</td>\n",
       "      <td>0.003017</td>\n",
       "      <td>0.007541</td>\n",
       "      <td>0.064857</td>\n",
       "      <td>...</td>\n",
       "      <td>NaN</td>\n",
       "      <td>NaN</td>\n",
       "      <td>NaN</td>\n",
       "      <td>NaN</td>\n",
       "      <td>NaN</td>\n",
       "      <td>NaN</td>\n",
       "      <td>NaN</td>\n",
       "      <td>NaN</td>\n",
       "      <td>NaN</td>\n",
       "      <td>NaN</td>\n",
       "    </tr>\n",
       "    <tr>\n",
       "      <th>3</th>\n",
       "      <td>0.032024</td>\n",
       "      <td>0.015250</td>\n",
       "      <td>0.004575</td>\n",
       "      <td>0.203965</td>\n",
       "      <td>0.013343</td>\n",
       "      <td>0.000000</td>\n",
       "      <td>0.001525</td>\n",
       "      <td>0.004575</td>\n",
       "      <td>0.008387</td>\n",
       "      <td>0.021350</td>\n",
       "      <td>...</td>\n",
       "      <td>NaN</td>\n",
       "      <td>NaN</td>\n",
       "      <td>NaN</td>\n",
       "      <td>NaN</td>\n",
       "      <td>NaN</td>\n",
       "      <td>NaN</td>\n",
       "      <td>NaN</td>\n",
       "      <td>NaN</td>\n",
       "      <td>NaN</td>\n",
       "      <td>NaN</td>\n",
       "    </tr>\n",
       "    <tr>\n",
       "      <th>4</th>\n",
       "      <td>0.007326</td>\n",
       "      <td>0.000000</td>\n",
       "      <td>NaN</td>\n",
       "      <td>0.073260</td>\n",
       "      <td>0.007326</td>\n",
       "      <td>NaN</td>\n",
       "      <td>NaN</td>\n",
       "      <td>NaN</td>\n",
       "      <td>0.000000</td>\n",
       "      <td>0.000000</td>\n",
       "      <td>...</td>\n",
       "      <td>0.0</td>\n",
       "      <td>0.0</td>\n",
       "      <td>0.0</td>\n",
       "      <td>0.0</td>\n",
       "      <td>0.0</td>\n",
       "      <td>0.0</td>\n",
       "      <td>0.0</td>\n",
       "      <td>0.0</td>\n",
       "      <td>0.0</td>\n",
       "      <td>0.0</td>\n",
       "    </tr>\n",
       "    <tr>\n",
       "      <th>...</th>\n",
       "      <th>...</th>\n",
       "      <td>...</td>\n",
       "      <td>...</td>\n",
       "      <td>...</td>\n",
       "      <td>...</td>\n",
       "      <td>...</td>\n",
       "      <td>...</td>\n",
       "      <td>...</td>\n",
       "      <td>...</td>\n",
       "      <td>...</td>\n",
       "      <td>...</td>\n",
       "      <td>...</td>\n",
       "      <td>...</td>\n",
       "      <td>...</td>\n",
       "      <td>...</td>\n",
       "      <td>...</td>\n",
       "      <td>...</td>\n",
       "      <td>...</td>\n",
       "      <td>...</td>\n",
       "      <td>...</td>\n",
       "      <td>...</td>\n",
       "      <td>...</td>\n",
       "    </tr>\n",
       "    <tr>\n",
       "      <th rowspan=\"5\" valign=\"top\">allocentric</th>\n",
       "      <th>0</th>\n",
       "      <td>0.045226</td>\n",
       "      <td>0.040201</td>\n",
       "      <td>NaN</td>\n",
       "      <td>0.291457</td>\n",
       "      <td>0.015075</td>\n",
       "      <td>NaN</td>\n",
       "      <td>NaN</td>\n",
       "      <td>0.005025</td>\n",
       "      <td>0.000000</td>\n",
       "      <td>0.005025</td>\n",
       "      <td>...</td>\n",
       "      <td>NaN</td>\n",
       "      <td>NaN</td>\n",
       "      <td>NaN</td>\n",
       "      <td>NaN</td>\n",
       "      <td>NaN</td>\n",
       "      <td>NaN</td>\n",
       "      <td>NaN</td>\n",
       "      <td>NaN</td>\n",
       "      <td>NaN</td>\n",
       "      <td>NaN</td>\n",
       "    </tr>\n",
       "    <tr>\n",
       "      <th>1</th>\n",
       "      <td>0.111724</td>\n",
       "      <td>0.038621</td>\n",
       "      <td>0.052414</td>\n",
       "      <td>0.477241</td>\n",
       "      <td>0.068966</td>\n",
       "      <td>0.028966</td>\n",
       "      <td>0.012414</td>\n",
       "      <td>0.008276</td>\n",
       "      <td>0.009655</td>\n",
       "      <td>0.034483</td>\n",
       "      <td>...</td>\n",
       "      <td>0.0</td>\n",
       "      <td>0.0</td>\n",
       "      <td>0.0</td>\n",
       "      <td>0.0</td>\n",
       "      <td>0.0</td>\n",
       "      <td>0.0</td>\n",
       "      <td>0.0</td>\n",
       "      <td>0.0</td>\n",
       "      <td>0.0</td>\n",
       "      <td>0.0</td>\n",
       "    </tr>\n",
       "    <tr>\n",
       "      <th>2</th>\n",
       "      <td>0.034682</td>\n",
       "      <td>0.026012</td>\n",
       "      <td>0.000000</td>\n",
       "      <td>0.141618</td>\n",
       "      <td>0.002890</td>\n",
       "      <td>NaN</td>\n",
       "      <td>NaN</td>\n",
       "      <td>NaN</td>\n",
       "      <td>0.002890</td>\n",
       "      <td>0.023121</td>\n",
       "      <td>...</td>\n",
       "      <td>NaN</td>\n",
       "      <td>NaN</td>\n",
       "      <td>NaN</td>\n",
       "      <td>NaN</td>\n",
       "      <td>NaN</td>\n",
       "      <td>NaN</td>\n",
       "      <td>NaN</td>\n",
       "      <td>NaN</td>\n",
       "      <td>NaN</td>\n",
       "      <td>NaN</td>\n",
       "    </tr>\n",
       "    <tr>\n",
       "      <th>3</th>\n",
       "      <td>0.024723</td>\n",
       "      <td>0.015136</td>\n",
       "      <td>0.004541</td>\n",
       "      <td>0.189707</td>\n",
       "      <td>0.014127</td>\n",
       "      <td>NaN</td>\n",
       "      <td>NaN</td>\n",
       "      <td>0.004036</td>\n",
       "      <td>0.010091</td>\n",
       "      <td>0.027750</td>\n",
       "      <td>...</td>\n",
       "      <td>NaN</td>\n",
       "      <td>NaN</td>\n",
       "      <td>NaN</td>\n",
       "      <td>NaN</td>\n",
       "      <td>NaN</td>\n",
       "      <td>NaN</td>\n",
       "      <td>NaN</td>\n",
       "      <td>NaN</td>\n",
       "      <td>NaN</td>\n",
       "      <td>NaN</td>\n",
       "    </tr>\n",
       "    <tr>\n",
       "      <th>4</th>\n",
       "      <td>0.042194</td>\n",
       "      <td>0.009845</td>\n",
       "      <td>0.002813</td>\n",
       "      <td>0.639944</td>\n",
       "      <td>0.008439</td>\n",
       "      <td>0.000000</td>\n",
       "      <td>0.000000</td>\n",
       "      <td>0.001406</td>\n",
       "      <td>0.005626</td>\n",
       "      <td>0.045007</td>\n",
       "      <td>...</td>\n",
       "      <td>NaN</td>\n",
       "      <td>NaN</td>\n",
       "      <td>NaN</td>\n",
       "      <td>NaN</td>\n",
       "      <td>NaN</td>\n",
       "      <td>NaN</td>\n",
       "      <td>NaN</td>\n",
       "      <td>NaN</td>\n",
       "      <td>NaN</td>\n",
       "      <td>NaN</td>\n",
       "    </tr>\n",
       "  </tbody>\n",
       "</table>\n",
       "<p>185 rows × 211596 columns</p>\n",
       "</div>"
      ],
      "text/plain": [
       "                   good   morning      wish       you      nice  relaxing  \\\n",
       "innocent    0  0.435185  0.194444  0.314815  0.611111  0.342593  0.185185   \n",
       "            1  0.074286  0.068571  0.000000  0.605714  0.000000       NaN   \n",
       "            2  0.052790  0.013575  0.004525  0.840121  0.021116  0.000000   \n",
       "            3  0.032024  0.015250  0.004575  0.203965  0.013343  0.000000   \n",
       "            4  0.007326  0.000000       NaN  0.073260  0.007326       NaN   \n",
       "...                 ...       ...       ...       ...       ...       ...   \n",
       "allocentric 0  0.045226  0.040201       NaN  0.291457  0.015075       NaN   \n",
       "            1  0.111724  0.038621  0.052414  0.477241  0.068966  0.028966   \n",
       "            2  0.034682  0.026012  0.000000  0.141618  0.002890       NaN   \n",
       "            3  0.024723  0.015136  0.004541  0.189707  0.014127       NaN   \n",
       "            4  0.042194  0.009845  0.002813  0.639944  0.008439  0.000000   \n",
       "\n",
       "               thursday  saturday    friday     start  ...  #używane  \\\n",
       "innocent    0  0.037037  0.027778  0.009259  0.120370  ...       NaN   \n",
       "            1       NaN       NaN  0.022857  0.051429  ...       NaN   \n",
       "            2  0.000000  0.003017  0.007541  0.064857  ...       NaN   \n",
       "            3  0.001525  0.004575  0.008387  0.021350  ...       NaN   \n",
       "            4       NaN       NaN  0.000000  0.000000  ...       0.0   \n",
       "...                 ...       ...       ...       ...  ...       ...   \n",
       "allocentric 0       NaN  0.005025  0.000000  0.005025  ...       NaN   \n",
       "            1  0.012414  0.008276  0.009655  0.034483  ...       0.0   \n",
       "            2       NaN       NaN  0.002890  0.023121  ...       NaN   \n",
       "            3       NaN  0.004036  0.010091  0.027750  ...       NaN   \n",
       "            4  0.000000  0.001406  0.005626  0.045007  ...       NaN   \n",
       "\n",
       "               #podzielnia  #ekobiuro  #goHi2020  #hackaton  #jachranka  \\\n",
       "innocent    0          NaN        NaN        NaN        NaN         NaN   \n",
       "            1          NaN        NaN        NaN        NaN         NaN   \n",
       "            2          NaN        NaN        NaN        NaN         NaN   \n",
       "            3          NaN        NaN        NaN        NaN         NaN   \n",
       "            4          0.0        0.0        0.0        0.0         0.0   \n",
       "...                    ...        ...        ...        ...         ...   \n",
       "allocentric 0          NaN        NaN        NaN        NaN         NaN   \n",
       "            1          0.0        0.0        0.0        0.0         0.0   \n",
       "            2          NaN        NaN        NaN        NaN         NaN   \n",
       "            3          NaN        NaN        NaN        NaN         NaN   \n",
       "            4          NaN        NaN        NaN        NaN         NaN   \n",
       "\n",
       "               #greenladies  #greenguys  #polishheroes  #bestgifts  \n",
       "innocent    0           NaN         NaN            NaN         NaN  \n",
       "            1           NaN         NaN            NaN         NaN  \n",
       "            2           NaN         NaN            NaN         NaN  \n",
       "            3           NaN         NaN            NaN         NaN  \n",
       "            4           0.0         0.0            0.0         0.0  \n",
       "...                     ...         ...            ...         ...  \n",
       "allocentric 0           NaN         NaN            NaN         NaN  \n",
       "            1           0.0         0.0            0.0         0.0  \n",
       "            2           NaN         NaN            NaN         NaN  \n",
       "            3           NaN         NaN            NaN         NaN  \n",
       "            4           NaN         NaN            NaN         NaN  \n",
       "\n",
       "[185 rows x 211596 columns]"
      ]
     },
     "execution_count": 7,
     "metadata": {},
     "output_type": "execute_result"
    }
   ],
   "source": [
    "# Check the calculation results\n",
    "softmax_word_df"
   ]
  },
  {
   "cell_type": "code",
   "execution_count": 8,
   "id": "d5344edd-e02d-41cb-a70a-1ed996244cd6",
   "metadata": {},
   "outputs": [],
   "source": [
    "# Fill NaN values with 0\n",
    "softmax_word_df = softmax_word_df.fillna(0)\n",
    "\n",
    "softmax_word_df.to_pickle(\"agds_structures/class_x_normalized_agds.pickle\")"
   ]
  },
  {
   "cell_type": "code",
   "execution_count": 9,
   "id": "92a05f6f-6048-4bac-95a2-d9229399c2bb",
   "metadata": {},
   "outputs": [],
   "source": [
    "# Create word map for softmax structure\n",
    "softmax_word_map = softmax_word_df.columns.tolist()"
   ]
  },
  {
   "cell_type": "code",
   "execution_count": 10,
   "id": "66e0899c-6c04-4b2a-940e-f7b102bcf0fe",
   "metadata": {},
   "outputs": [],
   "source": [
    "from scipy.special import softmax\n",
    "\n",
    "def get_trait_dot_product(post_text: str, word_map: list, word_dataframe: pd.DataFrame) -> list:\n",
    "    # Filter out the text\n",
    "    filtered_post = remove_stopwords(clean_up_text(post_text))\n",
    "    filtered_post += extract_hashtags(post_text)\n",
    "    \n",
    "    # Create a vector for dot product vector\n",
    "    post_vector = [0] * len(word_map)\n",
    "    \n",
    "    # Calculate word occurrences\n",
    "    word_ctr = Counter(filtered_post)\n",
    "    \n",
    "    for word, freq in word_ctr.items():\n",
    "        if word in word_map:\n",
    "            post_vector[word_map.index(word)] = freq\n",
    "    \n",
    "    # Calculate dot product for a given text\n",
    "    word_dot = word_dataframe.dot(post_vector)\n",
    "    \n",
    "    out_vec = pd.Series()\n",
    "    for trait in trait_list:\n",
    "        out_vec = out_vec.append(pd.Series([np.argmax(softmax(word_dot.loc[trait]))], index=[trait]))\n",
    "    \n",
    "    return out_vec\n",
    "\n",
    "# Trait accuracy - round the results\n",
    "def natural_round(x: float) -> int:\n",
    "    out = int(x // 1)\n",
    "    return out + 1 if (x - out) >= 0.5 else out\n",
    "\n",
    "def accuracy_per_trait(input_vector: pd.Series, annotated_vector: pd.Series) -> np.array:\n",
    "    out_array = np.array([0] * 37, dtype=np.int)\n",
    "    for i in range(len(out_array)):\n",
    "        if input_vector[i] == annotated_vector[i]:\n",
    "            out_array[i] = 1\n",
    "    return out_array"
   ]
  },
  {
   "cell_type": "code",
   "execution_count": 11,
   "id": "ac507fb4-8140-4bd1-9c2e-a4f1683e71cc",
   "metadata": {},
   "outputs": [
    {
     "data": {
      "application/vnd.jupyter.widget-view+json": {
       "model_id": "19246ad49c7248799c39cc858ee611a9",
       "version_major": 2,
       "version_minor": 0
      },
      "text/plain": [
       "0it [00:00, ?it/s]"
      ]
     },
     "metadata": {},
     "output_type": "display_data"
    },
    {
     "name": "stderr",
     "output_type": "stream",
     "text": [
      "<ipython-input-10-4ffef00e153a>:21: DeprecationWarning: The default dtype for empty Series will be 'object' instead of 'float64' in a future version. Specify a dtype explicitly to silence this warning.\n",
      "  out_vec = pd.Series()\n"
     ]
    }
   ],
   "source": [
    "pbar = tqdm(train_df.iterrows())\n",
    "accuracy = 0\n",
    "\n",
    "# Out accuracy vector\n",
    "total_accuracy = np.array([0] * 37, dtype=np.int)\n",
    "\n",
    "for idx, row in pbar:\n",
    "    user_text = list(itertools.chain.from_iterable(train_posts[users.index(idx)]))\n",
    "    user_text = \" \".join(user_text)\n",
    "    sim_output = get_trait_dot_product(user_text, softmax_word_map, softmax_word_df)\n",
    "    user_accuracy = accuracy_per_trait(sim_output, row)\n",
    "    total_accuracy += user_accuracy\n",
    "    pbar.set_description(f\"Average accuracy: {round(np.mean(np.divide(total_accuracy, users.index(idx)+1))*100, 2)}\")"
   ]
  },
  {
   "cell_type": "code",
   "execution_count": 12,
   "id": "e1c812cd-ddbf-4ff2-b41c-20c4962032d8",
   "metadata": {},
   "outputs": [
    {
     "name": "stdout",
     "output_type": "stream",
     "text": [
      "--- ACCURACY ON TRAINING DATASET ---\n",
      "Average train dataset accuracy: 44.76%\n",
      "Accuracy per trait:\n",
      "innocent: 34.25%\n",
      "sage: 31.17%\n",
      "explorer: 68.02%\n",
      "outlaw: 46.27%\n",
      "magician: 46.1%\n",
      "hero: 40.91%\n",
      "lover: 32.95%\n",
      "jester: 41.88%\n",
      "everyman: 55.84%\n",
      "caregiver: 43.18%\n",
      "ruler: 46.59%\n",
      "creator: 57.14%\n",
      "dominant: 42.05%\n",
      "submissive: 34.42%\n",
      "maximalist: 64.29%\n",
      "minimalist: 51.79%\n",
      "inspiring: 36.36%\n",
      "systematic: 32.79%\n",
      "discovering: 64.29%\n",
      "conservative: 45.62%\n",
      "verifying: 71.75%\n",
      "overlooking: 33.6%\n",
      "sharpening: 30.03%\n",
      "harmonic: 25.16%\n",
      "empathic: 37.01%\n",
      "matter_of_fact: 39.45%\n",
      "brave: 47.08%\n",
      "protective: 48.38%\n",
      "generous: 29.22%\n",
      "thrifty: 54.06%\n",
      "favourable: 36.36%\n",
      "balanced: 51.14%\n",
      "sensuality: 51.46%\n",
      "intelligent: 58.6%\n",
      "believe: 53.57%\n",
      "egocentric: 39.94%\n",
      "allocentric: 33.44%\n"
     ]
    }
   ],
   "source": [
    "# Show total accuracy\n",
    "scaled_train_accuracy = np.divide(total_accuracy, len(train_df))\n",
    "avg_train_accuracy = np.mean(scaled_train_accuracy)\n",
    "\n",
    "print(\"--- ACCURACY ON TRAINING DATASET ---\")\n",
    "\n",
    "print(f\"Average train dataset accuracy: {round(avg_train_accuracy*100, 2)}%\")\n",
    "print(\"Accuracy per trait:\")\n",
    "for i in range(len(trait_list)):\n",
    "    print(f\"{trait_list[i]}: {round(scaled_train_accuracy[i] * 100, 2)}%\")"
   ]
  },
  {
   "cell_type": "code",
   "execution_count": 13,
   "id": "08f0d3c8-849b-485f-8017-b1c6f34de981",
   "metadata": {},
   "outputs": [],
   "source": [
    "# Set up environment for test dataset\n",
    "test_users = list(test_df.index.values)\n",
    "test_user_indices = {k: test_users.index(k) for k in test_users}"
   ]
  },
  {
   "cell_type": "code",
   "execution_count": 14,
   "id": "2e2d218b-01cc-4fdd-a7b7-dae532d6e960",
   "metadata": {},
   "outputs": [
    {
     "data": {
      "application/vnd.jupyter.widget-view+json": {
       "model_id": "d04d0d87e5d5465cbeadf20ae978c520",
       "version_major": 2,
       "version_minor": 0
      },
      "text/plain": [
       "0it [00:00, ?it/s]"
      ]
     },
     "metadata": {},
     "output_type": "display_data"
    },
    {
     "name": "stderr",
     "output_type": "stream",
     "text": [
      "<ipython-input-10-4ffef00e153a>:21: DeprecationWarning: The default dtype for empty Series will be 'object' instead of 'float64' in a future version. Specify a dtype explicitly to silence this warning.\n",
      "  out_vec = pd.Series()\n"
     ]
    }
   ],
   "source": [
    "pbar = tqdm(test_df.iterrows())\n",
    "accuracy = 0\n",
    "\n",
    "# Out accuracy vector\n",
    "test_total_accuracy = np.array([0] * 37, dtype=np.int)\n",
    "\n",
    "for idx, row in pbar:\n",
    "    user_text = list(itertools.chain.from_iterable(test_posts[test_users.index(idx)]))\n",
    "    user_text = \" \".join(user_text)\n",
    "    sim_output = get_trait_dot_product(user_text, softmax_word_map, softmax_word_df)\n",
    "    user_accuracy = accuracy_per_trait(sim_output, row)\n",
    "    test_total_accuracy += user_accuracy\n",
    "    pbar.set_description(f\"Average accuracy: {round(np.mean(np.divide(test_total_accuracy, test_users.index(idx)+1))*100, 2)}\")"
   ]
  },
  {
   "cell_type": "code",
   "execution_count": 15,
   "id": "5753e99d-511c-458e-a13a-5ae792b8d24e",
   "metadata": {},
   "outputs": [
    {
     "name": "stdout",
     "output_type": "stream",
     "text": [
      "--- ACCURACY ON TESTING DATASET ---\n",
      "Average test dataset accuracy: 20.21%\n",
      "Accuracy per trait:\n",
      "innocent: 18.84%\n",
      "sage: 18.84%\n",
      "explorer: 31.88%\n",
      "outlaw: 20.29%\n",
      "magician: 24.64%\n",
      "hero: 13.04%\n",
      "lover: 11.59%\n",
      "jester: 18.84%\n",
      "everyman: 33.33%\n",
      "caregiver: 27.54%\n",
      "ruler: 20.29%\n",
      "creator: 23.19%\n",
      "dominant: 23.19%\n",
      "submissive: 10.14%\n",
      "maximalist: 36.23%\n",
      "minimalist: 11.59%\n",
      "inspiring: 13.04%\n",
      "systematic: 17.39%\n",
      "discovering: 40.58%\n",
      "conservative: 15.94%\n",
      "verifying: 59.42%\n",
      "overlooking: 17.39%\n",
      "sharpening: 4.35%\n",
      "harmonic: 11.59%\n",
      "empathic: 8.7%\n",
      "matter_of_fact: 18.84%\n",
      "brave: 14.49%\n",
      "protective: 13.04%\n",
      "generous: 10.14%\n",
      "thrifty: 14.49%\n",
      "favourable: 10.14%\n",
      "balanced: 24.64%\n",
      "sensuality: 17.39%\n",
      "intelligent: 36.23%\n",
      "believe: 30.43%\n",
      "egocentric: 11.59%\n",
      "allocentric: 14.49%\n"
     ]
    }
   ],
   "source": [
    "# Show total accuracy\n",
    "scaled_test_accuracy = np.divide(test_total_accuracy, len(test_df))\n",
    "avg_test_accuracy = np.mean(scaled_test_accuracy)\n",
    "\n",
    "print(\"--- ACCURACY ON TESTING DATASET ---\")\n",
    "\n",
    "print(f\"Average test dataset accuracy: {round(avg_test_accuracy*100, 2)}%\")\n",
    "print(\"Accuracy per trait:\")\n",
    "for i in range(len(trait_list)):\n",
    "    print(f\"{trait_list[i]}: {round(scaled_test_accuracy[i] * 100, 2)}%\")"
   ]
  },
  {
   "cell_type": "code",
   "execution_count": null,
   "id": "364a49e4-4d0f-49f3-92fc-408a08de25e5",
   "metadata": {},
   "outputs": [],
   "source": []
  }
 ],
 "metadata": {
  "kernelspec": {
   "display_name": "Python 3",
   "language": "python",
   "name": "python3"
  },
  "language_info": {
   "codemirror_mode": {
    "name": "ipython",
    "version": 3
   },
   "file_extension": ".py",
   "mimetype": "text/x-python",
   "name": "python",
   "nbconvert_exporter": "python",
   "pygments_lexer": "ipython3",
   "version": "3.8.6"
  }
 },
 "nbformat": 4,
 "nbformat_minor": 5
}
