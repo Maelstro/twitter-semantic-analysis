{
 "cells": [
  {
   "cell_type": "code",
   "execution_count": 111,
   "metadata": {},
   "outputs": [],
   "source": [
    "# Most popular word/n-gram extraction\n",
    "\n",
    "import re\n",
    "import nltk\n",
    "import pandas as pd\n",
    "from nltk.corpus import stopwords\n",
    "from tqdm import tqdm\n",
    "\n",
    "# Stopwords object\n",
    "stop_words = set(stopwords.words('english')) \n",
    "\n",
    "# Regular expressions used for the text cleaning\n",
    "URL_PATTERN = re.compile(r\"((http://)[^ ]*|(https://)[^ ]*|( www\\.)[^ ]*)\")\n",
    "USERNAME_PATTERN = re.compile('@[^\\s]+')\n",
    "ALPHA_PATTERN = re.compile(r\"[^a-zA-Z]\")\n",
    "LONG_SEQ_PATTERN = re.compile(r\"(.)\\1\\1+\")\n",
    "REPL_SEQ_PATTERN = r\"\\1\\1\"\n",
    "\n",
    "def clean_up_text(tweet: str) -> str:\n",
    "    \"\"\"Cleans up the Tweet's text from emojis, usernames, links, etc.\"\"\"\n",
    "    lc_tweet = tweet.lower()\n",
    "    \n",
    "    # Remove unnecessary characters\n",
    "    lc_tweet = re.sub(URL_PATTERN, '', lc_tweet)\n",
    "    lc_tweet = re.sub(USERNAME_PATTERN, '', lc_tweet)\n",
    "    lc_tweet = re.sub(ALPHA_PATTERN, ' ', lc_tweet)\n",
    "    lc_tweet = re.sub(LONG_SEQ_PATTERN, REPL_SEQ_PATTERN, lc_tweet)\n",
    "    \n",
    "    return lc_tweet    \n",
    "\n",
    "def remove_stopwords(word_list: list) -> list:\n",
    "    \"\"\"Removes the stopwords from the tokenized tweet.\"\"\"\n",
    "    out_list = []\n",
    "    for word in word_list:\n",
    "        if word not in stop_words:\n",
    "            out_list.append(word)\n",
    "            \n",
    "    return out_list"
   ]
  },
  {
   "cell_type": "code",
   "execution_count": 57,
   "metadata": {},
   "outputs": [
    {
     "data": {
      "text/html": [
       "<div>\n",
       "<style scoped>\n",
       "    .dataframe tbody tr th:only-of-type {\n",
       "        vertical-align: middle;\n",
       "    }\n",
       "\n",
       "    .dataframe tbody tr th {\n",
       "        vertical-align: top;\n",
       "    }\n",
       "\n",
       "    .dataframe thead th {\n",
       "        text-align: right;\n",
       "    }\n",
       "</style>\n",
       "<table border=\"1\" class=\"dataframe\">\n",
       "  <thead>\n",
       "    <tr style=\"text-align: right;\">\n",
       "      <th></th>\n",
       "      <th>_id</th>\n",
       "      <th>tweet_text</th>\n",
       "      <th>username</th>\n",
       "      <th>created_at</th>\n",
       "      <th>timestamp</th>\n",
       "      <th>archetype</th>\n",
       "    </tr>\n",
       "  </thead>\n",
       "  <tbody>\n",
       "    <tr>\n",
       "      <th>0</th>\n",
       "      <td>5f9f1c36b38e10f823bf2cdc</td>\n",
       "      <td>@AndruEdwards The hard work has paid off, this...</td>\n",
       "      <td>LEGO_Group</td>\n",
       "      <td>2020-11-01 19:32:05.000</td>\n",
       "      <td>NaN</td>\n",
       "      <td>artist</td>\n",
       "    </tr>\n",
       "    <tr>\n",
       "      <th>1</th>\n",
       "      <td>5f9f1c36b38e10f823bf2cdd</td>\n",
       "      <td>@soosupersam A great way to surprise your love...</td>\n",
       "      <td>LEGO_Group</td>\n",
       "      <td>2020-11-01 19:09:40.000</td>\n",
       "      <td>NaN</td>\n",
       "      <td>artist</td>\n",
       "    </tr>\n",
       "    <tr>\n",
       "      <th>2</th>\n",
       "      <td>5f9f1c36b38e10f823bf2cde</td>\n",
       "      <td>You can now just bring the fun home, and reliv...</td>\n",
       "      <td>LEGO_Group</td>\n",
       "      <td>2020-11-01 14:00:36.000</td>\n",
       "      <td>NaN</td>\n",
       "      <td>artist</td>\n",
       "    </tr>\n",
       "    <tr>\n",
       "      <th>3</th>\n",
       "      <td>5f9f1c36b38e10f823bf2cdf</td>\n",
       "      <td>@at_knb Happy birthday to the master builder! ...</td>\n",
       "      <td>LEGO_Group</td>\n",
       "      <td>2020-10-31 17:16:57.000</td>\n",
       "      <td>NaN</td>\n",
       "      <td>artist</td>\n",
       "    </tr>\n",
       "    <tr>\n",
       "      <th>4</th>\n",
       "      <td>5f9f1c36b38e10f823bf2ce0</td>\n",
       "      <td>@dizunatsu 😀😀</td>\n",
       "      <td>LEGO_Group</td>\n",
       "      <td>2020-10-31 15:18:50.000</td>\n",
       "      <td>NaN</td>\n",
       "      <td>artist</td>\n",
       "    </tr>\n",
       "  </tbody>\n",
       "</table>\n",
       "</div>"
      ],
      "text/plain": [
       "                        _id  \\\n",
       "0  5f9f1c36b38e10f823bf2cdc   \n",
       "1  5f9f1c36b38e10f823bf2cdd   \n",
       "2  5f9f1c36b38e10f823bf2cde   \n",
       "3  5f9f1c36b38e10f823bf2cdf   \n",
       "4  5f9f1c36b38e10f823bf2ce0   \n",
       "\n",
       "                                          tweet_text    username  \\\n",
       "0  @AndruEdwards The hard work has paid off, this...  LEGO_Group   \n",
       "1  @soosupersam A great way to surprise your love...  LEGO_Group   \n",
       "2  You can now just bring the fun home, and reliv...  LEGO_Group   \n",
       "3  @at_knb Happy birthday to the master builder! ...  LEGO_Group   \n",
       "4                                      @dizunatsu 😀😀  LEGO_Group   \n",
       "\n",
       "                created_at timestamp archetype  \n",
       "0  2020-11-01 19:32:05.000       NaN    artist  \n",
       "1  2020-11-01 19:09:40.000       NaN    artist  \n",
       "2  2020-11-01 14:00:36.000       NaN    artist  \n",
       "3  2020-10-31 17:16:57.000       NaN    artist  \n",
       "4  2020-10-31 15:18:50.000       NaN    artist  "
      ]
     },
     "execution_count": 57,
     "metadata": {},
     "output_type": "execute_result"
    }
   ],
   "source": [
    "# Load the Twitter dataset\n",
    "twitter_df = pd.read_csv('tweets_21_02_2021.csv', index_col=0)\n",
    "\n",
    "# Print the head of the loaded dataset\n",
    "twitter_df.head()"
   ]
  },
  {
   "cell_type": "code",
   "execution_count": 58,
   "metadata": {},
   "outputs": [
    {
     "data": {
      "text/html": [
       "<div>\n",
       "<style scoped>\n",
       "    .dataframe tbody tr th:only-of-type {\n",
       "        vertical-align: middle;\n",
       "    }\n",
       "\n",
       "    .dataframe tbody tr th {\n",
       "        vertical-align: top;\n",
       "    }\n",
       "\n",
       "    .dataframe thead th {\n",
       "        text-align: right;\n",
       "    }\n",
       "</style>\n",
       "<table border=\"1\" class=\"dataframe\">\n",
       "  <thead>\n",
       "    <tr style=\"text-align: right;\">\n",
       "      <th></th>\n",
       "      <th>_id</th>\n",
       "      <th>tweet_text</th>\n",
       "      <th>username</th>\n",
       "      <th>created_at</th>\n",
       "      <th>timestamp</th>\n",
       "      <th>archetype</th>\n",
       "      <th>cleaned_text</th>\n",
       "    </tr>\n",
       "  </thead>\n",
       "  <tbody>\n",
       "    <tr>\n",
       "      <th>0</th>\n",
       "      <td>5f9f1c36b38e10f823bf2cdc</td>\n",
       "      <td>@AndruEdwards The hard work has paid off, this...</td>\n",
       "      <td>LEGO_Group</td>\n",
       "      <td>2020-11-01 19:32:05.000</td>\n",
       "      <td>NaN</td>\n",
       "      <td>artist</td>\n",
       "      <td>[hard, work, paid, awesome]</td>\n",
       "    </tr>\n",
       "    <tr>\n",
       "      <th>1</th>\n",
       "      <td>5f9f1c36b38e10f823bf2cdd</td>\n",
       "      <td>@soosupersam A great way to surprise your love...</td>\n",
       "      <td>LEGO_Group</td>\n",
       "      <td>2020-11-01 19:09:40.000</td>\n",
       "      <td>NaN</td>\n",
       "      <td>artist</td>\n",
       "      <td>[great, way, surprise, loved, one]</td>\n",
       "    </tr>\n",
       "    <tr>\n",
       "      <th>2</th>\n",
       "      <td>5f9f1c36b38e10f823bf2cde</td>\n",
       "      <td>You can now just bring the fun home, and reliv...</td>\n",
       "      <td>LEGO_Group</td>\n",
       "      <td>2020-11-01 14:00:36.000</td>\n",
       "      <td>NaN</td>\n",
       "      <td>artist</td>\n",
       "      <td>[bring, fun, home, relive, favorite, childhood...</td>\n",
       "    </tr>\n",
       "    <tr>\n",
       "      <th>3</th>\n",
       "      <td>5f9f1c36b38e10f823bf2cdf</td>\n",
       "      <td>@at_knb Happy birthday to the master builder! ...</td>\n",
       "      <td>LEGO_Group</td>\n",
       "      <td>2020-10-31 17:16:57.000</td>\n",
       "      <td>NaN</td>\n",
       "      <td>artist</td>\n",
       "      <td>[happy, birthday, master, builder, hope, magic...</td>\n",
       "    </tr>\n",
       "    <tr>\n",
       "      <th>6</th>\n",
       "      <td>5f9f1c36b38e10f823bf2ce2</td>\n",
       "      <td>@Ranchie This is the way! 😀</td>\n",
       "      <td>LEGO_Group</td>\n",
       "      <td>2020-10-31 15:16:26.000</td>\n",
       "      <td>NaN</td>\n",
       "      <td>artist</td>\n",
       "      <td>[way]</td>\n",
       "    </tr>\n",
       "  </tbody>\n",
       "</table>\n",
       "</div>"
      ],
      "text/plain": [
       "                        _id  \\\n",
       "0  5f9f1c36b38e10f823bf2cdc   \n",
       "1  5f9f1c36b38e10f823bf2cdd   \n",
       "2  5f9f1c36b38e10f823bf2cde   \n",
       "3  5f9f1c36b38e10f823bf2cdf   \n",
       "6  5f9f1c36b38e10f823bf2ce2   \n",
       "\n",
       "                                          tweet_text    username  \\\n",
       "0  @AndruEdwards The hard work has paid off, this...  LEGO_Group   \n",
       "1  @soosupersam A great way to surprise your love...  LEGO_Group   \n",
       "2  You can now just bring the fun home, and reliv...  LEGO_Group   \n",
       "3  @at_knb Happy birthday to the master builder! ...  LEGO_Group   \n",
       "6                        @Ranchie This is the way! 😀  LEGO_Group   \n",
       "\n",
       "                created_at timestamp archetype  \\\n",
       "0  2020-11-01 19:32:05.000       NaN    artist   \n",
       "1  2020-11-01 19:09:40.000       NaN    artist   \n",
       "2  2020-11-01 14:00:36.000       NaN    artist   \n",
       "3  2020-10-31 17:16:57.000       NaN    artist   \n",
       "6  2020-10-31 15:16:26.000       NaN    artist   \n",
       "\n",
       "                                        cleaned_text  \n",
       "0                        [hard, work, paid, awesome]  \n",
       "1                 [great, way, surprise, loved, one]  \n",
       "2  [bring, fun, home, relive, favorite, childhood...  \n",
       "3  [happy, birthday, master, builder, hope, magic...  \n",
       "6                                              [way]  "
      ]
     },
     "execution_count": 58,
     "metadata": {},
     "output_type": "execute_result"
    }
   ],
   "source": [
    "# Clean-up the texts\n",
    "twitter_df[\"cleaned_text\"] = twitter_df[\"tweet_text\"].apply(lambda x: clean_up_text(x))\n",
    "\n",
    "# Tokenize the cleaned texts\n",
    "twitter_df[\"cleaned_text\"] = twitter_df[\"cleaned_text\"].apply(lambda x: nltk.word_tokenize(x))\n",
    "\n",
    "# Remove the stopwords\n",
    "twitter_df[\"cleaned_text\"] = twitter_df[\"cleaned_text\"].apply(lambda x: remove_stopwords(x))\n",
    "\n",
    "# Drop the rows with empty 'cleaned_text' field\n",
    "twitter_df = twitter_df.drop(twitter_df[twitter_df['cleaned_text'].map(len) < 1].index)\n",
    "\n",
    "# Print the new head of the dataset\n",
    "twitter_df.head()"
   ]
  },
  {
   "cell_type": "code",
   "execution_count": 92,
   "metadata": {},
   "outputs": [
    {
     "data": {
      "text/plain": [
       "0                          [hard, work, paid, awesome]\n",
       "1                   [great, way, surprise, loved, one]\n",
       "2    [bring, fun, home, relive, favorite, childhood...\n",
       "3    [happy, birthday, master, builder, hope, magic...\n",
       "4                                                [way]\n",
       "Name: cleaned_text, dtype: object"
      ]
     },
     "execution_count": 92,
     "metadata": {},
     "output_type": "execute_result"
    }
   ],
   "source": [
    "# Example 1 - try to get the most occurring words in the 'artist' archetype subset\n",
    "# Extract all the tweets for the 'artist' archetype\n",
    "artist_df = twitter_df.cleaned_text[twitter_df[\"archetype\"] == \"artist\"]\n",
    "\n",
    "# Reset the index of the subset\n",
    "artist_df = artist_df.reset_index(drop=True)\n",
    "\n",
    "# Print the head of the subset\n",
    "artist_df.head()"
   ]
  },
  {
   "cell_type": "code",
   "execution_count": 93,
   "metadata": {},
   "outputs": [],
   "source": [
    "# Extract the most often occuring words in the subset\n",
    "fdist = nltk.FreqDist(word for text in artist_df.tolist() for word in text)\n",
    "\n",
    "# Get the word list sorted by frequency\n",
    "sorted_words = fdist.most_common(len(fdist))"
   ]
  },
  {
   "cell_type": "code",
   "execution_count": 94,
   "metadata": {},
   "outputs": [
    {
     "name": "stdout",
     "output_type": "stream",
     "text": [
      "Word count in artist archetype: 125656\n"
     ]
    }
   ],
   "source": [
    "# Get the unique word count in the archetype\n",
    "word_cnt = 0\n",
    "for k,v in sorted_words:\n",
    "    word_cnt += v\n",
    "print(f\"Word count in artist archetype: {word_cnt}\")"
   ]
  },
  {
   "cell_type": "code",
   "execution_count": 95,
   "metadata": {},
   "outputs": [
    {
     "data": {
      "text/html": [
       "<div>\n",
       "<style scoped>\n",
       "    .dataframe tbody tr th:only-of-type {\n",
       "        vertical-align: middle;\n",
       "    }\n",
       "\n",
       "    .dataframe tbody tr th {\n",
       "        vertical-align: top;\n",
       "    }\n",
       "\n",
       "    .dataframe thead th {\n",
       "        text-align: right;\n",
       "    }\n",
       "</style>\n",
       "<table border=\"1\" class=\"dataframe\">\n",
       "  <thead>\n",
       "    <tr style=\"text-align: right;\">\n",
       "      <th></th>\n",
       "      <th>chunk</th>\n",
       "      <th>frequency</th>\n",
       "    </tr>\n",
       "  </thead>\n",
       "  <tbody>\n",
       "    <tr>\n",
       "      <th>0</th>\n",
       "      <td>us</td>\n",
       "      <td>1373</td>\n",
       "    </tr>\n",
       "    <tr>\n",
       "      <th>1</th>\n",
       "      <td>get</td>\n",
       "      <td>1051</td>\n",
       "    </tr>\n",
       "    <tr>\n",
       "      <th>2</th>\n",
       "      <td>new</td>\n",
       "      <td>859</td>\n",
       "    </tr>\n",
       "    <tr>\n",
       "      <th>3</th>\n",
       "      <td>team</td>\n",
       "      <td>852</td>\n",
       "    </tr>\n",
       "    <tr>\n",
       "      <th>4</th>\n",
       "      <td>hi</td>\n",
       "      <td>761</td>\n",
       "    </tr>\n",
       "  </tbody>\n",
       "</table>\n",
       "</div>"
      ],
      "text/plain": [
       "  chunk  frequency\n",
       "0    us       1373\n",
       "1   get       1051\n",
       "2   new        859\n",
       "3  team        852\n",
       "4    hi        761"
      ]
     },
     "execution_count": 95,
     "metadata": {},
     "output_type": "execute_result"
    }
   ],
   "source": [
    "# Create a dataframe with word frequency\n",
    "freq_df = pd.DataFrame(sorted_words, columns=[\"chunk\", \"frequency\"])\n",
    "\n",
    "# Print the head of the dataset\n",
    "freq_df.head()"
   ]
  },
  {
   "cell_type": "code",
   "execution_count": 96,
   "metadata": {},
   "outputs": [
    {
     "data": {
      "text/html": [
       "<div>\n",
       "<style scoped>\n",
       "    .dataframe tbody tr th:only-of-type {\n",
       "        vertical-align: middle;\n",
       "    }\n",
       "\n",
       "    .dataframe tbody tr th {\n",
       "        vertical-align: top;\n",
       "    }\n",
       "\n",
       "    .dataframe thead th {\n",
       "        text-align: right;\n",
       "    }\n",
       "</style>\n",
       "<table border=\"1\" class=\"dataframe\">\n",
       "  <thead>\n",
       "    <tr style=\"text-align: right;\">\n",
       "      <th></th>\n",
       "      <th>chunk</th>\n",
       "      <th>frequency</th>\n",
       "    </tr>\n",
       "  </thead>\n",
       "  <tbody>\n",
       "    <tr>\n",
       "      <th>0</th>\n",
       "      <td>us</td>\n",
       "      <td>0.010927</td>\n",
       "    </tr>\n",
       "    <tr>\n",
       "      <th>1</th>\n",
       "      <td>get</td>\n",
       "      <td>0.008364</td>\n",
       "    </tr>\n",
       "    <tr>\n",
       "      <th>2</th>\n",
       "      <td>new</td>\n",
       "      <td>0.006836</td>\n",
       "    </tr>\n",
       "    <tr>\n",
       "      <th>3</th>\n",
       "      <td>team</td>\n",
       "      <td>0.006780</td>\n",
       "    </tr>\n",
       "    <tr>\n",
       "      <th>4</th>\n",
       "      <td>hi</td>\n",
       "      <td>0.006056</td>\n",
       "    </tr>\n",
       "  </tbody>\n",
       "</table>\n",
       "</div>"
      ],
      "text/plain": [
       "  chunk  frequency\n",
       "0    us   0.010927\n",
       "1   get   0.008364\n",
       "2   new   0.006836\n",
       "3  team   0.006780\n",
       "4    hi   0.006056"
      ]
     },
     "execution_count": 96,
     "metadata": {},
     "output_type": "execute_result"
    }
   ],
   "source": [
    "# Create the coefficient based on the word appearance in a given corpus\n",
    "freq_df[\"frequency\"] = freq_df[\"frequency\"].apply(lambda x: float(x) / word_cnt)\n",
    "\n",
    "# Print the head of the dataset\n",
    "freq_df.head()"
   ]
  },
  {
   "cell_type": "code",
   "execution_count": 105,
   "metadata": {},
   "outputs": [],
   "source": [
    "# Get the bigram and trigram count in the given corpus\n",
    "from collections import Counter\n",
    "from nltk.util import bigrams, trigrams\n",
    "\n",
    "bigrams = artist_df.apply(lambda row: list(nltk.ngrams(row, 2)))\n",
    "trigrams = artist_df.apply(lambda row: list(nltk.ngrams(row, 3)))\n",
    "\n",
    "bigrams_freq = nltk.FreqDist(gram for text in bigrams for gram in text)\n",
    "trigrams_freq = nltk.FreqDist(gram for text in trigrams for gram in text)\n",
    "                                                        \n",
    "# Sort bi- and trigrams\n",
    "sorted_bigrams = bigrams_freq.most_common(len(bigrams_freq))\n",
    "sorted_trigrams = trigrams_freq.most_common(len(trigrams_freq))"
   ]
  },
  {
   "cell_type": "code",
   "execution_count": 106,
   "metadata": {},
   "outputs": [
    {
     "name": "stdout",
     "output_type": "stream",
     "text": [
      "Bigram count in artist archetype: 115081\n",
      "Trigram count in artist archetype: 104977\n"
     ]
    }
   ],
   "source": [
    "# Get the unique n-gram count in the archetype\n",
    "bi_cnt = 0\n",
    "for k,v in sorted_bigrams:\n",
    "    bi_cnt += v\n",
    "print(f\"Bigram count in artist archetype: {bi_cnt}\")\n",
    "\n",
    "tri_cnt = 0\n",
    "for k,v in sorted_trigrams:\n",
    "    tri_cnt += v\n",
    "print(f\"Trigram count in artist archetype: {tri_cnt}\")"
   ]
  },
  {
   "cell_type": "code",
   "execution_count": 107,
   "metadata": {},
   "outputs": [],
   "source": [
    "# Create coefficients for n-grams\n",
    "bigram_freq = pd.DataFrame(sorted_bigrams, columns=[\"chunk\", \"frequency\"])\n",
    "trigram_freq = pd.DataFrame(sorted_trigrams, columns=[\"chunk\", \"frequency\"])\n",
    "\n",
    "# Scale the coefficients\n",
    "bigram_freq[\"frequency\"] = bigram_freq[\"frequency\"].apply(lambda x: float(x) / bi_cnt)\n",
    "trigram_freq[\"frequency\"] = trigram_freq[\"frequency\"].apply(lambda x: float(x) / tri_cnt)\n",
    "\n",
    "# Concatenate the frames\n",
    "frames = [freq_df, bigram_freq, trigram_freq]\n",
    "full_freq = pd.concat(frames, ignore_index=True)"
   ]
  },
  {
   "cell_type": "code",
   "execution_count": 108,
   "metadata": {},
   "outputs": [
    {
     "name": "stdout",
     "output_type": "stream",
     "text": [
      "                              chunk  frequency\n",
      "0                                us   0.010927\n",
      "1                               get   0.008364\n",
      "2                               new   0.006836\n",
      "3                              team   0.006780\n",
      "4                                hi   0.006056\n",
      "...                             ...        ...\n",
      "127825   (seen, lookalikes, celebs)   0.000010\n",
      "127826  (lookalikes, celebs, great)   0.000010\n",
      "127827        (celebs, great, love)   0.000010\n",
      "127828          (great, love, real)   0.000010\n",
      "127829           (love, real, best)   0.000010\n",
      "\n",
      "[127830 rows x 2 columns]\n"
     ]
    }
   ],
   "source": [
    "# Print the new frequency DataFrame\n",
    "print(full_freq)"
   ]
  },
  {
   "cell_type": "code",
   "execution_count": 137,
   "metadata": {},
   "outputs": [
    {
     "name": "stderr",
     "output_type": "stream",
     "text": [
      "  8%|▊         | 1/12 [00:00<00:04,  2.74it/s]"
     ]
    },
    {
     "name": "stdout",
     "output_type": "stream",
     "text": [
      "Bigram count in artist archetype: 115081\n",
      "Trigram count in artist archetype: 104977\n"
     ]
    },
    {
     "name": "stderr",
     "output_type": "stream",
     "text": [
      " 17%|█▋        | 2/12 [00:00<00:03,  3.27it/s]"
     ]
    },
    {
     "name": "stdout",
     "output_type": "stream",
     "text": [
      "Bigram count in caregiver archetype: 71474\n",
      "Trigram count in caregiver archetype: 65950\n"
     ]
    },
    {
     "name": "stderr",
     "output_type": "stream",
     "text": [
      " 25%|██▌       | 3/12 [00:00<00:02,  3.32it/s]"
     ]
    },
    {
     "name": "stdout",
     "output_type": "stream",
     "text": [
      "Bigram count in everyman archetype: 60704\n",
      "Trigram count in everyman archetype: 53405\n"
     ]
    },
    {
     "name": "stderr",
     "output_type": "stream",
     "text": [
      " 33%|███▎      | 4/12 [00:01<00:02,  2.71it/s]"
     ]
    },
    {
     "name": "stdout",
     "output_type": "stream",
     "text": [
      "Bigram count in explorer archetype: 113752\n",
      "Trigram count in explorer archetype: 104160\n",
      "Bigram count in guru archetype: 128649\n",
      "Trigram count in guru archetype: 118189\n"
     ]
    },
    {
     "name": "stderr",
     "output_type": "stream",
     "text": [
      " 42%|████▏     | 5/12 [00:02<00:03,  2.15it/s]"
     ]
    },
    {
     "name": "stdout",
     "output_type": "stream",
     "text": [
      "Bigram count in hero archetype: 60557\n",
      "Trigram count in hero archetype: 55815\n"
     ]
    },
    {
     "name": "stderr",
     "output_type": "stream",
     "text": [
      " 50%|█████     | 6/12 [00:02<00:03,  1.78it/s]"
     ]
    },
    {
     "name": "stdout",
     "output_type": "stream",
     "text": [
      "Bigram count in innocent archetype: 70759\n",
      "Trigram count in innocent archetype: 64200\n"
     ]
    },
    {
     "name": "stderr",
     "output_type": "stream",
     "text": [
      " 58%|█████▊    | 7/12 [00:03<00:02,  1.82it/s]"
     ]
    },
    {
     "name": "stdout",
     "output_type": "stream",
     "text": [
      "Bigram count in jester archetype: 88435\n",
      "Trigram count in jester archetype: 79303\n"
     ]
    },
    {
     "name": "stderr",
     "output_type": "stream",
     "text": [
      " 67%|██████▋   | 8/12 [00:03<00:02,  1.77it/s]"
     ]
    },
    {
     "name": "stdout",
     "output_type": "stream",
     "text": [
      "Bigram count in magician archetype: 110600\n",
      "Trigram count in magician archetype: 100338\n"
     ]
    },
    {
     "name": "stderr",
     "output_type": "stream",
     "text": [
      " 75%|███████▌  | 9/12 [00:04<00:01,  1.59it/s]"
     ]
    },
    {
     "name": "stdout",
     "output_type": "stream",
     "text": [
      "Bigram count in rebel archetype: 57700\n",
      "Trigram count in rebel archetype: 52993\n"
     ]
    },
    {
     "name": "stderr",
     "output_type": "stream",
     "text": [
      " 83%|████████▎ | 10/12 [00:05<00:01,  1.54it/s]"
     ]
    },
    {
     "name": "stdout",
     "output_type": "stream",
     "text": [
      "Bigram count in ruler archetype: 91743\n",
      "Trigram count in ruler archetype: 83326\n"
     ]
    },
    {
     "name": "stderr",
     "output_type": "stream",
     "text": [
      " 92%|█████████▏| 11/12 [00:06<00:00,  1.43it/s]"
     ]
    },
    {
     "name": "stdout",
     "output_type": "stream",
     "text": [
      "Bigram count in seducer archetype: 46117\n",
      "Trigram count in seducer archetype: 42757\n"
     ]
    },
    {
     "name": "stderr",
     "output_type": "stream",
     "text": [
      "100%|██████████| 12/12 [00:06<00:00,  1.74it/s]\n"
     ]
    }
   ],
   "source": [
    "# Create full frequency table for all of the archetypes\n",
    "archetype_list = ['artist',\n",
    "                 'caregiver',\n",
    "                 'everyman',\n",
    "                 'explorer',\n",
    "                 'guru',\n",
    "                 'hero',\n",
    "                 'innocent',\n",
    "                 'jester',\n",
    "                 'magician',\n",
    "                 'rebel',\n",
    "                 'ruler',\n",
    "                 'seducer']\n",
    "\n",
    "full_df = pd.DataFrame(columns=['chunk'] + archetype_list)\n",
    "\n",
    "\n",
    "for archetype in tqdm(archetype_list):\n",
    "    bigrams = None\n",
    "    trigrams = None\n",
    "    bigrams_freq = None\n",
    "    trigrams_freq = None\n",
    "    tmp_df = None\n",
    "    \n",
    "    tmp_df = twitter_df.cleaned_text[twitter_df[\"archetype\"] == archetype]\n",
    "\n",
    "    # Reset the index of the subset\n",
    "    tmp_df = tmp_df.reset_index(drop=True)\n",
    "    \n",
    "    # Extract the most often occuring words in the subset\n",
    "    fdist = nltk.FreqDist(word for text in tmp_df.tolist() for word in text)\n",
    "\n",
    "    # Get the word list sorted by frequency\n",
    "    sorted_words = fdist.most_common(len(fdist))\n",
    "    \n",
    "    # Create a dataframe with word frequency\n",
    "    freq_df = pd.DataFrame(sorted_words, columns=[\"chunk\", archetype])\n",
    "    \n",
    "    # Create the coefficient based on the word appearance in a given corpus\n",
    "    freq_df[archetype] = freq_df[archetype].apply(lambda x: float(x) / word_cnt)\n",
    "    \n",
    "    bigrams = tmp_df.apply(lambda row: list(nltk.ngrams(row, 2)))\n",
    "    trigrams = tmp_df.apply(lambda row: list(nltk.ngrams(row, 3)))\n",
    "\n",
    "    bigrams_freq = nltk.FreqDist(gram for text in bigrams for gram in text)\n",
    "    trigrams_freq = nltk.FreqDist(gram for text in trigrams for gram in text)\n",
    "\n",
    "    # Sort bi- and trigrams\n",
    "    sorted_bigrams = bigrams_freq.most_common(len(bigrams_freq))\n",
    "    sorted_trigrams = trigrams_freq.most_common(len(trigrams_freq))\n",
    "    \n",
    "    # Get the unique n-gram count in the archetype\n",
    "    bi_cnt = 0\n",
    "    for k,v in sorted_bigrams:\n",
    "        bi_cnt += v\n",
    "    print(f\"Bigram count in {archetype} archetype: {bi_cnt}\")\n",
    "\n",
    "    tri_cnt = 0\n",
    "    for k,v in sorted_trigrams:\n",
    "        tri_cnt += v\n",
    "    print(f\"Trigram count in {archetype} archetype: {tri_cnt}\")\n",
    "    \n",
    "    # Create coefficients for n-grams\n",
    "    bigram_freq = pd.DataFrame(sorted_bigrams, columns=[\"chunk\", archetype])\n",
    "    trigram_freq = pd.DataFrame(sorted_trigrams, columns=[\"chunk\", archetype])\n",
    "\n",
    "    # Scale the coefficients\n",
    "    bigram_freq[archetype] = bigram_freq[archetype].apply(lambda x: float(x) / bi_cnt)\n",
    "    trigram_freq[archetype] = trigram_freq[archetype].apply(lambda x: float(x) / tri_cnt)\n",
    "\n",
    "    # Concatenate the frames\n",
    "    frames = [freq_df, bigram_freq, trigram_freq]\n",
    "    full_freq = pd.concat(frames, ignore_index=True)\n",
    "    \n",
    "    # Concatenate the new frame and the base\n",
    "    frames = [full_df, full_freq]\n",
    "    full_df = pd.concat(frames, ignore_index=True)"
   ]
  },
  {
   "cell_type": "code",
   "execution_count": 138,
   "metadata": {},
   "outputs": [
    {
     "data": {
      "text/html": [
       "<div>\n",
       "<style scoped>\n",
       "    .dataframe tbody tr th:only-of-type {\n",
       "        vertical-align: middle;\n",
       "    }\n",
       "\n",
       "    .dataframe tbody tr th {\n",
       "        vertical-align: top;\n",
       "    }\n",
       "\n",
       "    .dataframe thead th {\n",
       "        text-align: right;\n",
       "    }\n",
       "</style>\n",
       "<table border=\"1\" class=\"dataframe\">\n",
       "  <thead>\n",
       "    <tr style=\"text-align: right;\">\n",
       "      <th></th>\n",
       "      <th>chunk</th>\n",
       "      <th>artist</th>\n",
       "      <th>caregiver</th>\n",
       "      <th>everyman</th>\n",
       "      <th>explorer</th>\n",
       "      <th>guru</th>\n",
       "      <th>hero</th>\n",
       "      <th>innocent</th>\n",
       "      <th>jester</th>\n",
       "      <th>magician</th>\n",
       "      <th>rebel</th>\n",
       "      <th>ruler</th>\n",
       "      <th>seducer</th>\n",
       "    </tr>\n",
       "  </thead>\n",
       "  <tbody>\n",
       "    <tr>\n",
       "      <th>0</th>\n",
       "      <td>(aa, batteries)</td>\n",
       "      <td>0.0</td>\n",
       "      <td>0.000000</td>\n",
       "      <td>0.000000</td>\n",
       "      <td>0.000000</td>\n",
       "      <td>0.0</td>\n",
       "      <td>0.000000</td>\n",
       "      <td>0.0</td>\n",
       "      <td>0.0</td>\n",
       "      <td>0.000009</td>\n",
       "      <td>0.0</td>\n",
       "      <td>0.0</td>\n",
       "      <td>0.0</td>\n",
       "    </tr>\n",
       "    <tr>\n",
       "      <th>1</th>\n",
       "      <td>(aa, came)</td>\n",
       "      <td>0.0</td>\n",
       "      <td>0.000000</td>\n",
       "      <td>0.000016</td>\n",
       "      <td>0.000000</td>\n",
       "      <td>0.0</td>\n",
       "      <td>0.000000</td>\n",
       "      <td>0.0</td>\n",
       "      <td>0.0</td>\n",
       "      <td>0.000000</td>\n",
       "      <td>0.0</td>\n",
       "      <td>0.0</td>\n",
       "      <td>0.0</td>\n",
       "    </tr>\n",
       "    <tr>\n",
       "      <th>2</th>\n",
       "      <td>(aa, came, rescue)</td>\n",
       "      <td>0.0</td>\n",
       "      <td>0.000000</td>\n",
       "      <td>0.000019</td>\n",
       "      <td>0.000000</td>\n",
       "      <td>0.0</td>\n",
       "      <td>0.000000</td>\n",
       "      <td>0.0</td>\n",
       "      <td>0.0</td>\n",
       "      <td>0.000000</td>\n",
       "      <td>0.0</td>\n",
       "      <td>0.0</td>\n",
       "      <td>0.0</td>\n",
       "    </tr>\n",
       "    <tr>\n",
       "      <th>3</th>\n",
       "      <td>(aa, gold)</td>\n",
       "      <td>0.0</td>\n",
       "      <td>0.000000</td>\n",
       "      <td>0.000000</td>\n",
       "      <td>0.000009</td>\n",
       "      <td>0.0</td>\n",
       "      <td>0.000000</td>\n",
       "      <td>0.0</td>\n",
       "      <td>0.0</td>\n",
       "      <td>0.000000</td>\n",
       "      <td>0.0</td>\n",
       "      <td>0.0</td>\n",
       "      <td>0.0</td>\n",
       "    </tr>\n",
       "    <tr>\n",
       "      <th>4</th>\n",
       "      <td>(aa, gold, director)</td>\n",
       "      <td>0.0</td>\n",
       "      <td>0.000000</td>\n",
       "      <td>0.000000</td>\n",
       "      <td>0.000010</td>\n",
       "      <td>0.0</td>\n",
       "      <td>0.000000</td>\n",
       "      <td>0.0</td>\n",
       "      <td>0.0</td>\n",
       "      <td>0.000000</td>\n",
       "      <td>0.0</td>\n",
       "      <td>0.0</td>\n",
       "      <td>0.0</td>\n",
       "    </tr>\n",
       "    <tr>\n",
       "      <th>...</th>\n",
       "      <td>...</td>\n",
       "      <td>...</td>\n",
       "      <td>...</td>\n",
       "      <td>...</td>\n",
       "      <td>...</td>\n",
       "      <td>...</td>\n",
       "      <td>...</td>\n",
       "      <td>...</td>\n",
       "      <td>...</td>\n",
       "      <td>...</td>\n",
       "      <td>...</td>\n",
       "      <td>...</td>\n",
       "      <td>...</td>\n",
       "    </tr>\n",
       "    <tr>\n",
       "      <th>1034655</th>\n",
       "      <td>zyi</td>\n",
       "      <td>0.0</td>\n",
       "      <td>0.000024</td>\n",
       "      <td>0.000000</td>\n",
       "      <td>0.000000</td>\n",
       "      <td>0.0</td>\n",
       "      <td>0.000000</td>\n",
       "      <td>0.0</td>\n",
       "      <td>0.0</td>\n",
       "      <td>0.000000</td>\n",
       "      <td>0.0</td>\n",
       "      <td>0.0</td>\n",
       "      <td>0.0</td>\n",
       "    </tr>\n",
       "    <tr>\n",
       "      <th>1034656</th>\n",
       "      <td>zyoom</td>\n",
       "      <td>0.0</td>\n",
       "      <td>0.000000</td>\n",
       "      <td>0.000000</td>\n",
       "      <td>0.000000</td>\n",
       "      <td>0.0</td>\n",
       "      <td>0.000000</td>\n",
       "      <td>0.0</td>\n",
       "      <td>0.0</td>\n",
       "      <td>0.000016</td>\n",
       "      <td>0.0</td>\n",
       "      <td>0.0</td>\n",
       "      <td>0.0</td>\n",
       "    </tr>\n",
       "    <tr>\n",
       "      <th>1034657</th>\n",
       "      <td>zyra</td>\n",
       "      <td>0.0</td>\n",
       "      <td>0.000000</td>\n",
       "      <td>0.000000</td>\n",
       "      <td>0.000000</td>\n",
       "      <td>0.0</td>\n",
       "      <td>0.000000</td>\n",
       "      <td>0.0</td>\n",
       "      <td>0.0</td>\n",
       "      <td>0.000008</td>\n",
       "      <td>0.0</td>\n",
       "      <td>0.0</td>\n",
       "      <td>0.0</td>\n",
       "    </tr>\n",
       "    <tr>\n",
       "      <th>1034658</th>\n",
       "      <td>zz</td>\n",
       "      <td>0.0</td>\n",
       "      <td>0.000000</td>\n",
       "      <td>0.000000</td>\n",
       "      <td>0.000000</td>\n",
       "      <td>0.0</td>\n",
       "      <td>0.000008</td>\n",
       "      <td>0.0</td>\n",
       "      <td>0.0</td>\n",
       "      <td>0.000000</td>\n",
       "      <td>0.0</td>\n",
       "      <td>0.0</td>\n",
       "      <td>0.0</td>\n",
       "    </tr>\n",
       "    <tr>\n",
       "      <th>1034659</th>\n",
       "      <td>zzerinden</td>\n",
       "      <td>0.0</td>\n",
       "      <td>0.000000</td>\n",
       "      <td>0.000000</td>\n",
       "      <td>0.000000</td>\n",
       "      <td>0.0</td>\n",
       "      <td>0.000000</td>\n",
       "      <td>0.0</td>\n",
       "      <td>0.0</td>\n",
       "      <td>0.000008</td>\n",
       "      <td>0.0</td>\n",
       "      <td>0.0</td>\n",
       "      <td>0.0</td>\n",
       "    </tr>\n",
       "  </tbody>\n",
       "</table>\n",
       "<p>1034660 rows × 13 columns</p>\n",
       "</div>"
      ],
      "text/plain": [
       "                        chunk  artist  caregiver  everyman  explorer  guru  \\\n",
       "0             (aa, batteries)     0.0   0.000000  0.000000  0.000000   0.0   \n",
       "1                  (aa, came)     0.0   0.000000  0.000016  0.000000   0.0   \n",
       "2          (aa, came, rescue)     0.0   0.000000  0.000019  0.000000   0.0   \n",
       "3                  (aa, gold)     0.0   0.000000  0.000000  0.000009   0.0   \n",
       "4        (aa, gold, director)     0.0   0.000000  0.000000  0.000010   0.0   \n",
       "...                       ...     ...        ...       ...       ...   ...   \n",
       "1034655                   zyi     0.0   0.000024  0.000000  0.000000   0.0   \n",
       "1034656                 zyoom     0.0   0.000000  0.000000  0.000000   0.0   \n",
       "1034657                  zyra     0.0   0.000000  0.000000  0.000000   0.0   \n",
       "1034658                    zz     0.0   0.000000  0.000000  0.000000   0.0   \n",
       "1034659             zzerinden     0.0   0.000000  0.000000  0.000000   0.0   \n",
       "\n",
       "             hero  innocent  jester  magician  rebel  ruler  seducer  \n",
       "0        0.000000       0.0     0.0  0.000009    0.0    0.0      0.0  \n",
       "1        0.000000       0.0     0.0  0.000000    0.0    0.0      0.0  \n",
       "2        0.000000       0.0     0.0  0.000000    0.0    0.0      0.0  \n",
       "3        0.000000       0.0     0.0  0.000000    0.0    0.0      0.0  \n",
       "4        0.000000       0.0     0.0  0.000000    0.0    0.0      0.0  \n",
       "...           ...       ...     ...       ...    ...    ...      ...  \n",
       "1034655  0.000000       0.0     0.0  0.000000    0.0    0.0      0.0  \n",
       "1034656  0.000000       0.0     0.0  0.000016    0.0    0.0      0.0  \n",
       "1034657  0.000000       0.0     0.0  0.000008    0.0    0.0      0.0  \n",
       "1034658  0.000008       0.0     0.0  0.000000    0.0    0.0      0.0  \n",
       "1034659  0.000000       0.0     0.0  0.000008    0.0    0.0      0.0  \n",
       "\n",
       "[1034660 rows x 13 columns]"
      ]
     },
     "execution_count": 138,
     "metadata": {},
     "output_type": "execute_result"
    }
   ],
   "source": [
    "# Fill all NaN with 0.0\n",
    "full_df = full_df.fillna(0.0)\n",
    "\n",
    "# Aggregate the results\n",
    "aggregate_func = {\n",
    "    \"chunk\": \"first\",\n",
    "    \"artist\": \"sum\",\n",
    "    \"caregiver\": \"sum\",\n",
    "    \"everyman\": \"sum\",\n",
    "    \"explorer\": \"sum\",\n",
    "    \"guru\": \"sum\",\n",
    "    \"hero\": \"sum\",\n",
    "    \"innocent\": \"sum\",\n",
    "    \"jester\": \"sum\",\n",
    "    \"magician\": \"sum\",\n",
    "    \"rebel\": \"sum\",\n",
    "    \"ruler\": \"sum\",\n",
    "    \"seducer\": \"sum\"\n",
    "}\n",
    "\n",
    "full_df = full_df.groupby(\"chunk\").aggregate(aggregate_func)\n",
    "full_df = full_df.reset_index(drop=True)\n",
    "\n",
    "# Show the aggregated results\n",
    "full_df"
   ]
  },
  {
   "cell_type": "code",
   "execution_count": 139,
   "metadata": {},
   "outputs": [],
   "source": [
    "# Save the file\n",
    "full_df.to_csv(\"word_ngram_frequency.csv\")"
   ]
  },
  {
   "cell_type": "code",
   "execution_count": null,
   "metadata": {},
   "outputs": [],
   "source": []
  }
 ],
 "metadata": {
  "kernelspec": {
   "display_name": "Python 3",
   "language": "python",
   "name": "python3"
  },
  "language_info": {
   "codemirror_mode": {
    "name": "ipython",
    "version": 3
   },
   "file_extension": ".py",
   "mimetype": "text/x-python",
   "name": "python",
   "nbconvert_exporter": "python",
   "pygments_lexer": "ipython3",
   "version": "3.8.6"
  }
 },
 "nbformat": 4,
 "nbformat_minor": 4
}
