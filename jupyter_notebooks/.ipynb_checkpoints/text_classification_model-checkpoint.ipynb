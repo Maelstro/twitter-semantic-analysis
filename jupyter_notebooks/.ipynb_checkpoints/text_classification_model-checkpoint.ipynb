{
 "cells": [
  {
   "cell_type": "code",
   "execution_count": 128,
   "metadata": {},
   "outputs": [],
   "source": [
    "# Tweet semantic analysis\n",
    "import re\n",
    "from pymongo import MongoClient\n",
    "from pprint import pprint\n",
    "import pandas as pd\n",
    "from wordcloud import WordCloud\n",
    "import collections\n",
    "import pickle\n",
    "import numpy as np\n",
    "import matplotlib.pyplot as plt\n",
    "import seaborn as sns\n",
    "\n",
    "import nltk\n",
    "from nltk.stem import WordNetLemmatizer\n",
    "from nltk.corpus import stopwords\n",
    "from sklearn.feature_extraction.text import TfidfTransformer, CountVectorizer\n",
    "from sklearn.model_selection import train_test_split\n",
    "from sklearn.cluster import KMeans, DBSCAN\n",
    "from tensorflow import keras\n",
    "import tensorflow as tf\n",
    "from keras.datasets import mnist\n",
    "from keras.models import Model\n",
    "from keras.layers import Input, Conv1D, Embedding, MaxPooling1D, Flatten, Dense, SpatialDropout1D, LSTM, Bidirectional, Dropout\n",
    "from keras.utils import to_categorical\n",
    "from keras.preprocessing.text import Tokenizer\n",
    "from keras.preprocessing.sequence import pad_sequences\n",
    "from keras.callbacks import EarlyStopping, ModelCheckpoint, ReduceLROnPlateau"
   ]
  },
  {
   "cell_type": "code",
   "execution_count": 108,
   "metadata": {},
   "outputs": [],
   "source": [
    "# Functions used in the notebook\n",
    "def mongo_connect(server_name: str) -> MongoClient:\n",
    "    \"\"\"Creates connection to the MongoDB database with given server name.\"\"\"\n",
    "    client = MongoClient(server_name)\n",
    "    db = client.twitter_db\n",
    "    return db\n",
    "\n",
    "word_lemm = WordNetLemmatizer()\n",
    "stopwords_eng = stopwords.words('english')\n",
    "\n",
    "stopwordlist = ['a', 'about', 'above', 'after', 'again', 'ain', 'all', 'am', 'an',\n",
    "             'and','any','are', 'as', 'at', 'be', 'because', 'been', 'before',\n",
    "             'being', 'below', 'between','both', 'by', 'can', 'd', 'did', 'do',\n",
    "             'does', 'doing', 'down', 'during', 'each','few', 'for', 'from', \n",
    "             'further', 'had', 'has', 'have', 'having', 'he', 'her', 'here',\n",
    "             'hers', 'herself', 'him', 'himself', 'his', 'how', 'if', 'in',\n",
    "             'into','is', 'it', 'its', 'itself', 'just', 'll', 'm', 'ma',\n",
    "             'me', 'more', 'most','my', 'myself', 'now', 'o', 'of', 'on', 'once',\n",
    "             'only', 'or', 'other', 'our', 'ours','ourselves', 'out', 'own', 're',\n",
    "             's', 'same', 'she', \"shes\", 'should', \"shouldve\",'so', 'some', 'such',\n",
    "             't', 'than', 'that', \"thatll\", 'the',\n",
    "             'themselves', 'then', 'there', 'these', 'they', 'this', 'those', \n",
    "             'through', 'to', 'too','under', 'until', 'up', 've', 'very', 'was',\n",
    "             'we', 'were', 'what', 'when', 'where','which','while', 'who', 'whom',\n",
    "             'why', 'will', 'with', 'won', 'y', 'you', \"youd\",\"youll\", \"youre\",\n",
    "             \"youve\", 'your', 'yours', 'yourself', 'yourselves']\n",
    "\n",
    "# Tweet preprocessing\n",
    "def preprocess_texts(text_list: pd.DataFrame):\n",
    "    \"\"\"Processes text to remove all unwanted words and symbols.\"\"\"\n",
    "\n",
    "    # Lowercase the tweets\n",
    "    text_list['processed_tweet'] = text_list['tweet_text'].str.lower()\n",
    "\n",
    "    # Regex patterns\n",
    "    url_pattern        = r\"((http://)[^ ]*|(https://)[^ ]*|( www\\.)[^ ]*)\"\n",
    "    user_pattern       = '@[^\\s]+'\n",
    "    alpha_pattern      = \"[^a-zA-Z]\"\n",
    "    sequence_pattern   = r\"(.)\\1\\1+\"\n",
    "    seq_replace_pattern = r\"\\1\\1\"\n",
    "\n",
    "    # Remove URLs from the tweet text\n",
    "    text_list['processed_tweet'] = [re.sub(url_pattern, ' ', str(x))\n",
    "                                    for x in text_list['processed_tweet']]\n",
    "    # Remove username from the tweet text\n",
    "    text_list['processed_tweet'] = [re.sub(user_pattern, ' ', str(x))\n",
    "                                    for x in text_list['processed_tweet']]\n",
    "    # Remove all non-alphanumeric symbols\n",
    "    text_list['processed_tweet'] = [re.sub(alpha_pattern, ' ', str(x))\n",
    "                                    for x in text_list['processed_tweet']]\n",
    "    # Replace all 3 or more consecutive letters with 2 letters\n",
    "    text_list['processed_tweet'] = [re.sub(sequence_pattern, seq_replace_pattern, str(x))\n",
    "                                    for x in text_list['processed_tweet']]\n",
    "\n",
    "    \n",
    "    full_tweet_list = []\n",
    "    for x in text_list['processed_tweet']:\n",
    "        full_tweet = ''\n",
    "        for word in x.split():\n",
    "            if word not in stopwordlist:\n",
    "                word = word_lemm.lemmatize(word)\n",
    "                full_tweet += (word + ' ')\n",
    "        full_tweet_list.append(full_tweet)\n",
    "\n",
    "    text_list['processed_tweet'] = full_tweet_list\n",
    "\n",
    "    return text_list"
   ]
  },
  {
   "cell_type": "code",
   "execution_count": 109,
   "metadata": {},
   "outputs": [
    {
     "name": "stdout",
     "output_type": "stream",
     "text": [
      "(26354, 5)\n"
     ]
    }
   ],
   "source": [
    "# Create DataFrame with classified tweets (autolabelling)\n",
    "archetype_list = ['artist',\n",
    "                 'caregiver',\n",
    "                 'everyman',\n",
    "                 'explorer',\n",
    "                 'guru',\n",
    "                 'hero',\n",
    "                 'innocent',\n",
    "                 'jester',\n",
    "                 'magician',\n",
    "                 'rebel',\n",
    "                 'ruler',\n",
    "                 'seducer']\n",
    "\n",
    "\n",
    "df_tweets = pd.DataFrame(columns=['_id',\n",
    "                                  'tweet_text',\n",
    "                                  'username',\n",
    "                                  'created_at'])\n",
    "\n",
    "# Connect to local database\n",
    "db = mongo_connect('localhost')\n",
    "\n",
    "for archetype in archetype_list:\n",
    "    # Create a cursor for acquiring all posts from the collection\n",
    "    cursor = db[archetype].find()\n",
    "    \n",
    "    df_archetype = pd.DataFrame(list(cursor))\n",
    "    df_archetype['archetype'] = archetype\n",
    "    df_tweets = df_tweets.append(df_archetype, ignore_index=True)\n",
    "    \n",
    "print(df_tweets.shape)"
   ]
  },
  {
   "cell_type": "code",
   "execution_count": 110,
   "metadata": {},
   "outputs": [],
   "source": [
    "# Preprocess the tweets and create a categorical label\n",
    "df_tweets = preprocess_texts(df_tweets)\n",
    "\n",
    "# Create categorical label\n",
    "y_label = to_categorical(df_tweets['archetype'].factorize()[0])"
   ]
  },
  {
   "cell_type": "code",
   "execution_count": 111,
   "metadata": {},
   "outputs": [
    {
     "name": "stdout",
     "output_type": "stream",
     "text": [
      "Found 20921 unique tokens.\n",
      "Shape of data tensor: (26354, 100)\n"
     ]
    }
   ],
   "source": [
    "# Tokenize the word inputs\n",
    "MAX_NB_WORDS = 25000        # Maximum number of words to be used\n",
    "MAX_SEQUENCE_LENGTH = 100    # Maximum number of words in each sequence\n",
    "EMBEDDING_DIM = 100          # Embedding dimension\n",
    "\n",
    "# Create and fit the tokenizer\n",
    "tokenizer = Tokenizer(num_words=MAX_NB_WORDS)\n",
    "tokenizer.fit_on_texts(df_tweets['processed_tweet'])\n",
    "word_index = tokenizer.word_index\n",
    "print(f'Found {len(word_index)} unique tokens.')\n",
    "\n",
    "# Truncate and pad sequences\n",
    "X = tokenizer.texts_to_sequences(df_tweets['processed_tweet'])\n",
    "X = pad_sequences(X, maxlen=MAX_SEQUENCE_LENGTH)\n",
    "print('Shape of data tensor:', X.shape)\n"
   ]
  },
  {
   "cell_type": "code",
   "execution_count": 112,
   "metadata": {},
   "outputs": [],
   "source": [
    "# Split data into train-val-test with 60:20:20 ratio\n",
    "X_train, X_test, y_train, y_test = train_test_split(X, y_label, test_size = 0.20, random_state = 42)\n",
    "X_train, X_val, y_train, y_val = train_test_split(X_train, y_train, test_size = 0.25, random_state = 42)"
   ]
  },
  {
   "cell_type": "code",
   "execution_count": 113,
   "metadata": {},
   "outputs": [],
   "source": [
    "def create_embedding_matrix(filepath, word_index, embedding_dim):\n",
    "    vocab_size = len(word_index) + 1  # Adding again 1 because of reserved 0 index\n",
    "    embedding_matrix = np.zeros((vocab_size, embedding_dim))\n",
    "\n",
    "    with open(filepath) as f:\n",
    "        for line in f:\n",
    "            word, *vector = line.split()\n",
    "            if word in word_index:\n",
    "                idx = word_index[word] \n",
    "                embedding_matrix[idx] = np.array(\n",
    "                    vector, dtype=np.float32)[:embedding_dim]\n",
    "\n",
    "    return embedding_matrix"
   ]
  },
  {
   "cell_type": "code",
   "execution_count": 115,
   "metadata": {},
   "outputs": [],
   "source": [
    "embedding_matrix = create_embedding_matrix(\n",
    "...     'glove_embedding/glove.6B/glove.6B.100d.txt',\n",
    "...     tokenizer.word_index, EMBEDDING_DIM)"
   ]
  },
  {
   "cell_type": "code",
   "execution_count": 116,
   "metadata": {},
   "outputs": [
    {
     "data": {
      "text/plain": [
       "0.8197504899383394"
      ]
     },
     "execution_count": 116,
     "metadata": {},
     "output_type": "execute_result"
    }
   ],
   "source": [
    "nonzero_elements = np.count_nonzero(np.count_nonzero(embedding_matrix, axis=1))\n",
    "nonzero_elements / len(word_index)"
   ]
  },
  {
   "cell_type": "code",
   "execution_count": null,
   "metadata": {},
   "outputs": [
    {
     "name": "stdout",
     "output_type": "stream",
     "text": [
      "Model: \"model_23\"\n",
      "_________________________________________________________________\n",
      "Layer (type)                 Output Shape              Param #   \n",
      "=================================================================\n",
      "input_41 (InputLayer)        [(None, 100)]             0         \n",
      "_________________________________________________________________\n",
      "embedding_40 (Embedding)     (None, 100, 100)          2092200   \n",
      "_________________________________________________________________\n",
      "spatial_dropout1d_2 (Spatial (None, 100, 100)          0         \n",
      "_________________________________________________________________\n",
      "bidirectional_16 (Bidirectio (None, 200)               160800    \n",
      "_________________________________________________________________\n",
      "flatten_14 (Flatten)         (None, 200)               0         \n",
      "_________________________________________________________________\n",
      "dense_59 (Dense)             (None, 128)               25728     \n",
      "_________________________________________________________________\n",
      "dense_60 (Dense)             (None, 128)               16512     \n",
      "_________________________________________________________________\n",
      "dense_61 (Dense)             (None, 12)                1548      \n",
      "=================================================================\n",
      "Total params: 2,296,788\n",
      "Trainable params: 2,296,788\n",
      "Non-trainable params: 0\n",
      "_________________________________________________________________\n",
      "Epoch 1/1000\n",
      "247/248 [============================>.] - ETA: 0s - loss: 2.1414 - acc: 0.2647\n",
      "Epoch 00001: val_loss improved from inf to 1.74261, saving model to archetype_classifier-tf_2_2_0.h5\n",
      "248/248 [==============================] - 6s 26ms/step - loss: 2.1414 - acc: 0.2647 - val_loss: 1.7426 - val_acc: 0.4367 - lr: 0.0100\n",
      "Epoch 2/1000\n",
      "246/248 [============================>.] - ETA: 0s - loss: 1.6402 - acc: 0.4728\n",
      "Epoch 00002: val_loss improved from 1.74261 to 1.48726, saving model to archetype_classifier-tf_2_2_0.h5\n",
      "248/248 [==============================] - 6s 24ms/step - loss: 1.6414 - acc: 0.4725 - val_loss: 1.4873 - val_acc: 0.5312 - lr: 0.0100\n",
      "Epoch 3/1000\n",
      "247/248 [============================>.] - ETA: 0s - loss: 1.3848 - acc: 0.5590\n",
      "Epoch 00003: val_loss improved from 1.48726 to 1.38309, saving model to archetype_classifier-tf_2_2_0.h5\n",
      "248/248 [==============================] - 6s 25ms/step - loss: 1.3846 - acc: 0.5591 - val_loss: 1.3831 - val_acc: 0.5752 - lr: 0.0100\n",
      "Epoch 4/1000\n",
      "248/248 [==============================] - ETA: 0s - loss: 1.2230 - acc: 0.6152\n",
      "Epoch 00004: val_loss did not improve from 1.38309\n",
      "248/248 [==============================] - 7s 26ms/step - loss: 1.2230 - acc: 0.6152 - val_loss: 1.4001 - val_acc: 0.5885 - lr: 0.0100\n",
      "Epoch 5/1000\n",
      "248/248 [==============================] - ETA: 0s - loss: 1.1503 - acc: 0.6423\n",
      "Epoch 00005: val_loss did not improve from 1.38309\n",
      "248/248 [==============================] - 6s 25ms/step - loss: 1.1503 - acc: 0.6423 - val_loss: 1.4452 - val_acc: 0.6025 - lr: 0.0100\n",
      "Epoch 6/1000\n",
      "246/248 [============================>.] - ETA: 0s - loss: 1.0915 - acc: 0.6605\n",
      "Epoch 00006: ReduceLROnPlateau reducing learning rate to 0.0009999999776482583.\n",
      "\n",
      "Epoch 00006: val_loss did not improve from 1.38309\n",
      "248/248 [==============================] - 6s 24ms/step - loss: 1.0917 - acc: 0.6604 - val_loss: 1.4417 - val_acc: 0.6126 - lr: 0.0100\n",
      "Epoch 7/1000\n",
      "248/248 [==============================] - ETA: 0s - loss: 0.9896 - acc: 0.6940\n",
      "Epoch 00007: val_loss did not improve from 1.38309\n",
      "248/248 [==============================] - 6s 24ms/step - loss: 0.9896 - acc: 0.6940 - val_loss: 1.4320 - val_acc: 0.6101 - lr: 1.0000e-03\n",
      "Epoch 8/1000\n",
      "248/248 [==============================] - ETA: 0s - loss: 0.9659 - acc: 0.6986\n",
      "Epoch 00008: val_loss did not improve from 1.38309\n",
      "248/248 [==============================] - 6s 24ms/step - loss: 0.9659 - acc: 0.6986 - val_loss: 1.4291 - val_acc: 0.6137 - lr: 1.0000e-03\n",
      "Epoch 9/1000\n",
      "246/248 [============================>.] - ETA: 0s - loss: 0.9420 - acc: 0.7074\n",
      "Epoch 00009: ReduceLROnPlateau reducing learning rate to 9.999999310821295e-05.\n",
      "\n",
      "Epoch 00009: val_loss did not improve from 1.38309\n",
      "248/248 [==============================] - 6s 24ms/step - loss: 0.9421 - acc: 0.7072 - val_loss: 1.4286 - val_acc: 0.6154 - lr: 1.0000e-03\n",
      "Epoch 10/1000\n",
      "246/248 [============================>.] - ETA: 0s - loss: 0.9231 - acc: 0.7089\n",
      "Epoch 00010: val_loss did not improve from 1.38309\n",
      "248/248 [==============================] - 6s 24ms/step - loss: 0.9228 - acc: 0.7092 - val_loss: 1.4310 - val_acc: 0.6135 - lr: 1.0000e-04\n",
      "Epoch 11/1000\n",
      "248/248 [==============================] - ETA: 0s - loss: 0.9254 - acc: 0.7109\n",
      "Epoch 00011: val_loss did not improve from 1.38309\n",
      "248/248 [==============================] - 6s 24ms/step - loss: 0.9254 - acc: 0.7109 - val_loss: 1.4338 - val_acc: 0.6139 - lr: 1.0000e-04\n",
      "Epoch 12/1000\n",
      "247/248 [============================>.] - ETA: 0s - loss: 0.9189 - acc: 0.7108\n",
      "Epoch 00012: ReduceLROnPlateau reducing learning rate to 9.999999019782991e-06.\n",
      "\n",
      "Epoch 00012: val_loss did not improve from 1.38309\n",
      "248/248 [==============================] - 6s 24ms/step - loss: 0.9189 - acc: 0.7109 - val_loss: 1.4352 - val_acc: 0.6141 - lr: 1.0000e-04\n",
      "Epoch 13/1000\n",
      " 66/248 [======>.......................] - ETA: 3s - loss: 0.9350 - acc: 0.7069"
     ]
    }
   ],
   "source": [
    "# Create a model\n",
    "from keras.regularizers import l2\n",
    "from keras.layers import Embedding\n",
    "\n",
    "embedding_layer = Embedding(len(word_index) + 1,\n",
    "                            EMBEDDING_DIM,\n",
    "                            #weights=[embedding_matrix],\n",
    "                            input_length=MAX_SEQUENCE_LENGTH,\n",
    "                            trainable=True)\n",
    "\n",
    "sequence_input = Input(shape=(MAX_SEQUENCE_LENGTH,), dtype='int32')\n",
    "embedded_sequences = embedding_layer(sequence_input)\n",
    "x = SpatialDropout1D(0.5)(embedded_sequences)\n",
    "x = Bidirectional(LSTM(EMBEDDING_DIM, dropout=0.5))(x)\n",
    "x = Flatten()(x)\n",
    "x = Dense(128, activation='relu')(x)\n",
    "x = Dense(128, activation='relu')(x)\n",
    "preds = Dense(12, activation='softmax')(x)\n",
    "\n",
    "opt = keras.optimizers.Adam(learning_rate=0.01)\n",
    "\n",
    "model = Model(sequence_input, preds)\n",
    "model.compile(loss='categorical_crossentropy',\n",
    "              optimizer=opt,\n",
    "              metrics=['acc'])\n",
    "\n",
    "model.summary()\n",
    "\n",
    "callbacks = [\n",
    "    EarlyStopping(patience=12, verbose=1),\n",
    "    ReduceLROnPlateau(patience=3, verbose=1),\n",
    "    ModelCheckpoint(f'archetype_classifier-tf_2_2_0.h5', verbose=1, save_best_only=True)\n",
    "]\n",
    "\n",
    "\n",
    "history = model.fit(X_train, y_train, validation_data=(X_val, y_val),\n",
    "          epochs=1000, batch_size=64, callbacks=callbacks)"
   ]
  },
  {
   "cell_type": "code",
   "execution_count": 145,
   "metadata": {},
   "outputs": [
    {
     "name": "stdout",
     "output_type": "stream",
     "text": [
      "165/165 [==============================] - 1s 5ms/step - loss: 1.4743 - acc: 0.6058\n",
      "Test set\n",
      "  Loss: 1.474\n",
      "  Accuracy: 0.606\n"
     ]
    }
   ],
   "source": [
    "# Evaluate model\n",
    "accr = model.evaluate(X_test, y_test)\n",
    "print('Test set\\n  Loss: {:0.3f}\\n  Accuracy: {:0.3f}'.format(accr[0],accr[1]))"
   ]
  },
  {
   "cell_type": "code",
   "execution_count": 146,
   "metadata": {},
   "outputs": [
    {
     "data": {
      "image/png": "[encoded data removed]",
      "text/plain": [
       "<Figure size 432x288 with 1 Axes>"
      ]
     },
     "metadata": {
      "needs_background": "light"
     },
     "output_type": "display_data"
    },
    {
     "data": {
      "image/png": "[encoded data removed]",
      "text/plain": [
       "<Figure size 432x288 with 1 Axes>"
      ]
     },
     "metadata": {
      "needs_background": "light"
     },
     "output_type": "display_data"
    }
   ],
   "source": [
    "# Plot the training accuracy\n",
    "history_dict = history.history\n",
    "\n",
    "# Plot the loss results\n",
    "df = pd.DataFrame(history_dict)\n",
    "ax = sns.lineplot(data=df.iloc[:, :3:2])\n",
    "ax.set_title('Loss on training and validation dataset')\n",
    "ax.set_ylabel('Loss value')\n",
    "ax.set_xlabel('Epochs')\n",
    "sns.axes_style(\"whitegrid\")\n",
    "ax.set(xticks=np.arange(0,21,1));\n",
    "plt.show()\n",
    "\n",
    "# Plot the accuracy results\n",
    "ax = sns.lineplot(data=df.iloc[:, 1::2])\n",
    "ax.set_title('Accuracy on training and validation dataset')\n",
    "ax.set_ylabel('Acciracy value')\n",
    "ax.set_xlabel('Epochs')\n",
    "sns.axes_style(\"whitegrid\")\n",
    "ax.set(xticks=np.arange(0,21,1));\n",
    "plt.show()"
   ]
  },
  {
   "cell_type": "code",
   "execution_count": null,
   "metadata": {},
   "outputs": [],
   "source": []
  }
 ],
 "metadata": {
  "kernelspec": {
   "display_name": "Python (frapol)",
   "language": "python",
   "name": "frapol"
  },
  "language_info": {
   "codemirror_mode": {
    "name": "ipython",
    "version": 3
   },
   "file_extension": ".py",
   "mimetype": "text/x-python",
   "name": "python",
   "nbconvert_exporter": "python",
   "pygments_lexer": "ipython3",
   "version": "3.8.3"
  }
 },
 "nbformat": 4,
 "nbformat_minor": 4
}
