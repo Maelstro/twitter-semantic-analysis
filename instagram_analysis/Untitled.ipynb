{
 "cells": [
  {
   "cell_type": "markdown",
   "id": "ee8804e0-e17a-423c-af64-ca4ea7ff8787",
   "metadata": {},
   "source": [
    "## Modify the softmax structure - weight scaling\n",
    "Try to differentiate the similar weights, TF-IDF-like approach.\n",
    "If the word is similarly occuring in all classes, it has to have the weight lowered.\n",
    "\n",
    "Otherwise, if the probability for one class is significantly higher than for the other ones,\n",
    "the weight is increased by a significant margin"
   ]
  },
  {
   "cell_type": "code",
   "execution_count": 1,
   "id": "769d39da-eaf7-4633-8a55-c711dd6fa018",
   "metadata": {},
   "outputs": [],
   "source": [
    "# Load the structure\n",
    "import pickle\n",
    "import pandas as pd\n",
    "import dask.dataframe as dd\n",
    "from tqdm import tqdm\n",
    "import numpy as np\n",
    "import copy\n",
    "import os\n",
    "import toml\n",
    "import re\n",
    "import itertools\n",
    "from text_cleaner import *\n",
    "import operator\n",
    "from collections import Counter\n",
    "\n",
    "def extract_hashtags(post_text):\n",
    "    HASH_RE = re.compile(r\"\\#\\w+\")\n",
    "    out_list = re.findall(HASH_RE, post_text)\n",
    "    return out_list\n",
    "\n",
    "with open(\"softmax_full_word_trait_array.pickle\", \"rb\") as f:\n",
    "    word_df = pickle.load(f)"
   ]
  },
  {
   "cell_type": "code",
   "execution_count": 2,
   "id": "6a3bee75-8776-4e21-8139-0966dad77a06",
   "metadata": {},
   "outputs": [
    {
     "data": {
      "text/html": [
       "<div>\n",
       "<style scoped>\n",
       "    .dataframe tbody tr th:only-of-type {\n",
       "        vertical-align: middle;\n",
       "    }\n",
       "\n",
       "    .dataframe tbody tr th {\n",
       "        vertical-align: top;\n",
       "    }\n",
       "\n",
       "    .dataframe thead th {\n",
       "        text-align: right;\n",
       "    }\n",
       "</style>\n",
       "<table border=\"1\" class=\"dataframe\">\n",
       "  <thead>\n",
       "    <tr style=\"text-align: right;\">\n",
       "      <th></th>\n",
       "      <th></th>\n",
       "      <th>zainspirowany</th>\n",
       "      <th>wczorajszym</th>\n",
       "      <th>wywiadem</th>\n",
       "      <th>odnośnie</th>\n",
       "      <th>relacji</th>\n",
       "      <th>chciałem</th>\n",
       "      <th>przekazać</th>\n",
       "      <th>okres</th>\n",
       "      <th>kwarantanny</th>\n",
       "      <th>świetny</th>\n",
       "      <th>...</th>\n",
       "      <th>#piekewdomu</th>\n",
       "      <th>#dish</th>\n",
       "      <th>#kremzcukinii</th>\n",
       "      <th>#zucchina</th>\n",
       "      <th>#pranzoitaliano</th>\n",
       "      <th>#tradycyjnejedzenie</th>\n",
       "      <th>#tatar</th>\n",
       "      <th>#meatlover</th>\n",
       "      <th>#zachcianki</th>\n",
       "      <th>#pierogizkapusta</th>\n",
       "    </tr>\n",
       "  </thead>\n",
       "  <tbody>\n",
       "    <tr>\n",
       "      <th rowspan=\"5\" valign=\"top\">innocent</th>\n",
       "      <th>0</th>\n",
       "      <td>0.000021</td>\n",
       "      <td>0.000043</td>\n",
       "      <td>2.125173e-05</td>\n",
       "      <td>0.000043</td>\n",
       "      <td>0.000149</td>\n",
       "      <td>0.000106</td>\n",
       "      <td>0.000064</td>\n",
       "      <td>0.000149</td>\n",
       "      <td>0.000149</td>\n",
       "      <td>0.000128</td>\n",
       "      <td>...</td>\n",
       "      <td>0.000000</td>\n",
       "      <td>0.000000</td>\n",
       "      <td>0.000000</td>\n",
       "      <td>0.000000</td>\n",
       "      <td>0.000000</td>\n",
       "      <td>0.000000</td>\n",
       "      <td>0.000000</td>\n",
       "      <td>0.000000</td>\n",
       "      <td>0.000000</td>\n",
       "      <td>0.000000</td>\n",
       "    </tr>\n",
       "    <tr>\n",
       "      <th>1</th>\n",
       "      <td>0.000000</td>\n",
       "      <td>0.000013</td>\n",
       "      <td>0.000000e+00</td>\n",
       "      <td>0.000013</td>\n",
       "      <td>0.000243</td>\n",
       "      <td>0.000013</td>\n",
       "      <td>0.000013</td>\n",
       "      <td>0.000040</td>\n",
       "      <td>0.000040</td>\n",
       "      <td>0.000013</td>\n",
       "      <td>...</td>\n",
       "      <td>0.000000</td>\n",
       "      <td>0.000000</td>\n",
       "      <td>0.000000</td>\n",
       "      <td>0.000000</td>\n",
       "      <td>0.000000</td>\n",
       "      <td>0.000000</td>\n",
       "      <td>0.000000</td>\n",
       "      <td>0.000000</td>\n",
       "      <td>0.000000</td>\n",
       "      <td>0.000000</td>\n",
       "    </tr>\n",
       "    <tr>\n",
       "      <th>2</th>\n",
       "      <td>0.000002</td>\n",
       "      <td>0.000019</td>\n",
       "      <td>0.000000e+00</td>\n",
       "      <td>0.000045</td>\n",
       "      <td>0.000112</td>\n",
       "      <td>0.000074</td>\n",
       "      <td>0.000045</td>\n",
       "      <td>0.000100</td>\n",
       "      <td>0.000045</td>\n",
       "      <td>0.000095</td>\n",
       "      <td>...</td>\n",
       "      <td>0.000000</td>\n",
       "      <td>0.000000</td>\n",
       "      <td>0.000000</td>\n",
       "      <td>0.000000</td>\n",
       "      <td>0.000000</td>\n",
       "      <td>0.000000</td>\n",
       "      <td>0.000000</td>\n",
       "      <td>0.000000</td>\n",
       "      <td>0.000000</td>\n",
       "      <td>0.000000</td>\n",
       "    </tr>\n",
       "    <tr>\n",
       "      <th>3</th>\n",
       "      <td>0.000006</td>\n",
       "      <td>0.000034</td>\n",
       "      <td>9.158188e-07</td>\n",
       "      <td>0.000037</td>\n",
       "      <td>0.000173</td>\n",
       "      <td>0.000026</td>\n",
       "      <td>0.000030</td>\n",
       "      <td>0.000132</td>\n",
       "      <td>0.000039</td>\n",
       "      <td>0.000071</td>\n",
       "      <td>...</td>\n",
       "      <td>0.000000</td>\n",
       "      <td>0.000000</td>\n",
       "      <td>0.000000</td>\n",
       "      <td>0.000000</td>\n",
       "      <td>0.000000</td>\n",
       "      <td>0.000000</td>\n",
       "      <td>0.000000</td>\n",
       "      <td>0.000000</td>\n",
       "      <td>0.000000</td>\n",
       "      <td>0.000000</td>\n",
       "    </tr>\n",
       "    <tr>\n",
       "      <th>4</th>\n",
       "      <td>0.000000</td>\n",
       "      <td>0.000016</td>\n",
       "      <td>0.000000e+00</td>\n",
       "      <td>0.000055</td>\n",
       "      <td>0.000079</td>\n",
       "      <td>0.000008</td>\n",
       "      <td>0.000040</td>\n",
       "      <td>0.000079</td>\n",
       "      <td>0.000047</td>\n",
       "      <td>0.000040</td>\n",
       "      <td>...</td>\n",
       "      <td>0.000040</td>\n",
       "      <td>0.000016</td>\n",
       "      <td>0.000008</td>\n",
       "      <td>0.000016</td>\n",
       "      <td>0.000008</td>\n",
       "      <td>0.000008</td>\n",
       "      <td>0.000008</td>\n",
       "      <td>0.000008</td>\n",
       "      <td>0.000008</td>\n",
       "      <td>0.000008</td>\n",
       "    </tr>\n",
       "    <tr>\n",
       "      <th>...</th>\n",
       "      <th>...</th>\n",
       "      <td>...</td>\n",
       "      <td>...</td>\n",
       "      <td>...</td>\n",
       "      <td>...</td>\n",
       "      <td>...</td>\n",
       "      <td>...</td>\n",
       "      <td>...</td>\n",
       "      <td>...</td>\n",
       "      <td>...</td>\n",
       "      <td>...</td>\n",
       "      <td>...</td>\n",
       "      <td>...</td>\n",
       "      <td>...</td>\n",
       "      <td>...</td>\n",
       "      <td>...</td>\n",
       "      <td>...</td>\n",
       "      <td>...</td>\n",
       "      <td>...</td>\n",
       "      <td>...</td>\n",
       "      <td>...</td>\n",
       "      <td>...</td>\n",
       "    </tr>\n",
       "    <tr>\n",
       "      <th rowspan=\"5\" valign=\"top\">allocentric</th>\n",
       "      <th>0</th>\n",
       "      <td>0.000016</td>\n",
       "      <td>0.000033</td>\n",
       "      <td>3.259984e-05</td>\n",
       "      <td>0.000049</td>\n",
       "      <td>0.000228</td>\n",
       "      <td>0.000081</td>\n",
       "      <td>0.000081</td>\n",
       "      <td>0.000081</td>\n",
       "      <td>0.000065</td>\n",
       "      <td>0.000081</td>\n",
       "      <td>...</td>\n",
       "      <td>0.000000</td>\n",
       "      <td>0.000000</td>\n",
       "      <td>0.000000</td>\n",
       "      <td>0.000000</td>\n",
       "      <td>0.000000</td>\n",
       "      <td>0.000000</td>\n",
       "      <td>0.000000</td>\n",
       "      <td>0.000000</td>\n",
       "      <td>0.000000</td>\n",
       "      <td>0.000000</td>\n",
       "    </tr>\n",
       "    <tr>\n",
       "      <th>1</th>\n",
       "      <td>0.000009</td>\n",
       "      <td>0.000033</td>\n",
       "      <td>0.000000e+00</td>\n",
       "      <td>0.000033</td>\n",
       "      <td>0.000164</td>\n",
       "      <td>0.000021</td>\n",
       "      <td>0.000021</td>\n",
       "      <td>0.000270</td>\n",
       "      <td>0.000048</td>\n",
       "      <td>0.000061</td>\n",
       "      <td>...</td>\n",
       "      <td>0.000000</td>\n",
       "      <td>0.000000</td>\n",
       "      <td>0.000000</td>\n",
       "      <td>0.000000</td>\n",
       "      <td>0.000000</td>\n",
       "      <td>0.000000</td>\n",
       "      <td>0.000000</td>\n",
       "      <td>0.000000</td>\n",
       "      <td>0.000000</td>\n",
       "      <td>0.000000</td>\n",
       "    </tr>\n",
       "    <tr>\n",
       "      <th>2</th>\n",
       "      <td>0.000000</td>\n",
       "      <td>0.000021</td>\n",
       "      <td>0.000000e+00</td>\n",
       "      <td>0.000036</td>\n",
       "      <td>0.000088</td>\n",
       "      <td>0.000047</td>\n",
       "      <td>0.000031</td>\n",
       "      <td>0.000109</td>\n",
       "      <td>0.000026</td>\n",
       "      <td>0.000109</td>\n",
       "      <td>...</td>\n",
       "      <td>0.000000</td>\n",
       "      <td>0.000000</td>\n",
       "      <td>0.000000</td>\n",
       "      <td>0.000000</td>\n",
       "      <td>0.000000</td>\n",
       "      <td>0.000000</td>\n",
       "      <td>0.000000</td>\n",
       "      <td>0.000000</td>\n",
       "      <td>0.000000</td>\n",
       "      <td>0.000000</td>\n",
       "    </tr>\n",
       "    <tr>\n",
       "      <th>3</th>\n",
       "      <td>0.000005</td>\n",
       "      <td>0.000027</td>\n",
       "      <td>0.000000e+00</td>\n",
       "      <td>0.000046</td>\n",
       "      <td>0.000145</td>\n",
       "      <td>0.000046</td>\n",
       "      <td>0.000028</td>\n",
       "      <td>0.000085</td>\n",
       "      <td>0.000042</td>\n",
       "      <td>0.000076</td>\n",
       "      <td>...</td>\n",
       "      <td>0.000006</td>\n",
       "      <td>0.000002</td>\n",
       "      <td>0.000001</td>\n",
       "      <td>0.000002</td>\n",
       "      <td>0.000001</td>\n",
       "      <td>0.000001</td>\n",
       "      <td>0.000001</td>\n",
       "      <td>0.000001</td>\n",
       "      <td>0.000001</td>\n",
       "      <td>0.000001</td>\n",
       "    </tr>\n",
       "    <tr>\n",
       "      <th>4</th>\n",
       "      <td>0.000003</td>\n",
       "      <td>0.000032</td>\n",
       "      <td>0.000000e+00</td>\n",
       "      <td>0.000026</td>\n",
       "      <td>0.000194</td>\n",
       "      <td>0.000016</td>\n",
       "      <td>0.000062</td>\n",
       "      <td>0.000055</td>\n",
       "      <td>0.000055</td>\n",
       "      <td>0.000058</td>\n",
       "      <td>...</td>\n",
       "      <td>0.000000</td>\n",
       "      <td>0.000000</td>\n",
       "      <td>0.000000</td>\n",
       "      <td>0.000000</td>\n",
       "      <td>0.000000</td>\n",
       "      <td>0.000000</td>\n",
       "      <td>0.000000</td>\n",
       "      <td>0.000000</td>\n",
       "      <td>0.000000</td>\n",
       "      <td>0.000000</td>\n",
       "    </tr>\n",
       "  </tbody>\n",
       "</table>\n",
       "<p>185 rows × 225423 columns</p>\n",
       "</div>"
      ],
      "text/plain": [
       "               zainspirowany  wczorajszym      wywiadem  odnośnie   relacji  \\\n",
       "innocent    0       0.000021     0.000043  2.125173e-05  0.000043  0.000149   \n",
       "            1       0.000000     0.000013  0.000000e+00  0.000013  0.000243   \n",
       "            2       0.000002     0.000019  0.000000e+00  0.000045  0.000112   \n",
       "            3       0.000006     0.000034  9.158188e-07  0.000037  0.000173   \n",
       "            4       0.000000     0.000016  0.000000e+00  0.000055  0.000079   \n",
       "...                      ...          ...           ...       ...       ...   \n",
       "allocentric 0       0.000016     0.000033  3.259984e-05  0.000049  0.000228   \n",
       "            1       0.000009     0.000033  0.000000e+00  0.000033  0.000164   \n",
       "            2       0.000000     0.000021  0.000000e+00  0.000036  0.000088   \n",
       "            3       0.000005     0.000027  0.000000e+00  0.000046  0.000145   \n",
       "            4       0.000003     0.000032  0.000000e+00  0.000026  0.000194   \n",
       "\n",
       "               chciałem  przekazać     okres  kwarantanny   świetny  ...  \\\n",
       "innocent    0  0.000106   0.000064  0.000149     0.000149  0.000128  ...   \n",
       "            1  0.000013   0.000013  0.000040     0.000040  0.000013  ...   \n",
       "            2  0.000074   0.000045  0.000100     0.000045  0.000095  ...   \n",
       "            3  0.000026   0.000030  0.000132     0.000039  0.000071  ...   \n",
       "            4  0.000008   0.000040  0.000079     0.000047  0.000040  ...   \n",
       "...                 ...        ...       ...          ...       ...  ...   \n",
       "allocentric 0  0.000081   0.000081  0.000081     0.000065  0.000081  ...   \n",
       "            1  0.000021   0.000021  0.000270     0.000048  0.000061  ...   \n",
       "            2  0.000047   0.000031  0.000109     0.000026  0.000109  ...   \n",
       "            3  0.000046   0.000028  0.000085     0.000042  0.000076  ...   \n",
       "            4  0.000016   0.000062  0.000055     0.000055  0.000058  ...   \n",
       "\n",
       "               #piekewdomu     #dish  #kremzcukinii  #zucchina  \\\n",
       "innocent    0     0.000000  0.000000       0.000000   0.000000   \n",
       "            1     0.000000  0.000000       0.000000   0.000000   \n",
       "            2     0.000000  0.000000       0.000000   0.000000   \n",
       "            3     0.000000  0.000000       0.000000   0.000000   \n",
       "            4     0.000040  0.000016       0.000008   0.000016   \n",
       "...                    ...       ...            ...        ...   \n",
       "allocentric 0     0.000000  0.000000       0.000000   0.000000   \n",
       "            1     0.000000  0.000000       0.000000   0.000000   \n",
       "            2     0.000000  0.000000       0.000000   0.000000   \n",
       "            3     0.000006  0.000002       0.000001   0.000002   \n",
       "            4     0.000000  0.000000       0.000000   0.000000   \n",
       "\n",
       "               #pranzoitaliano  #tradycyjnejedzenie    #tatar  #meatlover  \\\n",
       "innocent    0         0.000000             0.000000  0.000000    0.000000   \n",
       "            1         0.000000             0.000000  0.000000    0.000000   \n",
       "            2         0.000000             0.000000  0.000000    0.000000   \n",
       "            3         0.000000             0.000000  0.000000    0.000000   \n",
       "            4         0.000008             0.000008  0.000008    0.000008   \n",
       "...                        ...                  ...       ...         ...   \n",
       "allocentric 0         0.000000             0.000000  0.000000    0.000000   \n",
       "            1         0.000000             0.000000  0.000000    0.000000   \n",
       "            2         0.000000             0.000000  0.000000    0.000000   \n",
       "            3         0.000001             0.000001  0.000001    0.000001   \n",
       "            4         0.000000             0.000000  0.000000    0.000000   \n",
       "\n",
       "               #zachcianki  #pierogizkapusta  \n",
       "innocent    0     0.000000          0.000000  \n",
       "            1     0.000000          0.000000  \n",
       "            2     0.000000          0.000000  \n",
       "            3     0.000000          0.000000  \n",
       "            4     0.000008          0.000008  \n",
       "...                    ...               ...  \n",
       "allocentric 0     0.000000          0.000000  \n",
       "            1     0.000000          0.000000  \n",
       "            2     0.000000          0.000000  \n",
       "            3     0.000001          0.000001  \n",
       "            4     0.000000          0.000000  \n",
       "\n",
       "[185 rows x 225423 columns]"
      ]
     },
     "execution_count": 2,
     "metadata": {},
     "output_type": "execute_result"
    }
   ],
   "source": [
    "# Show the loaded DataFrame\n",
    "word_df"
   ]
  },
  {
   "cell_type": "code",
   "execution_count": 3,
   "id": "4e592020-e03a-46d7-95e5-c2a3b0edfac0",
   "metadata": {},
   "outputs": [
    {
     "name": "stdout",
     "output_type": "stream",
     "text": [
      "['innocent', 'sage', 'explorer', 'outlaw', 'magician', 'hero', 'lover', 'jester', 'everyman', 'caregiver', 'ruler', 'creator', 'dominant', 'submissive', 'maximalist', 'minimalist', 'inspiring', 'systematic', 'discovering', 'conservative', 'verifying', 'overlooking', 'sharpening', 'harmonic', 'empathic', 'matter_of_fact', 'brave', 'protective', 'generous', 'thrifty', 'favourable', 'balanced', 'sensuality', 'intelligent', 'believe', 'egocentric', 'allocentric']\n"
     ]
    }
   ],
   "source": [
    "# Get all traits/archetypes\n",
    "trait_list = word_df.index.values\n",
    "trait_list = list(dict.fromkeys([x[0] for x in trait_list]))\n",
    "print(trait_list)"
   ]
  },
  {
   "cell_type": "code",
   "execution_count": 5,
   "id": "66e5e6d7-2ff7-4f4c-b0b3-865ce7712a4f",
   "metadata": {},
   "outputs": [
    {
     "name": "stderr",
     "output_type": "stream",
     "text": [
      "  0%|          | 347/225423 [00:00<02:04, 1800.70it/s]"
     ]
    },
    {
     "name": "stdout",
     "output_type": "stream",
     "text": [
      "Trait: innocent\n"
     ]
    },
    {
     "name": "stderr",
     "output_type": "stream",
     "text": [
      "100%|██████████| 225423/225423 [01:44<00:00, 2164.71it/s]\n",
      "  0%|          | 218/225423 [00:00<01:43, 2172.76it/s]"
     ]
    },
    {
     "name": "stdout",
     "output_type": "stream",
     "text": [
      "Trait: sage\n"
     ]
    },
    {
     "name": "stderr",
     "output_type": "stream",
     "text": [
      "100%|██████████| 225423/225423 [01:43<00:00, 2175.86it/s]\n",
      "  0%|          | 412/225423 [00:00<01:48, 2068.53it/s]"
     ]
    },
    {
     "name": "stdout",
     "output_type": "stream",
     "text": [
      "Trait: explorer\n"
     ]
    },
    {
     "name": "stderr",
     "output_type": "stream",
     "text": [
      "100%|██████████| 225423/225423 [01:45<00:00, 2146.04it/s]\n",
      "  0%|          | 450/225423 [00:00<01:44, 2153.69it/s]"
     ]
    },
    {
     "name": "stdout",
     "output_type": "stream",
     "text": [
      "Trait: outlaw\n"
     ]
    },
    {
     "name": "stderr",
     "output_type": "stream",
     "text": [
      "100%|██████████| 225423/225423 [01:44<00:00, 2158.54it/s]\n",
      "  0%|          | 440/225423 [00:00<01:44, 2159.07it/s]"
     ]
    },
    {
     "name": "stdout",
     "output_type": "stream",
     "text": [
      "Trait: magician\n"
     ]
    },
    {
     "name": "stderr",
     "output_type": "stream",
     "text": [
      "100%|██████████| 225423/225423 [01:43<00:00, 2174.18it/s]\n",
      "  0%|          | 448/225423 [00:00<01:42, 2191.73it/s]"
     ]
    },
    {
     "name": "stdout",
     "output_type": "stream",
     "text": [
      "Trait: hero\n"
     ]
    },
    {
     "name": "stderr",
     "output_type": "stream",
     "text": [
      "100%|██████████| 225423/225423 [01:42<00:00, 2198.41it/s]\n",
      "  0%|          | 227/225423 [00:00<01:39, 2266.10it/s]"
     ]
    },
    {
     "name": "stdout",
     "output_type": "stream",
     "text": [
      "Trait: lover\n"
     ]
    },
    {
     "name": "stderr",
     "output_type": "stream",
     "text": [
      "100%|██████████| 225423/225423 [01:41<00:00, 2221.12it/s]\n",
      "  0%|          | 444/225423 [00:00<01:41, 2214.89it/s]"
     ]
    },
    {
     "name": "stdout",
     "output_type": "stream",
     "text": [
      "Trait: jester\n"
     ]
    },
    {
     "name": "stderr",
     "output_type": "stream",
     "text": [
      "100%|██████████| 225423/225423 [01:40<00:00, 2245.74it/s]\n",
      "  0%|          | 440/225423 [00:00<01:43, 2175.43it/s]"
     ]
    },
    {
     "name": "stdout",
     "output_type": "stream",
     "text": [
      "Trait: everyman\n"
     ]
    },
    {
     "name": "stderr",
     "output_type": "stream",
     "text": [
      "100%|██████████| 225423/225423 [01:40<00:00, 2244.27it/s]\n",
      "  0%|          | 221/225423 [00:00<01:42, 2206.15it/s]"
     ]
    },
    {
     "name": "stdout",
     "output_type": "stream",
     "text": [
      "Trait: caregiver\n"
     ]
    },
    {
     "name": "stderr",
     "output_type": "stream",
     "text": [
      "100%|██████████| 225423/225423 [01:40<00:00, 2251.70it/s]\n",
      "  0%|          | 460/225423 [00:00<01:39, 2259.26it/s]"
     ]
    },
    {
     "name": "stdout",
     "output_type": "stream",
     "text": [
      "Trait: ruler\n"
     ]
    },
    {
     "name": "stderr",
     "output_type": "stream",
     "text": [
      "100%|██████████| 225423/225423 [01:39<00:00, 2255.59it/s]\n",
      "  0%|          | 235/225423 [00:00<01:36, 2345.29it/s]"
     ]
    },
    {
     "name": "stdout",
     "output_type": "stream",
     "text": [
      "Trait: creator\n"
     ]
    },
    {
     "name": "stderr",
     "output_type": "stream",
     "text": [
      "100%|██████████| 225423/225423 [01:39<00:00, 2255.05it/s]\n",
      "  0%|          | 228/225423 [00:00<01:38, 2279.49it/s]"
     ]
    },
    {
     "name": "stdout",
     "output_type": "stream",
     "text": [
      "Trait: dominant\n"
     ]
    },
    {
     "name": "stderr",
     "output_type": "stream",
     "text": [
      "100%|██████████| 225423/225423 [01:39<00:00, 2255.58it/s]\n",
      "  0%|          | 468/225423 [00:00<01:39, 2264.91it/s]"
     ]
    },
    {
     "name": "stdout",
     "output_type": "stream",
     "text": [
      "Trait: submissive\n"
     ]
    },
    {
     "name": "stderr",
     "output_type": "stream",
     "text": [
      "100%|██████████| 225423/225423 [01:40<00:00, 2252.16it/s]\n",
      "  0%|          | 226/225423 [00:00<01:39, 2253.96it/s]"
     ]
    },
    {
     "name": "stdout",
     "output_type": "stream",
     "text": [
      "Trait: maximalist\n"
     ]
    },
    {
     "name": "stderr",
     "output_type": "stream",
     "text": [
      "100%|██████████| 225423/225423 [01:40<00:00, 2252.16it/s]\n",
      "  0%|          | 230/225423 [00:00<01:38, 2296.75it/s]"
     ]
    },
    {
     "name": "stdout",
     "output_type": "stream",
     "text": [
      "Trait: minimalist\n"
     ]
    },
    {
     "name": "stderr",
     "output_type": "stream",
     "text": [
      "100%|██████████| 225423/225423 [01:40<00:00, 2251.28it/s]\n",
      "  0%|          | 445/225423 [00:00<01:40, 2232.69it/s]"
     ]
    },
    {
     "name": "stdout",
     "output_type": "stream",
     "text": [
      "Trait: inspiring\n"
     ]
    },
    {
     "name": "stderr",
     "output_type": "stream",
     "text": [
      "100%|██████████| 225423/225423 [01:40<00:00, 2239.03it/s]\n",
      "  0%|          | 464/225423 [00:00<01:40, 2239.83it/s]"
     ]
    },
    {
     "name": "stdout",
     "output_type": "stream",
     "text": [
      "Trait: systematic\n"
     ]
    },
    {
     "name": "stderr",
     "output_type": "stream",
     "text": [
      "100%|██████████| 225423/225423 [01:43<00:00, 2172.21it/s]\n",
      "  0%|          | 415/225423 [00:00<01:48, 2071.33it/s]"
     ]
    },
    {
     "name": "stdout",
     "output_type": "stream",
     "text": [
      "Trait: discovering\n"
     ]
    },
    {
     "name": "stderr",
     "output_type": "stream",
     "text": [
      "100%|██████████| 225423/225423 [01:46<00:00, 2111.10it/s]\n",
      "  0%|          | 225/225423 [00:00<01:40, 2241.89it/s]"
     ]
    },
    {
     "name": "stdout",
     "output_type": "stream",
     "text": [
      "Trait: conservative\n"
     ]
    },
    {
     "name": "stderr",
     "output_type": "stream",
     "text": [
      "100%|██████████| 225423/225423 [01:42<00:00, 2199.86it/s]\n",
      "  0%|          | 217/225423 [00:00<01:43, 2168.46it/s]"
     ]
    },
    {
     "name": "stdout",
     "output_type": "stream",
     "text": [
      "Trait: verifying\n"
     ]
    },
    {
     "name": "stderr",
     "output_type": "stream",
     "text": [
      "100%|██████████| 225423/225423 [01:45<00:00, 2129.92it/s]\n",
      "  0%|          | 444/225423 [00:00<01:41, 2207.01it/s]"
     ]
    },
    {
     "name": "stdout",
     "output_type": "stream",
     "text": [
      "Trait: overlooking\n"
     ]
    },
    {
     "name": "stderr",
     "output_type": "stream",
     "text": [
      "100%|██████████| 225423/225423 [01:42<00:00, 2199.60it/s]\n",
      "  0%|          | 436/225423 [00:00<01:43, 2169.13it/s]"
     ]
    },
    {
     "name": "stdout",
     "output_type": "stream",
     "text": [
      "Trait: sharpening\n"
     ]
    },
    {
     "name": "stderr",
     "output_type": "stream",
     "text": [
      "100%|██████████| 225423/225423 [01:43<00:00, 2183.88it/s]\n",
      "  0%|          | 234/225423 [00:00<01:36, 2332.13it/s]"
     ]
    },
    {
     "name": "stdout",
     "output_type": "stream",
     "text": [
      "Trait: harmonic\n"
     ]
    },
    {
     "name": "stderr",
     "output_type": "stream",
     "text": [
      "100%|██████████| 225423/225423 [01:48<00:00, 2076.15it/s]\n",
      "  0%|          | 206/225423 [00:00<01:50, 2032.86it/s]"
     ]
    },
    {
     "name": "stdout",
     "output_type": "stream",
     "text": [
      "Trait: empathic\n"
     ]
    },
    {
     "name": "stderr",
     "output_type": "stream",
     "text": [
      "100%|██████████| 225423/225423 [01:49<00:00, 2066.27it/s]\n",
      "  0%|          | 207/225423 [00:00<01:48, 2067.99it/s]"
     ]
    },
    {
     "name": "stdout",
     "output_type": "stream",
     "text": [
      "Trait: matter_of_fact\n"
     ]
    },
    {
     "name": "stderr",
     "output_type": "stream",
     "text": [
      "100%|██████████| 225423/225423 [01:53<00:00, 1984.11it/s]\n",
      "  0%|          | 414/225423 [00:00<01:48, 2064.41it/s]"
     ]
    },
    {
     "name": "stdout",
     "output_type": "stream",
     "text": [
      "Trait: brave\n"
     ]
    },
    {
     "name": "stderr",
     "output_type": "stream",
     "text": [
      "100%|██████████| 225423/225423 [01:51<00:00, 2016.89it/s]\n",
      "  0%|          | 204/225423 [00:00<01:50, 2035.29it/s]"
     ]
    },
    {
     "name": "stdout",
     "output_type": "stream",
     "text": [
      "Trait: protective\n"
     ]
    },
    {
     "name": "stderr",
     "output_type": "stream",
     "text": [
      "100%|██████████| 225423/225423 [01:51<00:00, 2027.52it/s]\n",
      "  0%|          | 208/225423 [00:00<01:48, 2073.48it/s]"
     ]
    },
    {
     "name": "stdout",
     "output_type": "stream",
     "text": [
      "Trait: generous\n"
     ]
    },
    {
     "name": "stderr",
     "output_type": "stream",
     "text": [
      "100%|██████████| 225423/225423 [01:51<00:00, 2023.34it/s]\n",
      "  0%|          | 419/225423 [00:00<01:49, 2058.42it/s]"
     ]
    },
    {
     "name": "stdout",
     "output_type": "stream",
     "text": [
      "Trait: thrifty\n"
     ]
    },
    {
     "name": "stderr",
     "output_type": "stream",
     "text": [
      "100%|██████████| 225423/225423 [01:54<00:00, 1968.28it/s]\n",
      "  0%|          | 200/225423 [00:00<01:53, 1992.54it/s]"
     ]
    },
    {
     "name": "stdout",
     "output_type": "stream",
     "text": [
      "Trait: favourable\n"
     ]
    },
    {
     "name": "stderr",
     "output_type": "stream",
     "text": [
      "100%|██████████| 225423/225423 [01:55<00:00, 1957.87it/s]\n",
      "  0%|          | 50/225423 [00:00<07:32, 498.14it/s]"
     ]
    },
    {
     "name": "stdout",
     "output_type": "stream",
     "text": [
      "Trait: balanced\n"
     ]
    },
    {
     "name": "stderr",
     "output_type": "stream",
     "text": [
      "100%|██████████| 225423/225423 [01:56<00:00, 1934.53it/s]\n",
      "  0%|          | 412/225423 [00:00<01:50, 2030.89it/s]"
     ]
    },
    {
     "name": "stdout",
     "output_type": "stream",
     "text": [
      "Trait: sensuality\n"
     ]
    },
    {
     "name": "stderr",
     "output_type": "stream",
     "text": [
      "100%|██████████| 225423/225423 [01:53<00:00, 1989.69it/s]\n",
      "  0%|          | 390/225423 [00:00<01:55, 1946.31it/s]"
     ]
    },
    {
     "name": "stdout",
     "output_type": "stream",
     "text": [
      "Trait: intelligent\n"
     ]
    },
    {
     "name": "stderr",
     "output_type": "stream",
     "text": [
      "100%|██████████| 225423/225423 [01:54<00:00, 1967.44it/s]\n",
      "  0%|          | 210/225423 [00:00<01:47, 2094.40it/s]"
     ]
    },
    {
     "name": "stdout",
     "output_type": "stream",
     "text": [
      "Trait: believe\n"
     ]
    },
    {
     "name": "stderr",
     "output_type": "stream",
     "text": [
      "100%|██████████| 225423/225423 [01:51<00:00, 2016.15it/s]\n",
      "  0%|          | 200/225423 [00:00<01:52, 1995.51it/s]"
     ]
    },
    {
     "name": "stdout",
     "output_type": "stream",
     "text": [
      "Trait: egocentric\n"
     ]
    },
    {
     "name": "stderr",
     "output_type": "stream",
     "text": [
      "100%|██████████| 225423/225423 [01:48<00:00, 2083.02it/s]\n",
      "  0%|          | 231/225423 [00:00<01:37, 2305.18it/s]"
     ]
    },
    {
     "name": "stdout",
     "output_type": "stream",
     "text": [
      "Trait: allocentric\n"
     ]
    },
    {
     "name": "stderr",
     "output_type": "stream",
     "text": [
      "100%|██████████| 225423/225423 [01:45<00:00, 2130.09it/s]\n"
     ]
    }
   ],
   "source": [
    "# Normalization method\n",
    "def min_max_normalize(df_to_normalize):\n",
    "    normalized_df = df_to_normalize\n",
    "    cols = normalized_df.columns.tolist()\n",
    "    for col in tqdm(cols):\n",
    "        normalized_df[col] = (normalized_df[col] - normalized_df[col].min()) / (normalized_df[col].max() - normalized_df[col].min())\n",
    "    return normalized_df\n",
    "\n",
    "norm_list = []\n",
    "for trait in trait_list:\n",
    "    print(f\"Trait: {trait}\")\n",
    "    normalized_trait = min_max_normalize(copy.deepcopy(word_df.loc[trait]))\n",
    "    tmp_trait = normalized_trait\n",
    "    norm_list.append(tmp_trait)\n",
    "    \n",
    "norm_word_df = pd.concat(norm_list, keys=trait_list)"
   ]
  },
  {
   "cell_type": "code",
   "execution_count": 6,
   "id": "e5c1bd6f-05e8-4d9c-a8b6-7ecd754b6211",
   "metadata": {},
   "outputs": [
    {
     "data": {
      "text/html": [
       "<div>\n",
       "<style scoped>\n",
       "    .dataframe tbody tr th:only-of-type {\n",
       "        vertical-align: middle;\n",
       "    }\n",
       "\n",
       "    .dataframe tbody tr th {\n",
       "        vertical-align: top;\n",
       "    }\n",
       "\n",
       "    .dataframe thead th {\n",
       "        text-align: right;\n",
       "    }\n",
       "</style>\n",
       "<table border=\"1\" class=\"dataframe\">\n",
       "  <thead>\n",
       "    <tr style=\"text-align: right;\">\n",
       "      <th></th>\n",
       "      <th></th>\n",
       "      <th>zainspirowany</th>\n",
       "      <th>wczorajszym</th>\n",
       "      <th>wywiadem</th>\n",
       "      <th>odnośnie</th>\n",
       "      <th>relacji</th>\n",
       "      <th>chciałem</th>\n",
       "      <th>przekazać</th>\n",
       "      <th>okres</th>\n",
       "      <th>kwarantanny</th>\n",
       "      <th>świetny</th>\n",
       "      <th>...</th>\n",
       "      <th>#piekewdomu</th>\n",
       "      <th>#dish</th>\n",
       "      <th>#kremzcukinii</th>\n",
       "      <th>#zucchina</th>\n",
       "      <th>#pranzoitaliano</th>\n",
       "      <th>#tradycyjnejedzenie</th>\n",
       "      <th>#tatar</th>\n",
       "      <th>#meatlover</th>\n",
       "      <th>#zachcianki</th>\n",
       "      <th>#pierogizkapusta</th>\n",
       "    </tr>\n",
       "  </thead>\n",
       "  <tbody>\n",
       "    <tr>\n",
       "      <th rowspan=\"5\" valign=\"top\">innocent</th>\n",
       "      <th>0</th>\n",
       "      <td>1.000000</td>\n",
       "      <td>1.000000</td>\n",
       "      <td>1.000000</td>\n",
       "      <td>0.693486</td>\n",
       "      <td>0.426116</td>\n",
       "      <td>1.000000</td>\n",
       "      <td>1.000000</td>\n",
       "      <td>1.000000</td>\n",
       "      <td>1.000000</td>\n",
       "      <td>1.000000</td>\n",
       "      <td>...</td>\n",
       "      <td>0.0</td>\n",
       "      <td>0.0</td>\n",
       "      <td>0.0</td>\n",
       "      <td>0.0</td>\n",
       "      <td>0.0</td>\n",
       "      <td>0.0</td>\n",
       "      <td>0.0</td>\n",
       "      <td>0.0</td>\n",
       "      <td>0.0</td>\n",
       "      <td>0.0</td>\n",
       "    </tr>\n",
       "    <tr>\n",
       "      <th>1</th>\n",
       "      <td>0.000000</td>\n",
       "      <td>0.000000</td>\n",
       "      <td>0.000000</td>\n",
       "      <td>0.000000</td>\n",
       "      <td>1.000000</td>\n",
       "      <td>0.056698</td>\n",
       "      <td>0.000000</td>\n",
       "      <td>0.000000</td>\n",
       "      <td>0.009714</td>\n",
       "      <td>0.000000</td>\n",
       "      <td>...</td>\n",
       "      <td>0.0</td>\n",
       "      <td>0.0</td>\n",
       "      <td>0.0</td>\n",
       "      <td>0.0</td>\n",
       "      <td>0.0</td>\n",
       "      <td>0.0</td>\n",
       "      <td>0.0</td>\n",
       "      <td>0.0</td>\n",
       "      <td>0.0</td>\n",
       "      <td>0.0</td>\n",
       "    </tr>\n",
       "    <tr>\n",
       "      <th>2</th>\n",
       "      <td>0.111937</td>\n",
       "      <td>0.191227</td>\n",
       "      <td>0.000000</td>\n",
       "      <td>0.757875</td>\n",
       "      <td>0.200239</td>\n",
       "      <td>0.669417</td>\n",
       "      <td>0.630885</td>\n",
       "      <td>0.549016</td>\n",
       "      <td>0.053189</td>\n",
       "      <td>0.716246</td>\n",
       "      <td>...</td>\n",
       "      <td>0.0</td>\n",
       "      <td>0.0</td>\n",
       "      <td>0.0</td>\n",
       "      <td>0.0</td>\n",
       "      <td>0.0</td>\n",
       "      <td>0.0</td>\n",
       "      <td>0.0</td>\n",
       "      <td>0.0</td>\n",
       "      <td>0.0</td>\n",
       "      <td>0.0</td>\n",
       "    </tr>\n",
       "    <tr>\n",
       "      <th>3</th>\n",
       "      <td>0.301657</td>\n",
       "      <td>0.703053</td>\n",
       "      <td>0.043094</td>\n",
       "      <td>0.553207</td>\n",
       "      <td>0.574807</td>\n",
       "      <td>0.180353</td>\n",
       "      <td>0.332996</td>\n",
       "      <td>0.844126</td>\n",
       "      <td>0.000000</td>\n",
       "      <td>0.508228</td>\n",
       "      <td>...</td>\n",
       "      <td>0.0</td>\n",
       "      <td>0.0</td>\n",
       "      <td>0.0</td>\n",
       "      <td>0.0</td>\n",
       "      <td>0.0</td>\n",
       "      <td>0.0</td>\n",
       "      <td>0.0</td>\n",
       "      <td>0.0</td>\n",
       "      <td>0.0</td>\n",
       "      <td>0.0</td>\n",
       "    </tr>\n",
       "    <tr>\n",
       "      <th>4</th>\n",
       "      <td>0.000000</td>\n",
       "      <td>0.080213</td>\n",
       "      <td>0.000000</td>\n",
       "      <td>1.000000</td>\n",
       "      <td>0.000000</td>\n",
       "      <td>0.000000</td>\n",
       "      <td>0.517986</td>\n",
       "      <td>0.356370</td>\n",
       "      <td>0.073563</td>\n",
       "      <td>0.228374</td>\n",
       "      <td>...</td>\n",
       "      <td>1.0</td>\n",
       "      <td>1.0</td>\n",
       "      <td>1.0</td>\n",
       "      <td>1.0</td>\n",
       "      <td>1.0</td>\n",
       "      <td>1.0</td>\n",
       "      <td>1.0</td>\n",
       "      <td>1.0</td>\n",
       "      <td>1.0</td>\n",
       "      <td>1.0</td>\n",
       "    </tr>\n",
       "    <tr>\n",
       "      <th>...</th>\n",
       "      <th>...</th>\n",
       "      <td>...</td>\n",
       "      <td>...</td>\n",
       "      <td>...</td>\n",
       "      <td>...</td>\n",
       "      <td>...</td>\n",
       "      <td>...</td>\n",
       "      <td>...</td>\n",
       "      <td>...</td>\n",
       "      <td>...</td>\n",
       "      <td>...</td>\n",
       "      <td>...</td>\n",
       "      <td>...</td>\n",
       "      <td>...</td>\n",
       "      <td>...</td>\n",
       "      <td>...</td>\n",
       "      <td>...</td>\n",
       "      <td>...</td>\n",
       "      <td>...</td>\n",
       "      <td>...</td>\n",
       "      <td>...</td>\n",
       "      <td>...</td>\n",
       "    </tr>\n",
       "    <tr>\n",
       "      <th rowspan=\"5\" valign=\"top\">allocentric</th>\n",
       "      <th>0</th>\n",
       "      <td>1.000000</td>\n",
       "      <td>0.942079</td>\n",
       "      <td>1.000000</td>\n",
       "      <td>1.000000</td>\n",
       "      <td>1.000000</td>\n",
       "      <td>1.000000</td>\n",
       "      <td>1.000000</td>\n",
       "      <td>0.123193</td>\n",
       "      <td>1.000000</td>\n",
       "      <td>0.459871</td>\n",
       "      <td>...</td>\n",
       "      <td>0.0</td>\n",
       "      <td>0.0</td>\n",
       "      <td>0.0</td>\n",
       "      <td>0.0</td>\n",
       "      <td>0.0</td>\n",
       "      <td>0.0</td>\n",
       "      <td>0.0</td>\n",
       "      <td>0.0</td>\n",
       "      <td>0.0</td>\n",
       "      <td>0.0</td>\n",
       "    </tr>\n",
       "    <tr>\n",
       "      <th>1</th>\n",
       "      <td>0.557682</td>\n",
       "      <td>1.000000</td>\n",
       "      <td>0.000000</td>\n",
       "      <td>0.322751</td>\n",
       "      <td>0.539284</td>\n",
       "      <td>0.076809</td>\n",
       "      <td>0.000000</td>\n",
       "      <td>1.000000</td>\n",
       "      <td>0.574663</td>\n",
       "      <td>0.045621</td>\n",
       "      <td>...</td>\n",
       "      <td>0.0</td>\n",
       "      <td>0.0</td>\n",
       "      <td>0.0</td>\n",
       "      <td>0.0</td>\n",
       "      <td>0.0</td>\n",
       "      <td>0.0</td>\n",
       "      <td>0.0</td>\n",
       "      <td>0.0</td>\n",
       "      <td>0.0</td>\n",
       "      <td>0.0</td>\n",
       "    </tr>\n",
       "    <tr>\n",
       "      <th>2</th>\n",
       "      <td>0.000000</td>\n",
       "      <td>0.000000</td>\n",
       "      <td>0.000000</td>\n",
       "      <td>0.449722</td>\n",
       "      <td>0.000000</td>\n",
       "      <td>0.465693</td>\n",
       "      <td>0.163556</td>\n",
       "      <td>0.250160</td>\n",
       "      <td>0.000000</td>\n",
       "      <td>1.000000</td>\n",
       "      <td>...</td>\n",
       "      <td>0.0</td>\n",
       "      <td>0.0</td>\n",
       "      <td>0.0</td>\n",
       "      <td>0.0</td>\n",
       "      <td>0.0</td>\n",
       "      <td>0.0</td>\n",
       "      <td>0.0</td>\n",
       "      <td>0.0</td>\n",
       "      <td>0.0</td>\n",
       "      <td>0.0</td>\n",
       "    </tr>\n",
       "    <tr>\n",
       "      <th>3</th>\n",
       "      <td>0.283110</td>\n",
       "      <td>0.461321</td>\n",
       "      <td>0.000000</td>\n",
       "      <td>0.880241</td>\n",
       "      <td>0.409001</td>\n",
       "      <td>0.458651</td>\n",
       "      <td>0.107442</td>\n",
       "      <td>0.141233</td>\n",
       "      <td>0.397878</td>\n",
       "      <td>0.353671</td>\n",
       "      <td>...</td>\n",
       "      <td>1.0</td>\n",
       "      <td>1.0</td>\n",
       "      <td>1.0</td>\n",
       "      <td>1.0</td>\n",
       "      <td>1.0</td>\n",
       "      <td>1.0</td>\n",
       "      <td>1.0</td>\n",
       "      <td>1.0</td>\n",
       "      <td>1.0</td>\n",
       "      <td>1.0</td>\n",
       "    </tr>\n",
       "    <tr>\n",
       "      <th>4</th>\n",
       "      <td>0.198704</td>\n",
       "      <td>0.925341</td>\n",
       "      <td>0.000000</td>\n",
       "      <td>0.000000</td>\n",
       "      <td>0.758377</td>\n",
       "      <td>0.000000</td>\n",
       "      <td>0.668910</td>\n",
       "      <td>0.000000</td>\n",
       "      <td>0.742059</td>\n",
       "      <td>0.000000</td>\n",
       "      <td>...</td>\n",
       "      <td>0.0</td>\n",
       "      <td>0.0</td>\n",
       "      <td>0.0</td>\n",
       "      <td>0.0</td>\n",
       "      <td>0.0</td>\n",
       "      <td>0.0</td>\n",
       "      <td>0.0</td>\n",
       "      <td>0.0</td>\n",
       "      <td>0.0</td>\n",
       "      <td>0.0</td>\n",
       "    </tr>\n",
       "  </tbody>\n",
       "</table>\n",
       "<p>185 rows × 225423 columns</p>\n",
       "</div>"
      ],
      "text/plain": [
       "               zainspirowany  wczorajszym  wywiadem  odnośnie   relacji  \\\n",
       "innocent    0       1.000000     1.000000  1.000000  0.693486  0.426116   \n",
       "            1       0.000000     0.000000  0.000000  0.000000  1.000000   \n",
       "            2       0.111937     0.191227  0.000000  0.757875  0.200239   \n",
       "            3       0.301657     0.703053  0.043094  0.553207  0.574807   \n",
       "            4       0.000000     0.080213  0.000000  1.000000  0.000000   \n",
       "...                      ...          ...       ...       ...       ...   \n",
       "allocentric 0       1.000000     0.942079  1.000000  1.000000  1.000000   \n",
       "            1       0.557682     1.000000  0.000000  0.322751  0.539284   \n",
       "            2       0.000000     0.000000  0.000000  0.449722  0.000000   \n",
       "            3       0.283110     0.461321  0.000000  0.880241  0.409001   \n",
       "            4       0.198704     0.925341  0.000000  0.000000  0.758377   \n",
       "\n",
       "               chciałem  przekazać     okres  kwarantanny   świetny  ...  \\\n",
       "innocent    0  1.000000   1.000000  1.000000     1.000000  1.000000  ...   \n",
       "            1  0.056698   0.000000  0.000000     0.009714  0.000000  ...   \n",
       "            2  0.669417   0.630885  0.549016     0.053189  0.716246  ...   \n",
       "            3  0.180353   0.332996  0.844126     0.000000  0.508228  ...   \n",
       "            4  0.000000   0.517986  0.356370     0.073563  0.228374  ...   \n",
       "...                 ...        ...       ...          ...       ...  ...   \n",
       "allocentric 0  1.000000   1.000000  0.123193     1.000000  0.459871  ...   \n",
       "            1  0.076809   0.000000  1.000000     0.574663  0.045621  ...   \n",
       "            2  0.465693   0.163556  0.250160     0.000000  1.000000  ...   \n",
       "            3  0.458651   0.107442  0.141233     0.397878  0.353671  ...   \n",
       "            4  0.000000   0.668910  0.000000     0.742059  0.000000  ...   \n",
       "\n",
       "               #piekewdomu  #dish  #kremzcukinii  #zucchina  #pranzoitaliano  \\\n",
       "innocent    0          0.0    0.0            0.0        0.0              0.0   \n",
       "            1          0.0    0.0            0.0        0.0              0.0   \n",
       "            2          0.0    0.0            0.0        0.0              0.0   \n",
       "            3          0.0    0.0            0.0        0.0              0.0   \n",
       "            4          1.0    1.0            1.0        1.0              1.0   \n",
       "...                    ...    ...            ...        ...              ...   \n",
       "allocentric 0          0.0    0.0            0.0        0.0              0.0   \n",
       "            1          0.0    0.0            0.0        0.0              0.0   \n",
       "            2          0.0    0.0            0.0        0.0              0.0   \n",
       "            3          1.0    1.0            1.0        1.0              1.0   \n",
       "            4          0.0    0.0            0.0        0.0              0.0   \n",
       "\n",
       "               #tradycyjnejedzenie  #tatar  #meatlover  #zachcianki  \\\n",
       "innocent    0                  0.0     0.0         0.0          0.0   \n",
       "            1                  0.0     0.0         0.0          0.0   \n",
       "            2                  0.0     0.0         0.0          0.0   \n",
       "            3                  0.0     0.0         0.0          0.0   \n",
       "            4                  1.0     1.0         1.0          1.0   \n",
       "...                            ...     ...         ...          ...   \n",
       "allocentric 0                  0.0     0.0         0.0          0.0   \n",
       "            1                  0.0     0.0         0.0          0.0   \n",
       "            2                  0.0     0.0         0.0          0.0   \n",
       "            3                  1.0     1.0         1.0          1.0   \n",
       "            4                  0.0     0.0         0.0          0.0   \n",
       "\n",
       "               #pierogizkapusta  \n",
       "innocent    0               0.0  \n",
       "            1               0.0  \n",
       "            2               0.0  \n",
       "            3               0.0  \n",
       "            4               1.0  \n",
       "...                         ...  \n",
       "allocentric 0               0.0  \n",
       "            1               0.0  \n",
       "            2               0.0  \n",
       "            3               1.0  \n",
       "            4               0.0  \n",
       "\n",
       "[185 rows x 225423 columns]"
      ]
     },
     "execution_count": 6,
     "metadata": {},
     "output_type": "execute_result"
    }
   ],
   "source": [
    "norm_word_df"
   ]
  },
  {
   "cell_type": "code",
   "execution_count": 7,
   "id": "49720625-c81a-41b7-bd9a-bb93500b2483",
   "metadata": {},
   "outputs": [],
   "source": [
    "from scipy.special import softmax\n",
    "\n",
    "def get_trait_dot_product(post_text: str, word_map: list, word_dataframe: pd.DataFrame) -> list:\n",
    "    # Filter out the text\n",
    "    filtered_post = remove_stopwords(clean_up_text(post_text))\n",
    "    filtered_post += extract_hashtags(post_text)\n",
    "    \n",
    "    # Create a vector for dot product vector\n",
    "    post_vector = [0] * len(word_map)\n",
    "    \n",
    "    # Calculate word occurrences\n",
    "    word_ctr = Counter(filtered_post)\n",
    "    \n",
    "    for word, freq in word_ctr.items():\n",
    "        if word in word_map:\n",
    "            post_vector[word_map.index(word)] = freq\n",
    "    \n",
    "    # Calculate dot product for a given text\n",
    "    word_dot = word_dataframe.dot(post_vector)\n",
    "    \n",
    "    out_vec = pd.Series()\n",
    "    for trait in trait_list:\n",
    "        out_vec = out_vec.append(pd.Series([np.argmax(softmax(word_dot.loc[trait]))], index=[trait]))\n",
    "    \n",
    "    return out_vec\n",
    "\n",
    "# Trait accuracy - round the results\n",
    "def natural_round(x: float) -> int:\n",
    "    out = int(x // 1)\n",
    "    return out + 1 if (x - out) >= 0.5 else out\n",
    "\n",
    "def accuracy_per_trait(input_vector: pd.Series, annotated_vector: pd.Series) -> np.array:\n",
    "    out_array = np.array([0] * 37, dtype=np.int)\n",
    "    for i in range(len(out_array)):\n",
    "        if input_vector[i] == annotated_vector[i]:\n",
    "            out_array[i] = 1\n",
    "    return out_array"
   ]
  },
  {
   "cell_type": "code",
   "execution_count": 8,
   "id": "8e728f62-dc5c-405a-b48f-e4504062b6ff",
   "metadata": {},
   "outputs": [
    {
     "name": "stdout",
     "output_type": "stream",
     "text": [
      "['innocent', 'sage', 'explorer', 'outlaw', 'magician', 'hero', 'lover', 'jester', 'everyman', 'caregiver', 'ruler', 'creator', 'dominant', 'submissive', 'maximalist', 'minimalist', 'inspiring', 'systematic', 'discovering', 'conservative', 'verifying', 'overlooking', 'sharpening', 'harmonic', 'empathic', 'matter_of_fact', 'brave', 'protective', 'generous', 'thrifty', 'favourable', 'balanced', 'sensuality', 'intelligent', 'believe', 'egocentric', 'allocentric']\n"
     ]
    },
    {
     "data": {
      "text/html": [
       "<div>\n",
       "<style scoped>\n",
       "    .dataframe tbody tr th:only-of-type {\n",
       "        vertical-align: middle;\n",
       "    }\n",
       "\n",
       "    .dataframe tbody tr th {\n",
       "        vertical-align: top;\n",
       "    }\n",
       "\n",
       "    .dataframe thead th {\n",
       "        text-align: right;\n",
       "    }\n",
       "</style>\n",
       "<table border=\"1\" class=\"dataframe\">\n",
       "  <thead>\n",
       "    <tr style=\"text-align: right;\">\n",
       "      <th></th>\n",
       "      <th>innocent</th>\n",
       "      <th>sage</th>\n",
       "      <th>explorer</th>\n",
       "      <th>outlaw</th>\n",
       "      <th>magician</th>\n",
       "      <th>hero</th>\n",
       "      <th>lover</th>\n",
       "      <th>jester</th>\n",
       "      <th>everyman</th>\n",
       "      <th>caregiver</th>\n",
       "      <th>...</th>\n",
       "      <th>protective</th>\n",
       "      <th>generous</th>\n",
       "      <th>thrifty</th>\n",
       "      <th>favourable</th>\n",
       "      <th>balanced</th>\n",
       "      <th>sensuality</th>\n",
       "      <th>intelligent</th>\n",
       "      <th>believe</th>\n",
       "      <th>egocentric</th>\n",
       "      <th>allocentric</th>\n",
       "    </tr>\n",
       "    <tr>\n",
       "      <th>id</th>\n",
       "      <th></th>\n",
       "      <th></th>\n",
       "      <th></th>\n",
       "      <th></th>\n",
       "      <th></th>\n",
       "      <th></th>\n",
       "      <th></th>\n",
       "      <th></th>\n",
       "      <th></th>\n",
       "      <th></th>\n",
       "      <th></th>\n",
       "      <th></th>\n",
       "      <th></th>\n",
       "      <th></th>\n",
       "      <th></th>\n",
       "      <th></th>\n",
       "      <th></th>\n",
       "      <th></th>\n",
       "      <th></th>\n",
       "      <th></th>\n",
       "      <th></th>\n",
       "    </tr>\n",
       "  </thead>\n",
       "  <tbody>\n",
       "    <tr>\n",
       "      <th>marek_grodzki</th>\n",
       "      <td>0.0</td>\n",
       "      <td>0.0</td>\n",
       "      <td>0.0</td>\n",
       "      <td>0.0</td>\n",
       "      <td>0.0</td>\n",
       "      <td>0.0</td>\n",
       "      <td>0.0</td>\n",
       "      <td>4.0</td>\n",
       "      <td>0.0</td>\n",
       "      <td>0.0</td>\n",
       "      <td>...</td>\n",
       "      <td>2.0</td>\n",
       "      <td>3.0</td>\n",
       "      <td>4.0</td>\n",
       "      <td>4.0</td>\n",
       "      <td>3.0</td>\n",
       "      <td>4.0</td>\n",
       "      <td>4.0</td>\n",
       "      <td>3.0</td>\n",
       "      <td>0.0</td>\n",
       "      <td>0.0</td>\n",
       "    </tr>\n",
       "    <tr>\n",
       "      <th>vege_style_life</th>\n",
       "      <td>0.0</td>\n",
       "      <td>0.0</td>\n",
       "      <td>4.0</td>\n",
       "      <td>0.0</td>\n",
       "      <td>0.0</td>\n",
       "      <td>0.0</td>\n",
       "      <td>0.0</td>\n",
       "      <td>0.0</td>\n",
       "      <td>0.0</td>\n",
       "      <td>0.0</td>\n",
       "      <td>...</td>\n",
       "      <td>4.0</td>\n",
       "      <td>4.0</td>\n",
       "      <td>4.0</td>\n",
       "      <td>4.0</td>\n",
       "      <td>3.0</td>\n",
       "      <td>3.0</td>\n",
       "      <td>3.0</td>\n",
       "      <td>2.0</td>\n",
       "      <td>0.0</td>\n",
       "      <td>3.0</td>\n",
       "    </tr>\n",
       "    <tr>\n",
       "      <th>oliwka__2007</th>\n",
       "      <td>0.0</td>\n",
       "      <td>0.0</td>\n",
       "      <td>0.0</td>\n",
       "      <td>0.0</td>\n",
       "      <td>0.0</td>\n",
       "      <td>0.0</td>\n",
       "      <td>0.0</td>\n",
       "      <td>0.0</td>\n",
       "      <td>4.0</td>\n",
       "      <td>0.0</td>\n",
       "      <td>...</td>\n",
       "      <td>2.0</td>\n",
       "      <td>2.0</td>\n",
       "      <td>0.0</td>\n",
       "      <td>3.0</td>\n",
       "      <td>1.0</td>\n",
       "      <td>2.0</td>\n",
       "      <td>4.0</td>\n",
       "      <td>1.0</td>\n",
       "      <td>0.0</td>\n",
       "      <td>3.0</td>\n",
       "    </tr>\n",
       "    <tr>\n",
       "      <th>z_przestrzeni_serca</th>\n",
       "      <td>4.0</td>\n",
       "      <td>0.0</td>\n",
       "      <td>0.0</td>\n",
       "      <td>0.0</td>\n",
       "      <td>0.0</td>\n",
       "      <td>0.0</td>\n",
       "      <td>0.0</td>\n",
       "      <td>0.0</td>\n",
       "      <td>0.0</td>\n",
       "      <td>0.0</td>\n",
       "      <td>...</td>\n",
       "      <td>4.0</td>\n",
       "      <td>3.0</td>\n",
       "      <td>0.0</td>\n",
       "      <td>4.0</td>\n",
       "      <td>4.0</td>\n",
       "      <td>3.0</td>\n",
       "      <td>4.0</td>\n",
       "      <td>4.0</td>\n",
       "      <td>0.0</td>\n",
       "      <td>1.0</td>\n",
       "    </tr>\n",
       "    <tr>\n",
       "      <th>zaradne_warsztaty</th>\n",
       "      <td>3.0</td>\n",
       "      <td>0.0</td>\n",
       "      <td>0.0</td>\n",
       "      <td>0.0</td>\n",
       "      <td>3.0</td>\n",
       "      <td>0.0</td>\n",
       "      <td>0.0</td>\n",
       "      <td>2.0</td>\n",
       "      <td>3.0</td>\n",
       "      <td>4.0</td>\n",
       "      <td>...</td>\n",
       "      <td>3.0</td>\n",
       "      <td>4.0</td>\n",
       "      <td>0.0</td>\n",
       "      <td>2.0</td>\n",
       "      <td>2.0</td>\n",
       "      <td>4.0</td>\n",
       "      <td>2.0</td>\n",
       "      <td>3.0</td>\n",
       "      <td>1.0</td>\n",
       "      <td>3.0</td>\n",
       "    </tr>\n",
       "  </tbody>\n",
       "</table>\n",
       "<p>5 rows × 37 columns</p>\n",
       "</div>"
      ],
      "text/plain": [
       "                     innocent  sage  explorer  outlaw  magician  hero  lover  \\\n",
       "id                                                                             \n",
       "marek_grodzki             0.0   0.0       0.0     0.0       0.0   0.0    0.0   \n",
       "vege_style_life           0.0   0.0       4.0     0.0       0.0   0.0    0.0   \n",
       "oliwka__2007              0.0   0.0       0.0     0.0       0.0   0.0    0.0   \n",
       "z_przestrzeni_serca       4.0   0.0       0.0     0.0       0.0   0.0    0.0   \n",
       "zaradne_warsztaty         3.0   0.0       0.0     0.0       3.0   0.0    0.0   \n",
       "\n",
       "                     jester  everyman  caregiver  ...  protective  generous  \\\n",
       "id                                                ...                         \n",
       "marek_grodzki           4.0       0.0        0.0  ...         2.0       3.0   \n",
       "vege_style_life         0.0       0.0        0.0  ...         4.0       4.0   \n",
       "oliwka__2007            0.0       4.0        0.0  ...         2.0       2.0   \n",
       "z_przestrzeni_serca     0.0       0.0        0.0  ...         4.0       3.0   \n",
       "zaradne_warsztaty       2.0       3.0        4.0  ...         3.0       4.0   \n",
       "\n",
       "                     thrifty  favourable  balanced  sensuality  intelligent  \\\n",
       "id                                                                            \n",
       "marek_grodzki            4.0         4.0       3.0         4.0          4.0   \n",
       "vege_style_life          4.0         4.0       3.0         3.0          3.0   \n",
       "oliwka__2007             0.0         3.0       1.0         2.0          4.0   \n",
       "z_przestrzeni_serca      0.0         4.0       4.0         3.0          4.0   \n",
       "zaradne_warsztaty        0.0         2.0       2.0         4.0          2.0   \n",
       "\n",
       "                     believe  egocentric  allocentric  \n",
       "id                                                     \n",
       "marek_grodzki            3.0         0.0          0.0  \n",
       "vege_style_life          2.0         0.0          3.0  \n",
       "oliwka__2007             1.0         0.0          3.0  \n",
       "z_przestrzeni_serca      4.0         0.0          1.0  \n",
       "zaradne_warsztaty        3.0         1.0          3.0  \n",
       "\n",
       "[5 rows x 37 columns]"
      ]
     },
     "execution_count": 8,
     "metadata": {},
     "output_type": "execute_result"
    }
   ],
   "source": [
    "# Load the .csv with archetypes\n",
    "arch_df = pd.read_csv('archetypes_pl_new.csv', index_col=0)\n",
    "\n",
    "# Save the order of columns\n",
    "trait_list = arch_df.columns.tolist()\n",
    "\n",
    "# Show the table header and column list\n",
    "print(trait_list)\n",
    "arch_df.head()"
   ]
  },
  {
   "cell_type": "code",
   "execution_count": 9,
   "id": "affcf829-2a4f-44e7-b6da-299b8187c145",
   "metadata": {},
   "outputs": [
    {
     "data": {
      "text/html": [
       "<div>\n",
       "<style scoped>\n",
       "    .dataframe tbody tr th:only-of-type {\n",
       "        vertical-align: middle;\n",
       "    }\n",
       "\n",
       "    .dataframe tbody tr th {\n",
       "        vertical-align: top;\n",
       "    }\n",
       "\n",
       "    .dataframe thead th {\n",
       "        text-align: right;\n",
       "    }\n",
       "</style>\n",
       "<table border=\"1\" class=\"dataframe\">\n",
       "  <thead>\n",
       "    <tr style=\"text-align: right;\">\n",
       "      <th></th>\n",
       "      <th>innocent</th>\n",
       "      <th>sage</th>\n",
       "      <th>explorer</th>\n",
       "      <th>outlaw</th>\n",
       "      <th>magician</th>\n",
       "      <th>hero</th>\n",
       "      <th>lover</th>\n",
       "      <th>jester</th>\n",
       "      <th>everyman</th>\n",
       "      <th>caregiver</th>\n",
       "      <th>...</th>\n",
       "      <th>protective</th>\n",
       "      <th>generous</th>\n",
       "      <th>thrifty</th>\n",
       "      <th>favourable</th>\n",
       "      <th>balanced</th>\n",
       "      <th>sensuality</th>\n",
       "      <th>intelligent</th>\n",
       "      <th>believe</th>\n",
       "      <th>egocentric</th>\n",
       "      <th>allocentric</th>\n",
       "    </tr>\n",
       "    <tr>\n",
       "      <th>id</th>\n",
       "      <th></th>\n",
       "      <th></th>\n",
       "      <th></th>\n",
       "      <th></th>\n",
       "      <th></th>\n",
       "      <th></th>\n",
       "      <th></th>\n",
       "      <th></th>\n",
       "      <th></th>\n",
       "      <th></th>\n",
       "      <th></th>\n",
       "      <th></th>\n",
       "      <th></th>\n",
       "      <th></th>\n",
       "      <th></th>\n",
       "      <th></th>\n",
       "      <th></th>\n",
       "      <th></th>\n",
       "      <th></th>\n",
       "      <th></th>\n",
       "      <th></th>\n",
       "    </tr>\n",
       "  </thead>\n",
       "  <tbody>\n",
       "    <tr>\n",
       "      <th>marek_grodzki</th>\n",
       "      <td>0.0</td>\n",
       "      <td>0.0</td>\n",
       "      <td>0.0</td>\n",
       "      <td>0.0</td>\n",
       "      <td>0.0</td>\n",
       "      <td>0.0</td>\n",
       "      <td>0.0</td>\n",
       "      <td>4.0</td>\n",
       "      <td>0.0</td>\n",
       "      <td>0.0</td>\n",
       "      <td>...</td>\n",
       "      <td>2.0</td>\n",
       "      <td>3.0</td>\n",
       "      <td>4.0</td>\n",
       "      <td>4.0</td>\n",
       "      <td>3.0</td>\n",
       "      <td>4.0</td>\n",
       "      <td>4.0</td>\n",
       "      <td>3.0</td>\n",
       "      <td>0.0</td>\n",
       "      <td>0.0</td>\n",
       "    </tr>\n",
       "    <tr>\n",
       "      <th>vege_style_life</th>\n",
       "      <td>0.0</td>\n",
       "      <td>0.0</td>\n",
       "      <td>4.0</td>\n",
       "      <td>0.0</td>\n",
       "      <td>0.0</td>\n",
       "      <td>0.0</td>\n",
       "      <td>0.0</td>\n",
       "      <td>0.0</td>\n",
       "      <td>0.0</td>\n",
       "      <td>0.0</td>\n",
       "      <td>...</td>\n",
       "      <td>4.0</td>\n",
       "      <td>4.0</td>\n",
       "      <td>4.0</td>\n",
       "      <td>4.0</td>\n",
       "      <td>3.0</td>\n",
       "      <td>3.0</td>\n",
       "      <td>3.0</td>\n",
       "      <td>2.0</td>\n",
       "      <td>0.0</td>\n",
       "      <td>3.0</td>\n",
       "    </tr>\n",
       "    <tr>\n",
       "      <th>oliwka__2007</th>\n",
       "      <td>0.0</td>\n",
       "      <td>0.0</td>\n",
       "      <td>0.0</td>\n",
       "      <td>0.0</td>\n",
       "      <td>0.0</td>\n",
       "      <td>0.0</td>\n",
       "      <td>0.0</td>\n",
       "      <td>0.0</td>\n",
       "      <td>4.0</td>\n",
       "      <td>0.0</td>\n",
       "      <td>...</td>\n",
       "      <td>2.0</td>\n",
       "      <td>2.0</td>\n",
       "      <td>0.0</td>\n",
       "      <td>3.0</td>\n",
       "      <td>1.0</td>\n",
       "      <td>2.0</td>\n",
       "      <td>4.0</td>\n",
       "      <td>1.0</td>\n",
       "      <td>0.0</td>\n",
       "      <td>3.0</td>\n",
       "    </tr>\n",
       "    <tr>\n",
       "      <th>z_przestrzeni_serca</th>\n",
       "      <td>4.0</td>\n",
       "      <td>0.0</td>\n",
       "      <td>0.0</td>\n",
       "      <td>0.0</td>\n",
       "      <td>0.0</td>\n",
       "      <td>0.0</td>\n",
       "      <td>0.0</td>\n",
       "      <td>0.0</td>\n",
       "      <td>0.0</td>\n",
       "      <td>0.0</td>\n",
       "      <td>...</td>\n",
       "      <td>4.0</td>\n",
       "      <td>3.0</td>\n",
       "      <td>0.0</td>\n",
       "      <td>4.0</td>\n",
       "      <td>4.0</td>\n",
       "      <td>3.0</td>\n",
       "      <td>4.0</td>\n",
       "      <td>4.0</td>\n",
       "      <td>0.0</td>\n",
       "      <td>1.0</td>\n",
       "    </tr>\n",
       "    <tr>\n",
       "      <th>zaradne_warsztaty</th>\n",
       "      <td>3.0</td>\n",
       "      <td>0.0</td>\n",
       "      <td>0.0</td>\n",
       "      <td>0.0</td>\n",
       "      <td>3.0</td>\n",
       "      <td>0.0</td>\n",
       "      <td>0.0</td>\n",
       "      <td>2.0</td>\n",
       "      <td>3.0</td>\n",
       "      <td>4.0</td>\n",
       "      <td>...</td>\n",
       "      <td>3.0</td>\n",
       "      <td>4.0</td>\n",
       "      <td>0.0</td>\n",
       "      <td>2.0</td>\n",
       "      <td>2.0</td>\n",
       "      <td>4.0</td>\n",
       "      <td>2.0</td>\n",
       "      <td>3.0</td>\n",
       "      <td>1.0</td>\n",
       "      <td>3.0</td>\n",
       "    </tr>\n",
       "  </tbody>\n",
       "</table>\n",
       "<p>5 rows × 37 columns</p>\n",
       "</div>"
      ],
      "text/plain": [
       "                     innocent  sage  explorer  outlaw  magician  hero  lover  \\\n",
       "id                                                                             \n",
       "marek_grodzki             0.0   0.0       0.0     0.0       0.0   0.0    0.0   \n",
       "vege_style_life           0.0   0.0       4.0     0.0       0.0   0.0    0.0   \n",
       "oliwka__2007              0.0   0.0       0.0     0.0       0.0   0.0    0.0   \n",
       "z_przestrzeni_serca       4.0   0.0       0.0     0.0       0.0   0.0    0.0   \n",
       "zaradne_warsztaty         3.0   0.0       0.0     0.0       3.0   0.0    0.0   \n",
       "\n",
       "                     jester  everyman  caregiver  ...  protective  generous  \\\n",
       "id                                                ...                         \n",
       "marek_grodzki           4.0       0.0        0.0  ...         2.0       3.0   \n",
       "vege_style_life         0.0       0.0        0.0  ...         4.0       4.0   \n",
       "oliwka__2007            0.0       4.0        0.0  ...         2.0       2.0   \n",
       "z_przestrzeni_serca     0.0       0.0        0.0  ...         4.0       3.0   \n",
       "zaradne_warsztaty       2.0       3.0        4.0  ...         3.0       4.0   \n",
       "\n",
       "                     thrifty  favourable  balanced  sensuality  intelligent  \\\n",
       "id                                                                            \n",
       "marek_grodzki            4.0         4.0       3.0         4.0          4.0   \n",
       "vege_style_life          4.0         4.0       3.0         3.0          3.0   \n",
       "oliwka__2007             0.0         3.0       1.0         2.0          4.0   \n",
       "z_przestrzeni_serca      0.0         4.0       4.0         3.0          4.0   \n",
       "zaradne_warsztaty        0.0         2.0       2.0         4.0          2.0   \n",
       "\n",
       "                     believe  egocentric  allocentric  \n",
       "id                                                     \n",
       "marek_grodzki            3.0         0.0          0.0  \n",
       "vege_style_life          2.0         0.0          3.0  \n",
       "oliwka__2007             1.0         0.0          3.0  \n",
       "z_przestrzeni_serca      4.0         0.0          1.0  \n",
       "zaradne_warsztaty        3.0         1.0          3.0  \n",
       "\n",
       "[5 rows x 37 columns]"
      ]
     },
     "execution_count": 9,
     "metadata": {},
     "output_type": "execute_result"
    }
   ],
   "source": [
    "# Table preprocessing - replace all NaN with 2 (Unrelated/Don't know class), replace 0-5 values with the ones in range -1.0 - 1.0\n",
    "arch_df = arch_df.fillna(2)\n",
    "\n",
    "# Remove duplicated annotations, to exclude conflicting entries\n",
    "arch_df = arch_df[~arch_df.index.duplicated(keep='first')]\n",
    "\n",
    "# Print the head of the dataset after modification\n",
    "arch_df.head()"
   ]
  },
  {
   "cell_type": "code",
   "execution_count": 10,
   "id": "4cf7ce2e-eaaf-4451-9fe3-418a1d6a4c9a",
   "metadata": {},
   "outputs": [
    {
     "name": "stderr",
     "output_type": "stream",
     "text": [
      "685it [00:20, 34.13it/s]\n"
     ]
    }
   ],
   "source": [
    "# Check if a user has a non-empty directory in the dataset, otherwise delete the user from the list\n",
    "available_arch_df = copy.deepcopy(arch_df)\n",
    "posts = []\n",
    "\n",
    "BASE_DIR = \"instagram_cleared\"\n",
    "\n",
    "# Iterate over whole DataFrame\n",
    "for i, row in tqdm(arch_df.iterrows()):\n",
    "    profile_posts = []\n",
    "    profile_hashtags = []\n",
    "    \n",
    "    # Get all posts per profile\n",
    "    profile_path = os.path.join(BASE_DIR, i)\n",
    "    for file in os.listdir(profile_path):\n",
    "        if not file.endswith(\".toml\"):\n",
    "            with open(os.path.join(profile_path, file), \"r\") as post_f:\n",
    "                read_text = post_f.read()\n",
    "                profile_posts.append(remove_stopwords(clean_up_text(read_text)))\n",
    "                profile_hashtags.append(extract_hashtags(read_text))\n",
    "\n",
    "    # Merge lists - a single list for a single influencer\n",
    "    profile_hashtags = list(itertools.chain.from_iterable(profile_hashtags))\n",
    "    posts.append(list(itertools.chain.from_iterable([profile_posts, [profile_hashtags]])))"
   ]
  },
  {
   "cell_type": "code",
   "execution_count": 11,
   "id": "9427f401-597c-48c1-b38a-661cecbc4cfe",
   "metadata": {},
   "outputs": [],
   "source": [
    "# Map usernames to indices\n",
    "users = list(available_arch_df.index.values)\n",
    "user_indices = {k: users.index(k) for k in users}"
   ]
  },
  {
   "cell_type": "code",
   "execution_count": 12,
   "id": "bfbf3959-b872-429e-a4c0-76f1f79fe7ed",
   "metadata": {},
   "outputs": [],
   "source": [
    "# Create word map\n",
    "norm_word_map = norm_word_df.columns.tolist()"
   ]
  },
  {
   "cell_type": "code",
   "execution_count": 13,
   "id": "f8ca75b0-2813-4edd-b4af-53ab25f636f6",
   "metadata": {},
   "outputs": [
    {
     "name": "stderr",
     "output_type": "stream",
     "text": [
      "0it [00:00, ?it/s]<ipython-input-7-4ffef00e153a>:21: DeprecationWarning: The default dtype for empty Series will be 'object' instead of 'float64' in a future version. Specify a dtype explicitly to silence this warning.\n",
      "  out_vec = pd.Series()\n",
      "Average accuracy: 97.8: : 685it [20:23,  1.79s/it] \n"
     ]
    }
   ],
   "source": [
    "pbar = tqdm(arch_df.iterrows())\n",
    "accuracy = 0\n",
    "\n",
    "# Out accuracy vector\n",
    "total_accuracy = np.array([0] * 37, dtype=np.int)\n",
    "\n",
    "for idx, row in pbar:\n",
    "    user_text = list(itertools.chain.from_iterable(posts[users.index(idx)]))\n",
    "    user_text = \" \".join(user_text)\n",
    "    sim_output = get_trait_dot_product(user_text, norm_word_map, norm_word_df)\n",
    "    user_accuracy = accuracy_per_trait(sim_output, row)\n",
    "    total_accuracy += user_accuracy\n",
    "    pbar.set_description(f\"Average accuracy: {round(np.mean(np.divide(total_accuracy, users.index(idx)+1))*100, 2)}\")"
   ]
  },
  {
   "cell_type": "code",
   "execution_count": 14,
   "id": "e0a16518-f641-47fb-a286-bb2109283b1d",
   "metadata": {},
   "outputs": [
    {
     "name": "stdout",
     "output_type": "stream",
     "text": [
      "--- ACCURACY ON WHOLE DATASET ---\n",
      "Average dataset accuracy: 97.8%\n",
      "Accuracy per trait:\n",
      "innocent: 98.54%\n",
      "sage: 97.52%\n",
      "explorer: 97.66%\n",
      "outlaw: 99.56%\n",
      "magician: 99.56%\n",
      "hero: 98.98%\n",
      "lover: 98.69%\n",
      "jester: 97.96%\n",
      "everyman: 96.06%\n",
      "caregiver: 98.39%\n",
      "ruler: 96.64%\n",
      "creator: 97.96%\n",
      "dominant: 94.6%\n",
      "submissive: 98.25%\n",
      "maximalist: 97.37%\n",
      "minimalist: 97.52%\n",
      "inspiring: 99.27%\n",
      "systematic: 95.47%\n",
      "discovering: 97.37%\n",
      "conservative: 99.85%\n",
      "verifying: 95.18%\n",
      "overlooking: 96.35%\n",
      "sharpening: 98.54%\n",
      "harmonic: 98.83%\n",
      "empathic: 99.27%\n",
      "matter_of_fact: 94.01%\n",
      "brave: 98.25%\n",
      "protective: 98.1%\n",
      "generous: 99.27%\n",
      "thrifty: 99.42%\n",
      "favourable: 98.25%\n",
      "balanced: 98.98%\n",
      "sensuality: 98.1%\n",
      "intelligent: 95.18%\n",
      "believe: 97.08%\n",
      "egocentric: 98.54%\n",
      "allocentric: 98.1%\n"
     ]
    }
   ],
   "source": [
    "# Show total accuracy\n",
    "scaled_accuracy = np.divide(total_accuracy, len(arch_df))\n",
    "avg_accuracy = np.mean(scaled_accuracy)\n",
    "\n",
    "print(\"--- ACCURACY ON WHOLE DATASET ---\")\n",
    "\n",
    "print(f\"Average dataset accuracy: {round(avg_accuracy*100, 2)}%\")\n",
    "print(\"Accuracy per trait:\")\n",
    "for i in range(len(trait_list)):\n",
    "    print(f\"{trait_list[i]}: {round(scaled_accuracy[i] * 100, 2)}%\")"
   ]
  },
  {
   "cell_type": "code",
   "execution_count": 16,
   "id": "3a0543e0-5531-4f0f-8f2b-d4b2f3448370",
   "metadata": {},
   "outputs": [],
   "source": [
    "# Save AGDS to file\n",
    "norm_word_df.to_pickle(\"softmax_norm_full_word_trait_array.pickle\")"
   ]
  },
  {
   "cell_type": "code",
   "execution_count": null,
   "id": "6b4b8d94-0527-4065-9c30-a9792ddd539f",
   "metadata": {},
   "outputs": [],
   "source": []
  }
 ],
 "metadata": {
  "kernelspec": {
   "display_name": "Python 3",
   "language": "python",
   "name": "python3"
  },
  "language_info": {
   "codemirror_mode": {
    "name": "ipython",
    "version": 3
   },
   "file_extension": ".py",
   "mimetype": "text/x-python",
   "name": "python",
   "nbconvert_exporter": "python",
   "pygments_lexer": "ipython3",
   "version": "3.8.6"
  }
 },
 "nbformat": 4,
 "nbformat_minor": 5
}
