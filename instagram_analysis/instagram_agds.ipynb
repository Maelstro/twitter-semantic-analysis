{
 "metadata": {
  "language_info": {
   "codemirror_mode": {
    "name": "ipython",
    "version": 3
   },
   "file_extension": ".py",
   "mimetype": "text/x-python",
   "name": "python",
   "nbconvert_exporter": "python",
   "pygments_lexer": "ipython3",
   "version": "3.8.6"
  },
  "orig_nbformat": 2,
  "kernelspec": {
   "name": "python3",
   "display_name": "Python 3.8.6 64-bit",
   "metadata": {
    "interpreter": {
     "hash": "31f2aee4e71d21fbe5cf8b01ff0e069b9275f58929596ceb00d14d90e3e16cd6"
    }
   }
  }
 },
 "nbformat": 4,
 "nbformat_minor": 2,
 "cells": [
  {
   "cell_type": "code",
   "execution_count": 1,
   "metadata": {},
   "outputs": [],
   "source": [
    "# Instagram data analysis\n",
    "import pandas as pd\n",
    "from tqdm import tqdm"
   ]
  },
  {
   "cell_type": "code",
   "execution_count": 2,
   "metadata": {},
   "outputs": [
    {
     "output_type": "execute_result",
     "data": {
      "text/plain": [
       "         innocent        sage    explorer      outlaw    magician        hero  \\\n",
       "count  441.000000  372.000000  365.000000  332.000000  334.000000  339.000000   \n",
       "mean     2.648526    2.338710    1.953425    1.180723    2.107784    1.451327   \n",
       "std      0.884875    1.110259    1.301107    1.092624    1.051411    1.103983   \n",
       "min      0.000000    0.000000    0.000000    0.000000    0.000000    0.000000   \n",
       "25%      2.000000    1.000000    1.000000    0.000000    1.000000    1.000000   \n",
       "50%      3.000000    3.000000    2.000000    1.000000    2.000000    1.000000   \n",
       "75%      3.000000    3.000000    3.000000    2.000000    3.000000    2.000000   \n",
       "max      4.000000    4.000000    4.000000    4.000000    4.000000    4.000000   \n",
       "\n",
       "            lover      jester    everyman   caregiver  ...  protective  \\\n",
       "count  394.000000  349.000000  457.000000  372.000000  ...  535.000000   \n",
       "mean     1.946701    1.879656    2.894967    2.389785  ...    2.082243   \n",
       "std      1.293830    1.155876    0.796041    1.152147  ...    1.240983   \n",
       "min      0.000000    0.000000    0.000000    0.000000  ...    0.000000   \n",
       "25%      1.000000    1.000000    3.000000    1.000000  ...    1.000000   \n",
       "50%      2.000000    2.000000    3.000000    3.000000  ...    2.000000   \n",
       "75%      3.000000    3.000000    3.000000    3.000000  ...    3.000000   \n",
       "max      4.000000    4.000000    4.000000    4.000000  ...    4.000000   \n",
       "\n",
       "         generous     thrifty  favourable    balanced  sensuality  \\\n",
       "count  533.000000  531.000000  531.000000  530.000000  535.000000   \n",
       "mean     2.737336    1.355932    2.137476    2.367925    2.130841   \n",
       "std      0.737333    1.192531    1.383845    0.994555    1.371760   \n",
       "min      0.000000    0.000000    0.000000    0.000000    0.000000   \n",
       "25%      2.000000    0.000000    1.000000    1.000000    1.000000   \n",
       "50%      3.000000    1.000000    3.000000    3.000000    3.000000   \n",
       "75%      3.000000    2.000000    3.000000    3.000000    3.000000   \n",
       "max      4.000000    4.000000    4.000000    4.000000    4.000000   \n",
       "\n",
       "       intelligent     believe  egocentric  allocentric  \n",
       "count   533.000000  524.000000  535.000000   532.000000  \n",
       "mean      2.801126    2.547710    1.289720     2.609023  \n",
       "std       1.008348    1.131681    1.264684     1.153621  \n",
       "min       0.000000    0.000000    0.000000     0.000000  \n",
       "25%       2.000000    2.000000    0.000000     2.000000  \n",
       "50%       3.000000    3.000000    1.000000     3.000000  \n",
       "75%       4.000000    3.000000    2.000000     3.000000  \n",
       "max       4.000000    4.000000    4.000000     4.000000  \n",
       "\n",
       "[8 rows x 37 columns]"
      ],
      "text/html": "<div>\n<style scoped>\n    .dataframe tbody tr th:only-of-type {\n        vertical-align: middle;\n    }\n\n    .dataframe tbody tr th {\n        vertical-align: top;\n    }\n\n    .dataframe thead th {\n        text-align: right;\n    }\n</style>\n<table border=\"1\" class=\"dataframe\">\n  <thead>\n    <tr style=\"text-align: right;\">\n      <th></th>\n      <th>innocent</th>\n      <th>sage</th>\n      <th>explorer</th>\n      <th>outlaw</th>\n      <th>magician</th>\n      <th>hero</th>\n      <th>lover</th>\n      <th>jester</th>\n      <th>everyman</th>\n      <th>caregiver</th>\n      <th>...</th>\n      <th>protective</th>\n      <th>generous</th>\n      <th>thrifty</th>\n      <th>favourable</th>\n      <th>balanced</th>\n      <th>sensuality</th>\n      <th>intelligent</th>\n      <th>believe</th>\n      <th>egocentric</th>\n      <th>allocentric</th>\n    </tr>\n  </thead>\n  <tbody>\n    <tr>\n      <th>count</th>\n      <td>441.000000</td>\n      <td>372.000000</td>\n      <td>365.000000</td>\n      <td>332.000000</td>\n      <td>334.000000</td>\n      <td>339.000000</td>\n      <td>394.000000</td>\n      <td>349.000000</td>\n      <td>457.000000</td>\n      <td>372.000000</td>\n      <td>...</td>\n      <td>535.000000</td>\n      <td>533.000000</td>\n      <td>531.000000</td>\n      <td>531.000000</td>\n      <td>530.000000</td>\n      <td>535.000000</td>\n      <td>533.000000</td>\n      <td>524.000000</td>\n      <td>535.000000</td>\n      <td>532.000000</td>\n    </tr>\n    <tr>\n      <th>mean</th>\n      <td>2.648526</td>\n      <td>2.338710</td>\n      <td>1.953425</td>\n      <td>1.180723</td>\n      <td>2.107784</td>\n      <td>1.451327</td>\n      <td>1.946701</td>\n      <td>1.879656</td>\n      <td>2.894967</td>\n      <td>2.389785</td>\n      <td>...</td>\n      <td>2.082243</td>\n      <td>2.737336</td>\n      <td>1.355932</td>\n      <td>2.137476</td>\n      <td>2.367925</td>\n      <td>2.130841</td>\n      <td>2.801126</td>\n      <td>2.547710</td>\n      <td>1.289720</td>\n      <td>2.609023</td>\n    </tr>\n    <tr>\n      <th>std</th>\n      <td>0.884875</td>\n      <td>1.110259</td>\n      <td>1.301107</td>\n      <td>1.092624</td>\n      <td>1.051411</td>\n      <td>1.103983</td>\n      <td>1.293830</td>\n      <td>1.155876</td>\n      <td>0.796041</td>\n      <td>1.152147</td>\n      <td>...</td>\n      <td>1.240983</td>\n      <td>0.737333</td>\n      <td>1.192531</td>\n      <td>1.383845</td>\n      <td>0.994555</td>\n      <td>1.371760</td>\n      <td>1.008348</td>\n      <td>1.131681</td>\n      <td>1.264684</td>\n      <td>1.153621</td>\n    </tr>\n    <tr>\n      <th>min</th>\n      <td>0.000000</td>\n      <td>0.000000</td>\n      <td>0.000000</td>\n      <td>0.000000</td>\n      <td>0.000000</td>\n      <td>0.000000</td>\n      <td>0.000000</td>\n      <td>0.000000</td>\n      <td>0.000000</td>\n      <td>0.000000</td>\n      <td>...</td>\n      <td>0.000000</td>\n      <td>0.000000</td>\n      <td>0.000000</td>\n      <td>0.000000</td>\n      <td>0.000000</td>\n      <td>0.000000</td>\n      <td>0.000000</td>\n      <td>0.000000</td>\n      <td>0.000000</td>\n      <td>0.000000</td>\n    </tr>\n    <tr>\n      <th>25%</th>\n      <td>2.000000</td>\n      <td>1.000000</td>\n      <td>1.000000</td>\n      <td>0.000000</td>\n      <td>1.000000</td>\n      <td>1.000000</td>\n      <td>1.000000</td>\n      <td>1.000000</td>\n      <td>3.000000</td>\n      <td>1.000000</td>\n      <td>...</td>\n      <td>1.000000</td>\n      <td>2.000000</td>\n      <td>0.000000</td>\n      <td>1.000000</td>\n      <td>1.000000</td>\n      <td>1.000000</td>\n      <td>2.000000</td>\n      <td>2.000000</td>\n      <td>0.000000</td>\n      <td>2.000000</td>\n    </tr>\n    <tr>\n      <th>50%</th>\n      <td>3.000000</td>\n      <td>3.000000</td>\n      <td>2.000000</td>\n      <td>1.000000</td>\n      <td>2.000000</td>\n      <td>1.000000</td>\n      <td>2.000000</td>\n      <td>2.000000</td>\n      <td>3.000000</td>\n      <td>3.000000</td>\n      <td>...</td>\n      <td>2.000000</td>\n      <td>3.000000</td>\n      <td>1.000000</td>\n      <td>3.000000</td>\n      <td>3.000000</td>\n      <td>3.000000</td>\n      <td>3.000000</td>\n      <td>3.000000</td>\n      <td>1.000000</td>\n      <td>3.000000</td>\n    </tr>\n    <tr>\n      <th>75%</th>\n      <td>3.000000</td>\n      <td>3.000000</td>\n      <td>3.000000</td>\n      <td>2.000000</td>\n      <td>3.000000</td>\n      <td>2.000000</td>\n      <td>3.000000</td>\n      <td>3.000000</td>\n      <td>3.000000</td>\n      <td>3.000000</td>\n      <td>...</td>\n      <td>3.000000</td>\n      <td>3.000000</td>\n      <td>2.000000</td>\n      <td>3.000000</td>\n      <td>3.000000</td>\n      <td>3.000000</td>\n      <td>4.000000</td>\n      <td>3.000000</td>\n      <td>2.000000</td>\n      <td>3.000000</td>\n    </tr>\n    <tr>\n      <th>max</th>\n      <td>4.000000</td>\n      <td>4.000000</td>\n      <td>4.000000</td>\n      <td>4.000000</td>\n      <td>4.000000</td>\n      <td>4.000000</td>\n      <td>4.000000</td>\n      <td>4.000000</td>\n      <td>4.000000</td>\n      <td>4.000000</td>\n      <td>...</td>\n      <td>4.000000</td>\n      <td>4.000000</td>\n      <td>4.000000</td>\n      <td>4.000000</td>\n      <td>4.000000</td>\n      <td>4.000000</td>\n      <td>4.000000</td>\n      <td>4.000000</td>\n      <td>4.000000</td>\n      <td>4.000000</td>\n    </tr>\n  </tbody>\n</table>\n<p>8 rows × 37 columns</p>\n</div>"
     },
     "metadata": {},
     "execution_count": 2
    }
   ],
   "source": [
    "# Read the .csv with annotated data\n",
    "arch_df = pd.read_csv('archetypes_pl.csv', index_col=0)\n",
    "\n",
    "# Get the DataFrame description\n",
    "arch_df.describe()"
   ]
  },
  {
   "cell_type": "code",
   "execution_count": 3,
   "metadata": {},
   "outputs": [
    {
     "output_type": "execute_result",
     "data": {
      "text/plain": [
       "                     innocent  sage  explorer  outlaw  magician  hero  lover  \\\n",
       "id                                                                             \n",
       "marek_grodzki             0.0   0.0       0.0     0.0       0.0   0.0    0.0   \n",
       "vege_style_life           0.0   0.0       4.0     0.0       0.0   0.0    0.0   \n",
       "oliwka__2007              0.0   0.0       0.0     0.0       0.0   0.0    0.0   \n",
       "z_przestrzeni_serca       4.0   0.0       0.0     0.0       0.0   0.0    0.0   \n",
       "zaradne_warsztaty         3.0   0.0       0.0     0.0       3.0   0.0    0.0   \n",
       "\n",
       "                     jester  everyman  caregiver  ...  protective  generous  \\\n",
       "id                                                ...                         \n",
       "marek_grodzki           4.0       0.0        0.0  ...         2.0       3.0   \n",
       "vege_style_life         0.0       0.0        0.0  ...         4.0       4.0   \n",
       "oliwka__2007            0.0       4.0        0.0  ...         2.0       2.0   \n",
       "z_przestrzeni_serca     0.0       0.0        0.0  ...         4.0       3.0   \n",
       "zaradne_warsztaty       2.0       3.0        4.0  ...         3.0       4.0   \n",
       "\n",
       "                     thrifty  favourable  balanced  sensuality  intelligent  \\\n",
       "id                                                                            \n",
       "marek_grodzki            4.0         4.0       3.0         4.0          4.0   \n",
       "vege_style_life          4.0         4.0       3.0         3.0          3.0   \n",
       "oliwka__2007             0.0         3.0       1.0         2.0          4.0   \n",
       "z_przestrzeni_serca      0.0         4.0       4.0         3.0          4.0   \n",
       "zaradne_warsztaty        0.0         2.0       2.0         4.0          2.0   \n",
       "\n",
       "                     believe  egocentric  allocentric  \n",
       "id                                                     \n",
       "marek_grodzki            3.0         0.0          0.0  \n",
       "vege_style_life          2.0         0.0          3.0  \n",
       "oliwka__2007             1.0         0.0          3.0  \n",
       "z_przestrzeni_serca      4.0         0.0          1.0  \n",
       "zaradne_warsztaty        3.0         1.0          3.0  \n",
       "\n",
       "[5 rows x 37 columns]"
      ],
      "text/html": "<div>\n<style scoped>\n    .dataframe tbody tr th:only-of-type {\n        vertical-align: middle;\n    }\n\n    .dataframe tbody tr th {\n        vertical-align: top;\n    }\n\n    .dataframe thead th {\n        text-align: right;\n    }\n</style>\n<table border=\"1\" class=\"dataframe\">\n  <thead>\n    <tr style=\"text-align: right;\">\n      <th></th>\n      <th>innocent</th>\n      <th>sage</th>\n      <th>explorer</th>\n      <th>outlaw</th>\n      <th>magician</th>\n      <th>hero</th>\n      <th>lover</th>\n      <th>jester</th>\n      <th>everyman</th>\n      <th>caregiver</th>\n      <th>...</th>\n      <th>protective</th>\n      <th>generous</th>\n      <th>thrifty</th>\n      <th>favourable</th>\n      <th>balanced</th>\n      <th>sensuality</th>\n      <th>intelligent</th>\n      <th>believe</th>\n      <th>egocentric</th>\n      <th>allocentric</th>\n    </tr>\n    <tr>\n      <th>id</th>\n      <th></th>\n      <th></th>\n      <th></th>\n      <th></th>\n      <th></th>\n      <th></th>\n      <th></th>\n      <th></th>\n      <th></th>\n      <th></th>\n      <th></th>\n      <th></th>\n      <th></th>\n      <th></th>\n      <th></th>\n      <th></th>\n      <th></th>\n      <th></th>\n      <th></th>\n      <th></th>\n      <th></th>\n    </tr>\n  </thead>\n  <tbody>\n    <tr>\n      <th>marek_grodzki</th>\n      <td>0.0</td>\n      <td>0.0</td>\n      <td>0.0</td>\n      <td>0.0</td>\n      <td>0.0</td>\n      <td>0.0</td>\n      <td>0.0</td>\n      <td>4.0</td>\n      <td>0.0</td>\n      <td>0.0</td>\n      <td>...</td>\n      <td>2.0</td>\n      <td>3.0</td>\n      <td>4.0</td>\n      <td>4.0</td>\n      <td>3.0</td>\n      <td>4.0</td>\n      <td>4.0</td>\n      <td>3.0</td>\n      <td>0.0</td>\n      <td>0.0</td>\n    </tr>\n    <tr>\n      <th>vege_style_life</th>\n      <td>0.0</td>\n      <td>0.0</td>\n      <td>4.0</td>\n      <td>0.0</td>\n      <td>0.0</td>\n      <td>0.0</td>\n      <td>0.0</td>\n      <td>0.0</td>\n      <td>0.0</td>\n      <td>0.0</td>\n      <td>...</td>\n      <td>4.0</td>\n      <td>4.0</td>\n      <td>4.0</td>\n      <td>4.0</td>\n      <td>3.0</td>\n      <td>3.0</td>\n      <td>3.0</td>\n      <td>2.0</td>\n      <td>0.0</td>\n      <td>3.0</td>\n    </tr>\n    <tr>\n      <th>oliwka__2007</th>\n      <td>0.0</td>\n      <td>0.0</td>\n      <td>0.0</td>\n      <td>0.0</td>\n      <td>0.0</td>\n      <td>0.0</td>\n      <td>0.0</td>\n      <td>0.0</td>\n      <td>4.0</td>\n      <td>0.0</td>\n      <td>...</td>\n      <td>2.0</td>\n      <td>2.0</td>\n      <td>0.0</td>\n      <td>3.0</td>\n      <td>1.0</td>\n      <td>2.0</td>\n      <td>4.0</td>\n      <td>1.0</td>\n      <td>0.0</td>\n      <td>3.0</td>\n    </tr>\n    <tr>\n      <th>z_przestrzeni_serca</th>\n      <td>4.0</td>\n      <td>0.0</td>\n      <td>0.0</td>\n      <td>0.0</td>\n      <td>0.0</td>\n      <td>0.0</td>\n      <td>0.0</td>\n      <td>0.0</td>\n      <td>0.0</td>\n      <td>0.0</td>\n      <td>...</td>\n      <td>4.0</td>\n      <td>3.0</td>\n      <td>0.0</td>\n      <td>4.0</td>\n      <td>4.0</td>\n      <td>3.0</td>\n      <td>4.0</td>\n      <td>4.0</td>\n      <td>0.0</td>\n      <td>1.0</td>\n    </tr>\n    <tr>\n      <th>zaradne_warsztaty</th>\n      <td>3.0</td>\n      <td>0.0</td>\n      <td>0.0</td>\n      <td>0.0</td>\n      <td>3.0</td>\n      <td>0.0</td>\n      <td>0.0</td>\n      <td>2.0</td>\n      <td>3.0</td>\n      <td>4.0</td>\n      <td>...</td>\n      <td>3.0</td>\n      <td>4.0</td>\n      <td>0.0</td>\n      <td>2.0</td>\n      <td>2.0</td>\n      <td>4.0</td>\n      <td>2.0</td>\n      <td>3.0</td>\n      <td>1.0</td>\n      <td>3.0</td>\n    </tr>\n  </tbody>\n</table>\n<p>5 rows × 37 columns</p>\n</div>"
     },
     "metadata": {},
     "execution_count": 3
    }
   ],
   "source": [
    "# Print the head of the dataset\n",
    "arch_df.head()"
   ]
  },
  {
   "cell_type": "code",
   "execution_count": 4,
   "metadata": {},
   "outputs": [
    {
     "output_type": "execute_result",
     "data": {
      "text/plain": [
       "                     innocent  sage  explorer  outlaw  magician  hero  lover  \\\n",
       "id                                                                             \n",
       "marek_grodzki            -1.0  -1.0      -1.0    -1.0      -1.0  -1.0   -1.0   \n",
       "vege_style_life          -1.0  -1.0       1.0    -1.0      -1.0  -1.0   -1.0   \n",
       "oliwka__2007             -1.0  -1.0      -1.0    -1.0      -1.0  -1.0   -1.0   \n",
       "z_przestrzeni_serca       1.0  -1.0      -1.0    -1.0      -1.0  -1.0   -1.0   \n",
       "zaradne_warsztaty         0.5  -1.0      -1.0    -1.0       0.5  -1.0   -1.0   \n",
       "\n",
       "                     jester  everyman  caregiver  ...  protective  generous  \\\n",
       "id                                                ...                         \n",
       "marek_grodzki           1.0      -1.0       -1.0  ...         0.0       0.5   \n",
       "vege_style_life        -1.0      -1.0       -1.0  ...         1.0       1.0   \n",
       "oliwka__2007           -1.0       1.0       -1.0  ...         0.0       0.0   \n",
       "z_przestrzeni_serca    -1.0      -1.0       -1.0  ...         1.0       0.5   \n",
       "zaradne_warsztaty       0.0       0.5        1.0  ...         0.5       1.0   \n",
       "\n",
       "                     thrifty  favourable  balanced  sensuality  intelligent  \\\n",
       "id                                                                            \n",
       "marek_grodzki            1.0         1.0       0.5         1.0          1.0   \n",
       "vege_style_life          1.0         1.0       0.5         0.5          0.5   \n",
       "oliwka__2007            -1.0         0.5      -0.5         0.0          1.0   \n",
       "z_przestrzeni_serca     -1.0         1.0       1.0         0.5          1.0   \n",
       "zaradne_warsztaty       -1.0         0.0       0.0         1.0          0.0   \n",
       "\n",
       "                     believe  egocentric  allocentric  \n",
       "id                                                     \n",
       "marek_grodzki            0.5        -1.0         -1.0  \n",
       "vege_style_life          0.0        -1.0          0.5  \n",
       "oliwka__2007            -0.5        -1.0          0.5  \n",
       "z_przestrzeni_serca      1.0        -1.0         -0.5  \n",
       "zaradne_warsztaty        0.5        -0.5          0.5  \n",
       "\n",
       "[5 rows x 37 columns]"
      ],
      "text/html": "<div>\n<style scoped>\n    .dataframe tbody tr th:only-of-type {\n        vertical-align: middle;\n    }\n\n    .dataframe tbody tr th {\n        vertical-align: top;\n    }\n\n    .dataframe thead th {\n        text-align: right;\n    }\n</style>\n<table border=\"1\" class=\"dataframe\">\n  <thead>\n    <tr style=\"text-align: right;\">\n      <th></th>\n      <th>innocent</th>\n      <th>sage</th>\n      <th>explorer</th>\n      <th>outlaw</th>\n      <th>magician</th>\n      <th>hero</th>\n      <th>lover</th>\n      <th>jester</th>\n      <th>everyman</th>\n      <th>caregiver</th>\n      <th>...</th>\n      <th>protective</th>\n      <th>generous</th>\n      <th>thrifty</th>\n      <th>favourable</th>\n      <th>balanced</th>\n      <th>sensuality</th>\n      <th>intelligent</th>\n      <th>believe</th>\n      <th>egocentric</th>\n      <th>allocentric</th>\n    </tr>\n    <tr>\n      <th>id</th>\n      <th></th>\n      <th></th>\n      <th></th>\n      <th></th>\n      <th></th>\n      <th></th>\n      <th></th>\n      <th></th>\n      <th></th>\n      <th></th>\n      <th></th>\n      <th></th>\n      <th></th>\n      <th></th>\n      <th></th>\n      <th></th>\n      <th></th>\n      <th></th>\n      <th></th>\n      <th></th>\n      <th></th>\n    </tr>\n  </thead>\n  <tbody>\n    <tr>\n      <th>marek_grodzki</th>\n      <td>-1.0</td>\n      <td>-1.0</td>\n      <td>-1.0</td>\n      <td>-1.0</td>\n      <td>-1.0</td>\n      <td>-1.0</td>\n      <td>-1.0</td>\n      <td>1.0</td>\n      <td>-1.0</td>\n      <td>-1.0</td>\n      <td>...</td>\n      <td>0.0</td>\n      <td>0.5</td>\n      <td>1.0</td>\n      <td>1.0</td>\n      <td>0.5</td>\n      <td>1.0</td>\n      <td>1.0</td>\n      <td>0.5</td>\n      <td>-1.0</td>\n      <td>-1.0</td>\n    </tr>\n    <tr>\n      <th>vege_style_life</th>\n      <td>-1.0</td>\n      <td>-1.0</td>\n      <td>1.0</td>\n      <td>-1.0</td>\n      <td>-1.0</td>\n      <td>-1.0</td>\n      <td>-1.0</td>\n      <td>-1.0</td>\n      <td>-1.0</td>\n      <td>-1.0</td>\n      <td>...</td>\n      <td>1.0</td>\n      <td>1.0</td>\n      <td>1.0</td>\n      <td>1.0</td>\n      <td>0.5</td>\n      <td>0.5</td>\n      <td>0.5</td>\n      <td>0.0</td>\n      <td>-1.0</td>\n      <td>0.5</td>\n    </tr>\n    <tr>\n      <th>oliwka__2007</th>\n      <td>-1.0</td>\n      <td>-1.0</td>\n      <td>-1.0</td>\n      <td>-1.0</td>\n      <td>-1.0</td>\n      <td>-1.0</td>\n      <td>-1.0</td>\n      <td>-1.0</td>\n      <td>1.0</td>\n      <td>-1.0</td>\n      <td>...</td>\n      <td>0.0</td>\n      <td>0.0</td>\n      <td>-1.0</td>\n      <td>0.5</td>\n      <td>-0.5</td>\n      <td>0.0</td>\n      <td>1.0</td>\n      <td>-0.5</td>\n      <td>-1.0</td>\n      <td>0.5</td>\n    </tr>\n    <tr>\n      <th>z_przestrzeni_serca</th>\n      <td>1.0</td>\n      <td>-1.0</td>\n      <td>-1.0</td>\n      <td>-1.0</td>\n      <td>-1.0</td>\n      <td>-1.0</td>\n      <td>-1.0</td>\n      <td>-1.0</td>\n      <td>-1.0</td>\n      <td>-1.0</td>\n      <td>...</td>\n      <td>1.0</td>\n      <td>0.5</td>\n      <td>-1.0</td>\n      <td>1.0</td>\n      <td>1.0</td>\n      <td>0.5</td>\n      <td>1.0</td>\n      <td>1.0</td>\n      <td>-1.0</td>\n      <td>-0.5</td>\n    </tr>\n    <tr>\n      <th>zaradne_warsztaty</th>\n      <td>0.5</td>\n      <td>-1.0</td>\n      <td>-1.0</td>\n      <td>-1.0</td>\n      <td>0.5</td>\n      <td>-1.0</td>\n      <td>-1.0</td>\n      <td>0.0</td>\n      <td>0.5</td>\n      <td>1.0</td>\n      <td>...</td>\n      <td>0.5</td>\n      <td>1.0</td>\n      <td>-1.0</td>\n      <td>0.0</td>\n      <td>0.0</td>\n      <td>1.0</td>\n      <td>0.0</td>\n      <td>0.5</td>\n      <td>-0.5</td>\n      <td>0.5</td>\n    </tr>\n  </tbody>\n</table>\n<p>5 rows × 37 columns</p>\n</div>"
     },
     "metadata": {},
     "execution_count": 4
    }
   ],
   "source": [
    "# Fill NaN values with Unrelated/Don't Know class\n",
    "arch_df = arch_df.fillna(2.0)\n",
    "\n",
    "# Replace values: 0 is -1, 1 is -0.5, 2 is 0.0, 3 is 0.5, 4 is 1.0\n",
    "arch_df = arch_df.replace(0.0, -1.0)\n",
    "arch_df = arch_df.replace(1.0, -0.5)\n",
    "arch_df = arch_df.replace(2.0, 0.0)\n",
    "arch_df = arch_df.replace(3.0, 0.5)\n",
    "arch_df = arch_df.replace(4.0, 1.0)\n",
    "\n",
    "\n",
    "# Print the head of the dataset after modification\n",
    "arch_df.head()"
   ]
  },
  {
   "cell_type": "code",
   "execution_count": 5,
   "metadata": {},
   "outputs": [
    {
     "output_type": "stream",
     "name": "stdout",
     "text": [
      "{'innocent': -1.0, 'sage': -1.0, 'explorer': -1.0, 'outlaw': -1.0, 'magician': -1.0, 'hero': -1.0, 'lover': -1.0, 'jester': 1.0, 'everyman': -1.0, 'caregiver': -1.0, 'ruler': -1.0, 'creator': -1.0, 'dominant': 0.5, 'submissive': 3.0, 'maximalist': 0.5, 'minimalist': -1.0, 'inspiring': 4.0, 'systematic': 0.5, 'discovering': 3.0, 'conservative': -0.5, 'verifying': 1.0, 'overlooking': 0.5, 'sharpening': -1.0, 'harmonic': -0.5, 'empathic': 4.0, 'matter_of_fact': 0.5, 'brave': 1.0, 'protective': 0.0, 'generous': 0.5, 'thrifty': 1.0, 'favourable': 1.0, 'balanced': 0.5, 'sensuality': 1.0, 'intelligent': 1.0, 'believe': 0.5, 'egocentric': -1.0, 'allocentric': -1.0}\n"
     ]
    }
   ],
   "source": [
    "print(arch_df.loc[\"marek_grodzki\"].to_dict())"
   ]
  },
  {
   "cell_type": "code",
   "execution_count": 6,
   "metadata": {},
   "outputs": [],
   "source": [
    "# InfluencerNode - node with user data\n",
    "\n",
    "import os\n",
    "import toml\n",
    "import re\n",
    "import itertools\n",
    "from text_cleaner import *\n",
    "\n",
    "class InfluencerNode(object):\n",
    "    def __init__(self, profile_name: str, db_directory: str, data_frame: pd.DataFrame):\n",
    "        self.username = profile_name\n",
    "\n",
    "        # Load the user data\n",
    "        try:\n",
    "            if os.path.exists(db_directory):\n",
    "                # Iterate over directories in categories:\n",
    "                category_dirs = os.listdir(db_directory)\n",
    "                for cat_dir in category_dirs:\n",
    "                    user_dir = os.path.join(db_directory, cat_dir)\n",
    "                    # Check if influencer username is present in this category\n",
    "                    if profile_name in os.listdir(user_dir):\n",
    "                        user_path = os.path.join(user_dir, profile_name)\n",
    "                        # Get user data\n",
    "                        with open(os.path.join(user_path, f\"{profile_name}.toml\"), \"r\") as f:\n",
    "                            toml_file = toml.load(f)\n",
    "                        \n",
    "                        # After reading .toml file, set up the node attributes\n",
    "                        self.full_name: str = toml_file[\"full_name\"]\n",
    "                        self.biography: str = toml_file[\"biography\"]\n",
    "                        self.business_category: str = toml_file[\"business_category_name\"]\n",
    "                        self.followers: int = toml_file[\"followers\"]\n",
    "                        self.followees: int = toml_file[\"followees\"]\n",
    "                        self.mediacount: int = toml_file[\"mediacount\"]\n",
    "                        self.posts: list = []\n",
    "\n",
    "                        # Red all posts into a list\n",
    "                        for file in os.listdir(user_path):\n",
    "                            if not file.endswith(\".toml\"):\n",
    "                                with open(os.path.join(user_path, file), \"r\") as post_f:\n",
    "                                    self.posts.append(post_f.read())\n",
    "\n",
    "                        self.hashtags = self.extract_hashtags()\n",
    "\n",
    "                        # Post reedition\n",
    "                        self.posts = [\" \".join(remove_stopwords(clean_up_text(post))) for post in self.posts]\n",
    "                        \n",
    "                        # Set up archetype/character trait weights\n",
    "                        traits = data_frame.loc[self.username].to_dict()\n",
    "                        for k, v in traits.items():\n",
    "                            setattr(self, k, v)\n",
    "\n",
    "        except FileNotFoundError as e:\n",
    "            print(e)\n",
    "\n",
    "    def extract_hashtags(self):\n",
    "        HASH_RE = re.compile(r\"\\#\\w+\")\n",
    "        out_list = []\n",
    "        for post in self.posts:\n",
    "            tmp = re.findall(HASH_RE, post)\n",
    "            out_list.append(list(set(tmp)))\n",
    "        out_list = list(itertools.chain.from_iterable(out_list))\n",
    "        return list(set(out_list))\n",
    "            \n"
   ]
  },
  {
   "cell_type": "code",
   "execution_count": 7,
   "metadata": {},
   "outputs": [
    {
     "output_type": "stream",
     "name": "stdout",
     "text": [
      "['#abs', '#misjachoda', '#eggs', '#miłość', '#besttime', '#trenerpersonalny', '#kobietabiznesu', '#health', '#fitnesskimoniki', '#akceptacja', '#black', '#peace', '#food', '#kobietanasiłowni', '#polishboy', '#dziendobry', '#kulturystyka', '#zdrowie', '#wiemcojem', '#bediet', '#kwiaty', '#polskadziewczyna', '#foodie', '#czystamicha', '#biznesonline', '#instacoffee', '#eko', '#cytaty', '#silownia', '#shredding', '#coffeelover', '#eyes', '#sniadaniemistrzow', '#flowershop', '#warsaw', '#zdrowo', '#hotel', '#running', '#bieganie', '#sanatorium', '#trening', '#fotografia', '#polskakobieta', '#runner', '#zmiana', '#restaurant', '#inspiracja', '#moda', '#szczęscie', '#beraw', '#workout', '#marketing', '#przemyslenia', '#newyear', '#przemyślenia', '#cwiczenia', '#ciacho', '#instaboy', '#smile', '#aktywnie', '#mezczyzna', '#rozwój', '#selfie', '#fitnessmotivation', '#men', '#mylove', '#healthy', '#wakacje', '#redukcja', '#radość', '#rozwoj', '#kochajsiebie', '#czasdlasiebie', '#samoakceptacja', '#latte', '#girl', '#vegan', '#stopwymówkom', '#bieg', '#odzywianie', '#breakfasttime', '#wife', '#wiedza', '#thailand', '#diet', '#sport', '#ewachodakowska', '#wiosna', '#dreams', '#sniadanie', '#kobietazklasa', '#espresso', '#beach', '#fit', '#bio', '#spa', '#kryzys', '#elegant', '#wielkanoc', '#family', '#pool', '#domzdrowialila', '#wyzwanie30dni', '#gym', '#man', '#yummy', '#rodzina', '#cheers', '#birthday', '#epidemia', '#urodziny', '#tasty', '#kobietasukcesu', '#marzenia', '#red', '#zostanwdomu', '#dzwigajdziewczyno', '#sukces', '#bodybuilding', '#fitgirl', '#drinks', '#motivation', '#praca', '#coffeeholic', '#trener', '#muscle', '#zdrowystylzycia', '#coffeetime', '#training', '#szczęście', '#kawusia', '#obiad', '#forma', '#monikakolakowska', '#run', '#biznes', '#pomoc', '#befit', '#poland', '#wpracy', '#bizneswoman', '#bialystok', '#cafe', '#kobietaniezalezna', '#nogi', '#fitmom', '#fitnessmodel', '#mareczek', '#woman', '#odchudzanie', '#happyeaster', '#bestfriends', '#polskichlopak', '#weekend', '#breakfast', '#wielkanocnedekoracje', '#termy', '#rower', '#uśmiech', '#wyzwanie', '#rehabilitation', '#coffee', '#wroclaw', '#happynewyear', '#impreza', '#coach', '#healthylifestyle', '#body', '#easter', '#kawa', '#thai', '#beactive', '#morning', '#uroda', '#handsome', '#jedzenie', '#ukochojsie', '#zdrowejedzenie', '#czasnakawe', '#polska', '#fitness', '#warszawa', '#fajterka', '#blackcoffee', '#motywacja', '#instagood', '#summer', '#challenge', '#instafood', '#people', '#sweetheart', '#martini', '#dziecko', '#milosc', '#siłownia', '#edukacja', '#chodakowskaewa', '#eco', '#instalike', '#zdrowystylżycia', '#relax', '#shape', '#happiness', '#poznan', '#biegambolubie', '#model', '#familytime', '#beautiful', '#owsianka', '#selflove', '#chodagang', '#śniadanie', '#healthyfood', '#kawiarnia', '#rozwojosobisty', '#katowice', '#kochamsiebie', '#Wyzwanie30dni', '#uk', '#party', '#love', '#nightout', '#goodmorning', '#ciechocinek', '#happy', '#relationship', '#cytat', '#handmade', '#delicious', '#mirror', '#dieta', '#celebration', '#chodakowska', '#firma', '#healthybreakfast', '#święta', '#spring', '#photography', '#poolparty', '#photooftheday', '#brzuch', '#polskiesylwetki', '#kocham', '#pasja', '#dietetyk', '#fitfood', '#fitfam', '#kwarantanna', '#mojewszystko', '#personaltrainer', '#życie', '#london', '#życzenia', '#szczescie', '#inspiration', '#siła', '#polishgirl', '#tbt', '#goals', '#kobietawbiznesie', '#kobieta', '#specialtycoffee']\n"
     ]
    }
   ],
   "source": [
    "# Test the class\n",
    "test_user = InfluencerNode(\"marek_grodzki\", \"instagram_dataset/pl\", arch_df)\n",
    "\n",
    "# Print the hashtags associated with the user\n",
    "print(test_user.hashtags)"
   ]
  },
  {
   "cell_type": "code",
   "execution_count": 8,
   "metadata": {
    "tags": []
   },
   "outputs": [
    {
     "output_type": "stream",
     "name": "stderr",
     "text": [
      "1it [00:00,  7.96it/s][Errno 2] No such file or directory: 'instagram_dataset/pl/rękodzieło/zaradne_warsztaty/zaradne_warsztaty.toml'\n",
      "21it [00:00, 46.55it/s][Errno 2] No such file or directory: 'instagram_dataset/pl/stylistyka/ilona_browstylist/ilona_browstylist.toml'\n",
      "[Errno 2] No such file or directory: 'instagram_dataset/pl/ogród/pracownia.lepiej/pracownia.lepiej.toml'\n",
      "26it [00:00, 34.02it/s][Errno 2] No such file or directory: 'instagram_dataset/pl/kobieta/paniswojegoczasu_official/paniswojegoczasu_official.toml'\n",
      "35it [00:01, 33.60it/s][Errno 2] No such file or directory: 'instagram_dataset/pl/sprzedaż/adam.przemyk/adam.przemyk.toml'\n",
      "[Errno 2] No such file or directory: 'instagram_dataset/pl/wzornictwo/kamann_living/kamann_living.toml'\n",
      "[Errno 2] No such file or directory: 'instagram_dataset/pl/wnętrza/natalie_interiors/natalie_interiors.toml'\n",
      "46it [00:01, 41.82it/s][Errno 2] No such file or directory: 'instagram_dataset/pl/wzornictwo/krewetkowo/krewetkowo.toml'\n",
      "57it [00:01, 30.86it/s][Errno 2] No such file or directory: 'instagram_dataset/pl/zdrowie/kuchniawrzoska/kuchniawrzoska.toml'\n",
      "[Errno 2] No such file or directory: 'instagram_dataset/pl/zdrowie/kuchniawrzoska/kuchniawrzoska.toml'\n",
      "[Errno 2] No such file or directory: 'instagram_dataset/pl/nauka/eliza.gwiazda_official/eliza.gwiazda_official.toml'\n",
      "[Errno 2] No such file or directory: 'instagram_dataset/pl/nauka/gettinenglish/gettinenglish.toml'\n",
      "65it [00:01, 31.96it/s][Errno 2] No such file or directory: 'instagram_dataset/pl/sprzedaż/polilinia.design/polilinia.design.toml'\n",
      "72it [00:02, 37.83it/s][Errno 2] No such file or directory: 'instagram_dataset/pl/uroda/paulina.ihnat/paulina.ihnat.toml'\n",
      "[Errno 2] No such file or directory: 'instagram_dataset/pl/ogród/home_in_garden/home_in_garden.toml'\n",
      "81it [00:02, 28.11it/s][Errno 2] No such file or directory: 'instagram_dataset/pl/zdjęcia/onalubi/onalubi.toml'\n",
      "[Errno 2] No such file or directory: 'instagram_dataset/pl/ogród/karola_moskal/karola_moskal.toml'\n",
      "[Errno 2] No such file or directory: 'instagram_dataset/pl/kulinarne/niecodziennikparypl/niecodziennikparypl.toml'\n",
      "[Errno 2] No such file or directory: 'instagram_dataset/pl/ogród/wierzbowa_architektura/wierzbowa_architektura.toml'\n",
      "90it [00:03, 23.10it/s][Errno 2] No such file or directory: 'instagram_dataset/pl/telewizja/whowillsavetheplanet/whowillsavetheplanet.toml'\n",
      "[Errno 2] No such file or directory: 'instagram_dataset/pl/sprzedaż/justka.ka/justka.ka.toml'\n",
      "[Errno 2] No such file or directory: 'instagram_dataset/pl/psychologia/mamologia/mamologia.toml'\n",
      "[Errno 2] No such file or directory: 'instagram_dataset/pl/sprzedaż/kwejk/kwejk.toml'\n",
      "99it [00:03, 25.52it/s][Errno 2] No such file or directory: 'instagram_dataset/pl/wzornictwo/anibarpiomar/anibarpiomar.toml'\n",
      "105it [00:03, 16.98it/s][Errno 2] No such file or directory: 'instagram_dataset/pl/polityka/swiatwiedzy/swiatwiedzy.toml'\n",
      "[Errno 2] No such file or directory: 'instagram_dataset/pl/technologia/duda_dawid_/duda_dawid_.toml'\n",
      "120it [00:04, 26.43it/s][Errno 2] No such file or directory: 'instagram_dataset/pl/kobieta/olaszymanska_bodymind/olaszymanska_bodymind.toml'\n",
      "131it [00:04, 35.84it/s][Errno 2] No such file or directory: 'instagram_dataset/pl/kobieta/klaudia_lasecka/klaudia_lasecka.toml'\n",
      "[Errno 2] No such file or directory: 'instagram_dataset/pl/rękodzieło/dom.w.kwiatach/dom.w.kwiatach.toml'\n",
      "[Errno 2] No such file or directory: 'instagram_dataset/pl/wzornictwo/ak.kingamadej/ak.kingamadej.toml'\n",
      "[Errno 2] No such file or directory: 'instagram_dataset/pl/języki/owsianapl/owsianapl.toml'\n",
      "[Errno 2] No such file or directory: 'instagram_dataset/pl/wzornictwo/_agnieszka_leszczynska/_agnieszka_leszczynska.toml'\n",
      "144it [00:05, 29.18it/s][Errno 2] No such file or directory: 'instagram_dataset/pl/informatyka/karkareads/karkareads.toml'\n",
      "[Errno 2] No such file or directory: 'instagram_dataset/pl/kobieta/sandrazenka_pl/sandrazenka_pl.toml'\n",
      "153it [00:05, 23.00it/s][Errno 2] No such file or directory: 'instagram_dataset/pl/mężczyzna/dietetyczka.nati/dietetyczka.nati.toml'\n",
      "[Errno 2] No such file or directory: 'instagram_dataset/pl/ogród/czarna.owieczka/czarna.owieczka.toml'\n",
      "[Errno 2] No such file or directory: 'instagram_dataset/pl/stylistyka/magdaskierska/magdaskierska.toml'\n",
      "[Errno 2] No such file or directory: 'instagram_dataset/pl/ogród/hellohomla/hellohomla.toml'\n",
      "164it [00:05, 27.78it/s][Errno 2] No such file or directory: 'instagram_dataset/pl/muzyka/kulturoholiczka/kulturoholiczka.toml'\n",
      "[Errno 2] No such file or directory: 'instagram_dataset/pl/stylistyka/aniolnaresorach/aniolnaresorach.toml'\n",
      "176it [00:06, 25.94it/s][Errno 2] No such file or directory: 'instagram_dataset/pl/wnętrza/krusia_domatorka/krusia_domatorka.toml'\n",
      "[Errno 2] No such file or directory: 'instagram_dataset/pl/ogród/gotowanie_po_zmianie/gotowanie_po_zmianie.toml'\n",
      "[Errno 2] No such file or directory: 'instagram_dataset/pl/kobieta/evegadomska/evegadomska.toml'\n",
      "183it [00:06, 24.20it/s][Errno 2] No such file or directory: 'instagram_dataset/pl/sprzedaż/designyourwedding_pl/designyourwedding_pl.toml'\n",
      "189it [00:07, 18.25it/s][Errno 2] No such file or directory: 'instagram_dataset/pl/nauka/ahojprzyrodo/ahojprzyrodo.toml'\n",
      "[Errno 2] No such file or directory: 'instagram_dataset/pl/nauka/mr.stejku/mr.stejku.toml'\n",
      "202it [00:07, 24.43it/s][Errno 2] No such file or directory: 'instagram_dataset/pl/sprzedaż/kinianieruda/kinianieruda.toml'\n",
      "[Errno 2] No such file or directory: 'instagram_dataset/pl/sprzedaż/sugarfree/sugarfree.toml'\n",
      "212it [00:07, 28.99it/s][Errno 2] No such file or directory: 'instagram_dataset/pl/kultura/remont_ciala/remont_ciala.toml'\n",
      "[Errno 2] No such file or directory: 'instagram_dataset/pl/ogród/cooosure/cooosure.toml'\n",
      "228it [00:08, 45.92it/s][Errno 2] No such file or directory: 'instagram_dataset/pl/wzornictwo/martapazera/martapazera.toml'\n",
      "[Errno 2] No such file or directory: 'instagram_dataset/pl/wzornictwo/martapazera/martapazera.toml'\n",
      "[Errno 2] No such file or directory: 'instagram_dataset/pl/języki/zdrowy_talerz/zdrowy_talerz.toml'\n",
      "241it [00:08, 40.09it/s][Errno 2] No such file or directory: 'instagram_dataset/pl/zdjęcia/zycie_fizjoterapeuty/zycie_fizjoterapeuty.toml'\n",
      "[Errno 2] No such file or directory: 'instagram_dataset/pl/ogród/annamboland/annamboland.toml'\n",
      "[Errno 2] No such file or directory: 'instagram_dataset/pl/wzornictwo/marketing_w_pigulce/marketing_w_pigulce.toml'\n",
      "[Errno 2] No such file or directory: 'instagram_dataset/pl/wzornictwo/nebule_pl/nebule_pl.toml'\n",
      "[Errno 2] No such file or directory: 'instagram_dataset/pl/wzornictwo/achdeco_polska/achdeco_polska.toml'\n",
      "257it [00:09, 38.01it/s][Errno 2] No such file or directory: 'instagram_dataset/pl/psychologia/imsokayka/imsokayka.toml'\n",
      "[Errno 2] No such file or directory: 'instagram_dataset/pl/wnętrza/prosto.w.szarosci/prosto.w.szarosci.toml'\n",
      "273it [00:09, 37.74it/s][Errno 2] No such file or directory: 'instagram_dataset/pl/podróże/podroze.rodzinne/podroze.rodzinne.toml'\n",
      "[Errno 2] No such file or directory: 'instagram_dataset/pl/ogród/fitbadurka/fitbadurka.toml'\n",
      "[Errno 2] No such file or directory: 'instagram_dataset/pl/psychologia/panifortuna/panifortuna.toml'\n",
      "277it [00:09, 31.03it/s][Errno 2] No such file or directory: 'instagram_dataset/pl/mężczyzna/dietetyczka.nati/dietetyczka.nati.toml'\n",
      "[Errno 2] No such file or directory: 'instagram_dataset/pl/stylistyka/kinga_strzalka/kinga_strzalka.toml'\n",
      "286it [00:09, 33.25it/s][Errno 2] No such file or directory: 'instagram_dataset/pl/ogród/gotowe_projekty_domow_archon/gotowe_projekty_domow_archon.toml'\n",
      "[Errno 2] No such file or directory: 'instagram_dataset/pl/zwierzęta/matka.boska/matka.boska.toml'\n",
      "[Errno 2] No such file or directory: 'instagram_dataset/pl/psychologia/myblogyoll/myblogyoll.toml'\n",
      "306it [00:10, 48.21it/s][Errno 2] No such file or directory: 'instagram_dataset/pl/wzornictwo/zuzia_niemczycka/zuzia_niemczycka.toml'\n",
      "[Errno 2] No such file or directory: 'instagram_dataset/pl/wzornictwo/dywanyluszczow/dywanyluszczow.toml'\n",
      "[Errno 2] No such file or directory: 'instagram_dataset/pl/ogród/justa_w_ogrodzie/justa_w_ogrodzie.toml'\n",
      "317it [00:10, 33.93it/s][Errno 2] No such file or directory: 'instagram_dataset/pl/sprzedaż/agiksonn/agiksonn.toml'\n",
      "[Errno 2] No such file or directory: 'instagram_dataset/pl/ogród/620_nad_poziomem_morza/620_nad_poziomem_morza.toml'\n",
      "327it [00:11, 35.12it/s][Errno 2] No such file or directory: 'instagram_dataset/pl/kobieta/fit_gruszecka/fit_gruszecka.toml'\n",
      "[Errno 2] No such file or directory: 'instagram_dataset/pl/nauka/karolinawiniarska.autor/karolinawiniarska.autor.toml'\n",
      "[Errno 2] No such file or directory: 'instagram_dataset/pl/polityka/wydawnictwoznakpl/wydawnictwoznakpl.toml'\n",
      "336it [00:11, 28.88it/s][Errno 2] No such file or directory: 'instagram_dataset/pl/sprzedaż/martynagrajcke/martynagrajcke.toml'\n",
      "[Errno 2] No such file or directory: 'instagram_dataset/pl/informatyka/kasper.mackowiak/kasper.mackowiak.toml'\n",
      "340it [00:11, 27.56it/s][Errno 2] No such file or directory: 'instagram_dataset/pl/wzornictwo/martapazera/martapazera.toml'\n",
      "[Errno 2] No such file or directory: 'instagram_dataset/pl/mężczyzna/staraochota_skrawki/staraochota_skrawki.toml'\n",
      "349it [00:12, 25.19it/s][Errno 2] No such file or directory: 'instagram_dataset/pl/wnętrza/nabakowskapracowniawnetrz/nabakowskapracowniawnetrz.toml'\n",
      "357it [00:12, 26.52it/s][Errno 2] No such file or directory: 'instagram_dataset/pl/sprzedaż/patij_fit/patij_fit.toml'\n",
      "367it [00:12, 33.37it/s][Errno 2] No such file or directory: 'instagram_dataset/pl/ogród/paulinarubaszka/paulinarubaszka.toml'\n",
      "[Errno 2] No such file or directory: 'instagram_dataset/pl/wzornictwo/karolina_er_/karolina_er_.toml'\n",
      "380it [00:13, 31.72it/s][Errno 2] No such file or directory: 'instagram_dataset/pl/zdrowie/dieta_bez_diety/dieta_bez_diety.toml'\n",
      "401it [00:13, 30.37it/s][Errno 2] No such file or directory: 'instagram_dataset/pl/ogród/aga_bugaj/aga_bugaj.toml'\n",
      "[Errno 2] No such file or directory: 'instagram_dataset/pl/ogród/lab.07/lab.07.toml'\n",
      "410it [00:13, 35.14it/s][Errno 2] No such file or directory: 'instagram_dataset/pl/wnętrza/krusia_domatorka/krusia_domatorka.toml'\n",
      "[Errno 2] No such file or directory: 'instagram_dataset/pl/obyczaje/felicjada/felicjada.toml'\n",
      "421it [00:14, 40.41it/s][Errno 2] No such file or directory: 'instagram_dataset/pl/wzornictwo/dobredomy/dobredomy.toml'\n",
      "[Errno 2] No such file or directory: 'instagram_dataset/pl/uroda/pani_tester/pani_tester.toml'\n",
      "[Errno 2] No such file or directory: 'instagram_dataset/pl/podróże/blogtasteaway/blogtasteaway.toml'\n",
      "432it [00:14, 37.50it/s][Errno 2] No such file or directory: 'instagram_dataset/pl/stylistyka/indigobyjoannabandurska/indigobyjoannabandurska.toml'\n",
      "441it [00:14, 34.78it/s][Errno 2] No such file or directory: 'instagram_dataset/pl/ogród/onajedna_home/onajedna_home.toml'\n",
      "[Errno 2] No such file or directory: 'instagram_dataset/pl/wzornictwo/ziarenkomaku/ziarenkomaku.toml'\n",
      "[Errno 2] No such file or directory: 'instagram_dataset/pl/języki/languagebay/languagebay.toml'\n",
      "461it [00:15, 45.01it/s][Errno 2] No such file or directory: 'instagram_dataset/pl/nauka/jestrudo/jestrudo.toml'\n",
      "[Errno 2] No such file or directory: 'instagram_dataset/pl/ogród/alabasterfox/alabasterfox.toml'\n",
      "[Errno 2] No such file or directory: 'instagram_dataset/pl/wzornictwo/aleksandra.herec/aleksandra.herec.toml'\n",
      "[Errno 2] No such file or directory: 'instagram_dataset/pl/wzornictwo/rykalskaa/rykalskaa.toml'\n",
      "[Errno 2] No such file or directory: 'instagram_dataset/pl/wzornictwo/dywanyluszczow/dywanyluszczow.toml'\n",
      "[Errno 2] No such file or directory: 'instagram_dataset/pl/ogród/domiogrod_przedsnem/domiogrod_przedsnem.toml'\n",
      "466it [00:15, 44.77it/s][Errno 2] No such file or directory: 'instagram_dataset/pl/podróże/maddlajnn/maddlajnn.toml'\n",
      "475it [00:15, 28.00it/s][Errno 2] No such file or directory: 'instagram_dataset/pl/zwierzęta/rozowawieza/rozowawieza.toml'\n",
      "[Errno 2] No such file or directory: 'instagram_dataset/pl/sprzedaż/kwejk/kwejk.toml'\n",
      "[Errno 2] No such file or directory: 'instagram_dataset/pl/telewizja/veraicon_lifestyle/veraicon_lifestyle.toml'\n",
      "[Errno 2] No such file or directory: 'instagram_dataset/pl/psychologia/poczujsielepiej/poczujsielepiej.toml'\n",
      "485it [00:16, 26.40it/s][Errno 2] No such file or directory: 'instagram_dataset/pl/sprzedaż/erillsstyle/erillsstyle.toml'\n",
      "[Errno 2] No such file or directory: 'instagram_dataset/pl/wzornictwo/dywanyluszczow/dywanyluszczow.toml'\n",
      "[Errno 2] No such file or directory: 'instagram_dataset/pl/ogród/naszswiatt/naszswiatt.toml'\n",
      "496it [00:16, 41.69it/s][Errno 2] No such file or directory: 'instagram_dataset/pl/ogród/zdrowoczylisexy/zdrowoczylisexy.toml'\n",
      "[Errno 2] No such file or directory: 'instagram_dataset/pl/języki/rutynowa/rutynowa.toml'\n",
      "[Errno 2] No such file or directory: 'instagram_dataset/pl/ogród/aga.lanius/aga.lanius.toml'\n",
      "[Errno 2] No such file or directory: 'instagram_dataset/pl/wzornictwo/balickadesign/balickadesign.toml'\n",
      "507it [00:16, 36.00it/s][Errno 2] No such file or directory: 'instagram_dataset/pl/sprzedaż/ewarzetelna_agentnieruchomosci/ewarzetelna_agentnieruchomosci.toml'\n",
      "[Errno 2] No such file or directory: 'instagram_dataset/pl/wzornictwo/krewetkowo/krewetkowo.toml'\n",
      "516it [00:16, 32.64it/s][Errno 2] No such file or directory: 'instagram_dataset/pl/stylistyka/agatadobrzanska_com/agatadobrzanska_com.toml'\n",
      "[Errno 2] No such file or directory: 'instagram_dataset/pl/sprzedaż/kamomilpl/kamomilpl.toml'\n",
      "528it [00:17, 41.37it/s][Errno 2] No such file or directory: 'instagram_dataset/pl/języki/nowinki.sklepowe/nowinki.sklepowe.toml'\n",
      "[Errno 2] No such file or directory: 'instagram_dataset/pl/motoryzacja/moda_na_klasyki/moda_na_klasyki.toml'\n",
      "537it [00:17, 30.98it/s]\n"
     ]
    }
   ],
   "source": [
    "# Create node list (to be used for graph building)\n",
    "node_list = []\n",
    "data_not_present = []\n",
    "for i, row in tqdm(arch_df.iterrows()):\n",
    "    try:\n",
    "        tmp = InfluencerNode(i, \"instagram_dataset/pl\", arch_df)\n",
    "        node_list.append(tmp)\n",
    "    except:\n",
    "        data_not_present.append(i)"
   ]
  },
  {
   "cell_type": "code",
   "execution_count": 9,
   "metadata": {},
   "outputs": [
    {
     "output_type": "stream",
     "name": "stdout",
     "text": [
      "Node list length: 262\n"
     ]
    }
   ],
   "source": [
    "# Get the length of the processed node list\n",
    "print(f\"Node list length: {len(node_list)}\")"
   ]
  },
  {
   "cell_type": "code",
   "execution_count": 10,
   "metadata": {},
   "outputs": [
    {
     "output_type": "execute_result",
     "data": {
      "text/plain": [
       "ciałbym podzielić moimi przemyśleniami temat zdrowego odżywiania wyjaśnić czym mocno utarło przekonanie zdrowe rzeczy naturalne nieprzetworzone produkty zdrowe fast foody pizze bugery wszelakie słodycze naprawdę podejść zwariować utrzymać efekty lata dawka czyni truciznę schemat same nieprzetworzone produkty owoce warzywa kaszę mięso brzmi fantastycznie mega zdrowo praktyce niewiele stanie jeść długofalowo większość kilku dniach takiej jałowej diety wręcz niechęć skutkować zaburzeniami odżywiania długo zmagałem problemem obecnie kontroluje kilkunastu miesięcy stan swojej tkanki tłuszczowej bym życzył podejść opierać produktach bogate witaminy składniki mineralne sycące dające energie uznawane zdrowe dodając każdego posiłku nutkę finezji postaci czekolady batonika dżemu pierniczków owoca oczywiście wliczając codzienny bilans działa mamy przyjemność utrzymywania takiego żywienia smakuje mamy efekty postaci utraty zbędnych kilogramów energii dzień seksownego ciała mamy pełna kontrole jemy mamy przysłowiowego napadu słodkie zdrowa dieta zdrowe ciało stan psychiczny podchodzimy jedzenia temat tabu ludzi osoby mające problemy jedzeniem miewają zachowania siebie wstydzą zdrowa dieta trzymanie planu pozwalamy zjeść niezdrowego objadamy mamy ochotę wymiotować reszta komentarzu',\n",
       " 'zmotywować ćwiczeń cześć ostatnio zadał pytanie motywować sportu czułem kompetentny temat psychologiem sportowym pomyślałem powiem osobie wygląda robię chciało bywały życiu momenty naprawdę czułem wypaliłem ćwicząc siłowni chciało sprawiało żadnej radości prostu miałem wstręt miałem okres dawałem odpoczywałem treningu skupiałem pracy życiu osobistym pomagało faktycznie wracałem chęcią działo usłyszałem ostatnio motywacja rodzi podejmujemy jakieś działanie poszedłem trening totalnie chciało spojrzałem siebie lustrze przeraziłem wiedziałem stać ustaliłem cel rozpisałem plan treningowy motywacja wróciła uważam kluczowe wyrobić nawyk gorsze dni motywacja zniknie warto mieć realny powód robimy chce mieć lepsze ciało chce zdrowy przekona rano ciemno chcę spać prawdziwą intencję pomaga stawianie celu realizowanie wyznaczanie kolejnych poprawa sylwetki realizacja planu treningowego super efekt każdego innego najważniejsze zacząć zapisać chcemy',\n",
       " 'chciałem napisać wartościowego najzwyczajniej wykorzystajcie nowy realizacji waszych celów marzeń',\n",
       " 'musisz wiedzieć efekcie jojo cześć błędów popełniać uniknąć unikaj restrykcji dietetycznych wszelkiego rodzaju zakazy restrykcje obiecywanie zjemy cukru góry skazane porażkę lubisz czekoladę pizze lody nagle odmawiasz większa szansa rzucisz zakończonym odchudzaniu byś miał produkty codziennej diecie ograniczonych ilościach zaprzestań okresowych postów głodówek sprzyja pewno dobrych relacji jedzeniem naszemu zdrowiu słynne oczyszczanie organizmu świetne hasło marketingowe rzeczywistość prawda byś miał taką toksynę byś oddziale toksykologii szpitalu poniekąd zazębia punktem pierwszym restrykcje uwierz takim oczyszczaniu owoce warzywa ogromna szansa sięgniesz produkty dania najzwyczajniej lubisz myśli słodyczy pizzy końca dobrym wyborem wcześniej doprowadziły byłej wagi zmień nawyki żywieniowe zmienisz stare nawyki jedzenia mieście jedzenia biegu fast food szybko nowe zdrowsze łatwiej utrzymać wagę zakończonym odchudzaniu realny cel chcąc osiągnąć ciało instagrama okładki magazynu fitness pierwszej próbie odchudzania udać warto założyć realny cel będziemy później stanie utrzymać schudnięcie utrzymanie niskiego poziomu tkanki tłuszczowej zbyt trudne pierwszym podejściu wierz cuda niestety magicznej pigułki koktajli soków produktów sprawią schudniesz kilogramów x czasu efektu jojo fajnie sprzedaje włożyć pracę osiągnąć upragnione efekty reszta tekstu komentarzu',\n",
       " 'ćwiczenia pośladki ilość serii powtórzeń cześć dzielę gotowym planem pośladki kobiet umowie ćwiczenie ćwiczeniu jakim czasie warto wykonywać zapraszam trening pośladków będziecie wykonywać x tygodniu np poniedziałek czwartek wtorek piątek itp plan kobiet atakujący pośladki każdej strony najpierw omówię ćwiczenia gotowy plan samym dole pierwszym ćwiczeniem pośladki hip thrust podawał angielskie nazwy łatwiej wyszukać internecie poprawnym omówieniem król ćwiczeń pośladki wykonujemy seriach powtórzeń zaawansowaną osobą jesteś robisz większą ilość serii powtórzeń istotne systematyczne dodawanie ciężaru powolne opuszczanie sztangi dół drugiej fazie ruchu drugim ćwiczeniem odwodzenie nóg maszynie hip abduction machine ćwiczeniu atakujemy mięsień pośladkowy średni kobiet zapomina wykonujemy seriach powtórzeń powolnym tempie szczytowej fazie możemy zrobić pauzę sekundową kolejnym dniu trening zaczynami martwego ciągu jednej nodze leg deadlift ćwiczeniu pracują mięśnie pośladkowe mięśnie dwugłowe uda ćwiczenie wykonujemy hantlem kettlem seriach powtórzeń nogę pamiętajmy tempo wykonywania powolne szczególnie faza opuszczania miednica kości biodrowe samej pozycji ruch następnym ćwiczeniem monster walk znam polskiej nazwy ćwiczenia ćwiczenie robimy gumą oporową kolanach seriach powtórzeń nogę staramy wykonywać dokładnie pełną dokładnością ruchu guma oporowa sprawia trudności zamieniamy trudniejszą reszta komentarzu dole',\n",
       " 'śniadanie najważniejszy posiłek dnia pewno cześć utarło mocno śniadanie najważniejszy posiłek całym dniu powtarzała babcia mama mówi śniadanie daje energie dzień faktycznie prawda literaturze fachowej znaleziono dowodów śniadanie daje ogromne korzyści mojego doświadczenia mieć faktyczne zastosowanie spożywają śniadanie popijając kawa herbata poranny rytuał śniadanie uśpić dać power ważne zjemy wpływa organizm jedząc syte śniadania dosłownie korek możemy czuć źle ospale ciężko lekkie śniadanie stłumi apetyt świetną opcją ludzi uwielbiają zjeść zaraz przebudzeniu wiedzieć śniadanie faktycznie warto zjeść mamy treningi rana obudzeniu jesteśmy aktywni warto spożyć lekkiego czym będziemy czuli źle dostarczoną energię trening wydajniejszy przebudzeniu mamy spokojny siedzący etap dnia jesteśmy głodni możemy poczekać śniadaniem odłożyć czasie ciało adaptuję wszystkiego podsuwamy wpis możesz potraktować ciekawostkę najważniejsze spróbować przetestować czujesz pamiętam kiedyś spożywałem śniadania jakimś czasie jadłem czułem głodny trenowałem czczo śniadaniu zauważyłem najlepiej sprawdza połączę trybem życia nadzieję wpis pomocny masz jakieś pytania tematy chciał byś żebym poruszył napisz komentarzu wiadomości prywatnej postaram odpowiedzieć najszybciej zmagasz odchudzaniem katujesz okropnymi dietami napisz chętnie pomogę grodzki',\n",
       " 'trening kobiet cześć drogie temu nagrałem materiał wyglądać trening siłowni pań częste błędy popełniają dać trening siłowni zdaje sprawę temat aktualny wierzę będziemy mogli udać siłownie pomoże poprawić własną sylwetkę zachęcam obejrzenia link znajdziesz zwykle bio ciekaw sprawia największą trudność związaną odżywianiem ćwiczeniami kwarantanny podziel komentarzu postaram pomóc następnych wpisach',\n",
       " 'dzień cześć podsumowanie dni mojego wyzwania staram poprawić swoją sylwetkę ćwicząc wyłącznie domu sprzętu dzisiejszym podsumowaniu święta podejście czasie zastój wagi zmiany systemie treningowym odżywiania pomaga kontrolować spożywanie kalorii musze poprawić zachęcam obejrzenia myślę znajdziesz siebie możesz zastosować swojej diecie treningu standardowo link znajdziecie bio ps życzę wspaniałej reszty dnia',\n",
       " 'zyskać kryzysie cześć wykorzystaj sytuację działaj nieco tematyka dzielę moimi przemyśleniami odnośnie panującej sytuacji świecie wiadomo ciekawie wcześniej przygotowały stresujące taką sytuację naprawdę współczuje osobą stara minusa zrobić plus wszędzie szukać drugiej strony medalu chciałbym powiedzieć możecie zrobić faktycznie całym kryzysie wyjść waszym zasobem kompetencje pasje zainteresowania hobby czym jesteście dobrzy wykorzystajcie macie kompetencji rzeczy jesteście naprawdę świetni macie mnóstwo czasu nauczyć darmowe książki booki materiały youtube artykuły blogi masa znajdźcie interesuje wykorzystajcie relacje ludźmi macie świetny zbudować naprawdę istotne mieć dobre relacje ludźmi wokół otaczasz później pomóc takich sytuacjach źle masz wspaniałych ludzi wokół siebie pomogą możecie nauczyć później przełożyć sytuację finansową całym kryzysie możecie stać najlepsi swoim fachu ruszyć kopyta możecie zadbać zdrowie wypracować fajną sylwetkę domowych warunkach pozbyć kilku kilogramów pewno warto nagrałem film wiec chcesz posłuchać link znajdziesz bio luźnie przemyślenia którymi dziele prawo mieć zdanie temat ciekaw widzicie podziel proszę komentarzu',\n",
       " 'zjeść serniczka cześć poradę uniwersalną sprawić chciało serniczka świątecznym obiadku kolejność jedzenia wbrew pozorom znaczenie zanim usiądziemy stołu polecam wypić szklankę wody następnie zacząć posiłek warzyw samym początku spożywamy warzywa sprawi będziemy nasyceni zjemy przechodzimy mięsa czyt białka samym końcu ziemniaczki węglowodany inaczej zaczynając warzyw dostarczamy błonnika warzywa duża objętość wypijając wcześniej wodę sprawimy prostu możemy czuć mniejszą ochotę jedzenia białko sprawić będziemy czuli syci zjemy okazać mamy ochotę ziemniaczki źródło węglowodanów jesteśmy pełni zanim sięgniemy deser zachęcam spożyć owoc macie okazać zaspokaja słodkie pragnienie deser najzwyczajniej powiecie dosyć jesteście takimi łasuchami wyżej wymienione porady działają chcecie spróbować waszego ulubionego ciasta zróbcie jednym warunkiem delektujcie zamieńcie prawdziwych smakoszy bądźcie typowymi zjadaczami ciasta przywdziejcie role smakosza ciast niczym smakosz magda delektuję każdym kęsem rozkoszuję każdą chwilą stać kawałek pełni zaspokoi pragnienia połknęliście kawałka ciasta minutę delektowaliście minuty zupełności wystarcza spróbujcie koniecznie dajcie znać działa ps ciekaw podeszliście tematu świąt celebrowaliście zapominając zdrowym żywieniu patrzyliście jecie lekkim przymrużeniem podziel komentarzu',\n",
       " 'piękni ludzie susza ząbki dziekuje',\n",
       " 'obserwując boku sytuacje miała mieć miejsce nieco przerażony ludzie wylewają złości internecie obrażają osoby hejtu niemiara czytając chce wiedzieć środku pisząc hamując emocje obecna sytuacja dotknie każdego przygotował mleko wylało zmienić zamiast siać nienawiść złość internecie wypowiada innymi poglądami lepiej zainwestować podsumowanie siebie zastanowienie chcielibyśmy robić faktycznie życiu niektórzy stracą pracę przykre niestety wykorzystać czasu nabranie kompetencji chcemy robić innej dziedzinie człowiek całe życie uczy wykorzystać czasu rozwijanie siebie starych pasji polepszeniu relacji rodziną wątpię kiedykolwiek sytuacja powtórzyła świat musiał siedzieć domu tygodni wykorzystajmy rozwijanie siebie własnych pasji relacji kompetencji szerzenie nienawiści internecie naprawdę przegrywa pisząc rzeczy interecie osoba nienawiść hejt zatruwa środka pomyślności zdrówka pozdrawiam marek',\n",
       " 'fitnesiaka',\n",
       " 'dostojny wystrój coach marka',\n",
       " 'trzymać zdrowego odżywiania kryzysu cześć dzielę wskazówkami utrzymać założenia żywieniowe epidemii przymusowa kwarantanna pewno sprzymierzeńcem trzymać swoich założeń dietetycznych zdrowego odżywiania mamy mnóstwo czasu nudzimy zaglądamy lodówki wszelki wypadek sprawdzić zmieniło najbardziej zrozumiałe pilnujemy własnych zapasów gorzej zapasy znikają wiadomo poradzić trzymać słodkich rzeczy domu osobiście faworyt słodkiego głodny zastanawiam zmieściłbym maleństwa zająć czymś nudzimy najczęściej sięgamy lodówki spędźmy lubimy wykorzystajmy siebie jedz owoce zastąpić słodycze mając wyboru czekoladę owoc warto sięgnąć owoc słodki smak zaspokoi pragnienie dostarczy witamin składników mineralnych tylu kalorii ustalmy plan posiłków ustalmy godziny będziemy spożywać posiłki zaplanujmy dzień największy kryzys mieć czym możemy zająć skupienie jedzeniu mamy czasu skupmy jemy odstawmy telefon przeżuwajmy powoli delektujmy jemy uda sięgniemy słodkiego podzielmy małe części delektujmy najdłużej wydaje banalne naprawdę pomaga przestańmy przeglądać zdjęcia video związane jedzeniem oglądasz jakieś wyśmienitą potrawę myślisz skradłoby podniebienie wydaję jesteś głodny daj znać radzisz ciężkim okresie komentarzu pozdrawiam',\n",
       " 'kapitalny dobiega końca nauczyłem wdzięczny lekcje pomogły stać lepszym człowiekiem mogę doczekać przyniesie następny powoli realizować cele nowy happy new year cheers',\n",
       " 'jeść słodycze odchudzania cześć często zauważyć podejście odchudzają odrzucają cukier propagują jednym słusznym podejściem eliminacja przyjemności drugiej strony widzimy osoby propagują spożywać wystarczy liczyć kalorię schudniemy dzielę sposobem działa moich podopiecznych podchodzę większość mojego jadłospisu bazowanie zdrowych produktach uzupełnimy potrzebne ciała prawidłowego funkcjonowania wdrażam produkty rekreacyjne sprawiają przyjemność uważam ważne mieć satysfakcję naszej diety pozwoli wytrwać dłużej jakbym miał jakieś restrykcje oczywiście schemat pasuję każdego pyta jeść słodycze zadaję pytania mieści ujemnym bilansie kalorycznym mieści spełniasz całe zapotrzebowanie witaminy błonnik składniki mineralne zjedzeniu słodkości sięgniesz przekroczysz zapotrzebowanie nagrałem materiał szerzej omawiam temat zachęcam sprawdzić link znajdziesz bio pozdrawiam życzę miłego dnia ps ciekaw mógł byś wybrać produkt byłby słodko słono',\n",
       " 'patrz jesteś modelka',\n",
       " 'prosta metoda pozwoli kontrolować jedzenie ciągu dnia cześć prosta metoda dzięki możesz zrzucić zbędnych kilogramów mowa poście przerywanym ang intermittent fasting wygląda czym naprawdę polega wyznaczamy godziny jemy takim najbardziej popularnym sposobem okno żywieniowe polega jemy pościmy praktyce wygląda możemy zacząć rana przesunąć wieczór np wstajemy ranem okno żywieniowe zaczynamy trwa godziny czasie spożywamy posiłki godzinie jemy godziny następnego dnia możemy przesunąć godziny wieczorne zakładając śpicie zacząć godzinie kończąc starając ostatni posiłek miarę lekko strawny później mieć problemu snem oczywiście czasie możemy spożywać wodę kawę herbatę itp możecie stosować krótsze posty np naprawdę większej magii głównie zadanie trzymania schematu jemy danych godzinach podjadamy ciężej przejeść zapotrzebowanie kaloryczne dzień metoda szczególnie przyzwyczajeni częstych regularnych posiłków polecam każdemu spróbować naprawdę pomóc zrzucić kilogramów zmieniając dzień pory spożywasz nadzieję wpis pomocny chcesz typu postów napisz proszę komentarzu chciałbyś dowiedzieć żywieniu treningu siłowym ściskam pozdrawiam marek',\n",
       " 'dni temu miałem urodziny wydarzyło ostatnich urodzin dzielę dał nauczyłem móc wrócić zaledwie tygodni moich urodzinach miałem pierwszy poważny wypadek nagle życie przewartościowało poczułem naprawdę upadłem potem zacząłem podnosić rosnąć siłe sięgając jedną najlepszych decyzji życiu wyprowadzenie polski zmienienie środowiska powiedzenie podróże kształcą mojej opinii prawdziwe otworzyło głowe dało spojrzenie świat rzucenie głęboką wodę poznanie niesamowitych ludzi innej kultury zwyczajów pięknego procentowa odpowiedzialność życie otacza brak zamartwiania wpływu obwininie niepowodzenia perspektywa postrzegam świat narzekanie życie dupy będąc wdzięcznym ręce nogi jeść spać ludzie dostrzeżenie niektóre problemy problemy błahostki nagle słyszysz znajomej osoby została zgwałcona molestowana dziecko wyobrażasz czujesz współczucię wdzięczność masz dobre życie akceptacja siebie najważniejszych rzeczy życiu żyć wewnętrznym przyjacielem końca życia pięknego zamiast dołować katować wspierać wyciągać wnioski przejmowanie opinią znają bliskie nastawienie życia sięganie uwierzenie osiągnąc baardzo włoży odpowiednią prace serducho żyję przeżyć życia swojemu spełniać swoich marzeń żyć zgodzie robienie wbrew wewnętrznym zasadom reszta komentarzu',\n",
       " '',\n",
       " 'tłuszcze nasycone musimy limitować cześć poruszę temat tłuszczów nasyconych musimy limitować badania pokazały kwasy tłuszczowe nasycone decydujący wpływ poziom cholesterolu surowicy krwi zwiększanie cholesterolu naszej krwi przyśpieszają rozwój zmian miażdżycowych naczyniach tętniczych przyczyniać rozwoju chorób nowotworowych oznacza końca służą tłuszcze dużej mierze pochodzenia zwierzęcego znajdziemy takich produktach olej kokosowy olej palmowy masło wędliny produkty smażone tłuste mięsa czerwone stanowisko instytutu żywienia żywności iżż limitować zatem spożywać takim razie odsieczą przychodzą wielonienasycone kwasy tłuszczowe tłuszcze wielonienasycone roślinne odpowiednią podażą witaminy korzystnie wpływają gospodarkę lipidową powodować zmniejszenie zawartości cholesterolu całkowitego ldl mowa produktach takich oleje roślinne tłuste ryby morskie makrela łosoś dorsz orzechy włoskie doskonałe źródła tłuszczy zdrowe pewno służyć daj znać komentarzu wpis przydatny czym byś chciał przeczytać następnym razem pozdrawiam życzę miłego dnia credit',\n",
       " 'kapitalny weekend niezwykli ludzie',\n",
       " 'mogę pomóc czym zmagasz masz trudności okresie kwarantanny problem mogę pomóc rozwiązać treści interesują najbardziej obecnej sytuacji postanowiłem zapytam odpowiem pytania stanie pomogę wesprę czasie podziel komentarzu wiadomości prywatnej wdzięczny pozdrawiam',\n",
       " 'panem zmajstrował synek przerośl ojczulka',\n",
       " 'cześć chciałbym opowiedzieć nieco treningu kobiet wyglądać możemy zauważyć siłowniach spopularyzowane kobiety bieżnię orbitreki wszelakie maszyny naprawdę uzyskać sylwetkę sportsmenki instagramie otóż odpowiedz brzmi ciężarach trening kobiet dużej mierze różnic treningu mężczyzn oczywiście priorytety możemy skupić pośladkach ujędrnić uda zasadniczo opierać głównie ćwiczenia globalne przysiady martwe ciągi podciągania wyciskania ćwiczenia angażujące mięsień lokalne wyprosty bioder odwodzenia przywodzenia ćwiczenia angażujące dany mięsień świetnie rozwijało ciało wzmacniało pomoże sprawniejszym życiu codziennym kobiety powinny bać rozrostu masy mięśniowej akurat wydarzy przekonuje wskażcie siłowni zbudowana kobietę mężczyzna tymi bieżniami orbitrekami zależy zgubieniu paru kilogramów bieżnia wygenerować deficyt energetyczny najważniejszy ujemny bilans kaloryczny odpowiedzialny utratę tkanki tłuszczowej wykonamy ćwiczenia aerobowe bieżni orbitreku zjemy potrzebujemy przyniesie rezultatów postaci utraty wagi ciekawostkę dodam badania pokazały kobiety stanie wykonywać większa ilość powtórzeń danym ciężarem szybciej regenerować nadzieję wpis okazał pomocny zachęcam zostawienia lajka napisania komentarzu czym chciałbyś przeczytać następny wpis pozdrawiam',\n",
       " 'pozbyć tzw zakwasów cześć panujące stwierdzenie zakwasy przyczyną bólów treningu akurat błędne mocno utraty mit zakwasy gromadzenie kwasu mlekowego mięśniach treningu zostaje wypłukane krew bóle mięśni zespół opóźnionego bólu mięśniowego doms ang delayed onset muscle soreness tzw mikrourazy uszkodzenie włókien tworzą stan zapalny naszym organizmie stosunkowo nieprzyjemne uczucie charakteryzuję bólem ograniczonym zakresem ruchu zmniejszeniem siły mięśni postaram przedstawić strategie możemy zastosować ból chociaż niewielkim stopniu obniżyć niestety samym wstępie chciałbym zaznaczyć domsy odłączony element sportu wzrastającego wysiłku fizycznego ciało adaptuje warunków stworzyliśmy byłeś kiedykolwiek siłowni pewno pamiętasz swój pierwszy bolało drugi dzień całkowicie normalne daliśmy bodziec organizmu adaptuje będziemy ciągle np trenować przysiady samym gryfem pierwszy razem drugim trzecim będziemy mieć bóle mięśni kolejnym ciało zaadaptuje musimy zwiększyć obciążenie owe bóle nieodłącznym elementem rozwijania polu sportowym pomocą przyjść owoce zawierające antyoksydanty tj borówki maliny truskawki poprawę bolesności mięśniowych mieć wpływ suplementacja witaminą omega kreatyną tauryną sokiem cierpkich wiśni kofeina cytruliną chciałbym dodać suplementacja antyoksydantów okołotreningowo wit zniwelować korzyści płynące treningu zaburza proces adaptacji treningowej uzasadnione potrzebujemy naprawdę szybkiej regeneracji np trakcie zawodów oprócz aspektów żywieniowych suplementacyjnych bolesność mięśni możemy zminimalizować poprzez krioterapie ciepłe kąpiele masaż',\n",
       " 'ciężkim uczniem zarazem przyjacielem nielicznych rozumie slow spojrzenia siebie powodują dużą niekontrolowaną dawkę śmiechu']"
      ]
     },
     "metadata": {},
     "execution_count": 10
    }
   ],
   "source": [
    "node_list[0].posts"
   ]
  },
  {
   "cell_type": "code",
   "execution_count": 11,
   "metadata": {},
   "outputs": [],
   "source": [
    "def select_and_aggregate_per_trait(trait_name: str, data_frame: pd.DataFrame):\n",
    "    out_df =data_frame[data_frame[trait_name] != 0.0]\n",
    "    print(out_df)"
   ]
  },
  {
   "cell_type": "code",
   "execution_count": 12,
   "metadata": {},
   "outputs": [
    {
     "output_type": "error",
     "ename": "AttributeError",
     "evalue": "'DataFrame' object has no attribute 'trait_name'",
     "traceback": [
      "\u001b[0;31m---------------------------------------------------------------------------\u001b[0m",
      "\u001b[0;31mAttributeError\u001b[0m                            Traceback (most recent call last)",
      "\u001b[0;32m<ipython-input-12-9fcd94896303>\u001b[0m in \u001b[0;36m<module>\u001b[0;34m\u001b[0m\n\u001b[0;32m----> 1\u001b[0;31m \u001b[0mselect_and_aggregate_per_trait\u001b[0m\u001b[0;34m(\u001b[0m\u001b[0;34m\"innocent\"\u001b[0m\u001b[0;34m,\u001b[0m \u001b[0march_df\u001b[0m\u001b[0;34m)\u001b[0m\u001b[0;34m\u001b[0m\u001b[0;34m\u001b[0m\u001b[0m\n\u001b[0m",
      "\u001b[0;32m<ipython-input-11-3af6a47f75be>\u001b[0m in \u001b[0;36mselect_and_aggregate_per_trait\u001b[0;34m(trait_name, data_frame)\u001b[0m\n\u001b[1;32m      1\u001b[0m \u001b[0;32mdef\u001b[0m \u001b[0mselect_and_aggregate_per_trait\u001b[0m\u001b[0;34m(\u001b[0m\u001b[0mtrait_name\u001b[0m\u001b[0;34m:\u001b[0m \u001b[0mstr\u001b[0m\u001b[0;34m,\u001b[0m \u001b[0mdata_frame\u001b[0m\u001b[0;34m:\u001b[0m \u001b[0mpd\u001b[0m\u001b[0;34m.\u001b[0m\u001b[0mDataFrame\u001b[0m\u001b[0;34m)\u001b[0m\u001b[0;34m:\u001b[0m\u001b[0;34m\u001b[0m\u001b[0;34m\u001b[0m\u001b[0m\n\u001b[0;32m----> 2\u001b[0;31m     \u001b[0mout_df\u001b[0m \u001b[0;34m=\u001b[0m\u001b[0mdata_frame\u001b[0m\u001b[0;34m[\u001b[0m\u001b[0mdata_frame\u001b[0m\u001b[0;34m.\u001b[0m\u001b[0mtrait_name\u001b[0m \u001b[0;34m!=\u001b[0m \u001b[0;36m0.0\u001b[0m\u001b[0;34m]\u001b[0m\u001b[0;34m\u001b[0m\u001b[0;34m\u001b[0m\u001b[0m\n\u001b[0m\u001b[1;32m      3\u001b[0m     \u001b[0mprint\u001b[0m\u001b[0;34m(\u001b[0m\u001b[0mout_df\u001b[0m\u001b[0;34m)\u001b[0m\u001b[0;34m\u001b[0m\u001b[0;34m\u001b[0m\u001b[0m\n",
      "\u001b[0;32m/usr/lib/python3/dist-packages/pandas/core/generic.py\u001b[0m in \u001b[0;36m__getattr__\u001b[0;34m(self, name)\u001b[0m\n\u001b[1;32m   5272\u001b[0m             \u001b[0;32mif\u001b[0m \u001b[0mself\u001b[0m\u001b[0;34m.\u001b[0m\u001b[0m_info_axis\u001b[0m\u001b[0;34m.\u001b[0m\u001b[0m_can_hold_identifiers_and_holds_name\u001b[0m\u001b[0;34m(\u001b[0m\u001b[0mname\u001b[0m\u001b[0;34m)\u001b[0m\u001b[0;34m:\u001b[0m\u001b[0;34m\u001b[0m\u001b[0;34m\u001b[0m\u001b[0m\n\u001b[1;32m   5273\u001b[0m                 \u001b[0;32mreturn\u001b[0m \u001b[0mself\u001b[0m\u001b[0;34m[\u001b[0m\u001b[0mname\u001b[0m\u001b[0;34m]\u001b[0m\u001b[0;34m\u001b[0m\u001b[0;34m\u001b[0m\u001b[0m\n\u001b[0;32m-> 5274\u001b[0;31m             \u001b[0;32mreturn\u001b[0m \u001b[0mobject\u001b[0m\u001b[0;34m.\u001b[0m\u001b[0m__getattribute__\u001b[0m\u001b[0;34m(\u001b[0m\u001b[0mself\u001b[0m\u001b[0;34m,\u001b[0m \u001b[0mname\u001b[0m\u001b[0;34m)\u001b[0m\u001b[0;34m\u001b[0m\u001b[0;34m\u001b[0m\u001b[0m\n\u001b[0m\u001b[1;32m   5275\u001b[0m \u001b[0;34m\u001b[0m\u001b[0m\n\u001b[1;32m   5276\u001b[0m     \u001b[0;32mdef\u001b[0m \u001b[0m__setattr__\u001b[0m\u001b[0;34m(\u001b[0m\u001b[0mself\u001b[0m\u001b[0;34m,\u001b[0m \u001b[0mname\u001b[0m\u001b[0;34m:\u001b[0m \u001b[0mstr\u001b[0m\u001b[0;34m,\u001b[0m \u001b[0mvalue\u001b[0m\u001b[0;34m)\u001b[0m \u001b[0;34m->\u001b[0m \u001b[0;32mNone\u001b[0m\u001b[0;34m:\u001b[0m\u001b[0;34m\u001b[0m\u001b[0;34m\u001b[0m\u001b[0m\n",
      "\u001b[0;31mAttributeError\u001b[0m: 'DataFrame' object has no attribute 'trait_name'"
     ]
    }
   ],
   "source": [
    "select_and_aggregate_per_trait(\"innocent\", arch_df)"
   ]
  },
  {
   "cell_type": "code",
   "execution_count": null,
   "metadata": {},
   "outputs": [],
   "source": []
  }
 ]
}