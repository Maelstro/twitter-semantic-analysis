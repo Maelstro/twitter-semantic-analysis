{
 "cells": [
  {
   "cell_type": "code",
   "execution_count": 2,
   "metadata": {},
   "outputs": [],
   "source": [
    "# Try to get most occurring sequences without SPMF\n",
    "import pandas as pd\n",
    "from text_cleaner import *\n",
    "from tqdm import tqdm\n",
    "import itertools\n",
    "from spmf import Spmf\n",
    "\n",
    "archetype_list = ['artist',\n",
    "                 'caregiver',\n",
    "                 'everyman',\n",
    "                 'explorer',\n",
    "                 'guru',\n",
    "                 'hero',\n",
    "                 'innocent',\n",
    "                 'jester',\n",
    "                 'magician',\n",
    "                 'rebel',\n",
    "                 'ruler',\n",
    "                 'seducer']"
   ]
  },
  {
   "cell_type": "code",
   "execution_count": 3,
   "metadata": {},
   "outputs": [
    {
     "name": "stdout",
     "output_type": "stream",
     "text": [
      "Length before removing duplicates: 109053\n",
      "Length after removing duplicates: 81019\n"
     ]
    }
   ],
   "source": [
    "# Load the Twitter dataset\n",
    "twitter_df = pd.read_csv('tweets_06_03_2021.csv', index_col=0)\n",
    "print(f\"Length before removing duplicates: {len(twitter_df)}\")\n",
    "\n",
    "# Print the head of the loaded dataset\n",
    "twitter_df.head()\n",
    "\n",
    "# Drop duplicates\n",
    "twitter_df.sort_values(\"tweet_text\", inplace = True) \n",
    "twitter_df.drop_duplicates(subset=\"tweet_text\", keep=False, inplace=True)\n",
    "print(f\"Length after removing duplicates: {len(twitter_df)}\")"
   ]
  },
  {
   "cell_type": "code",
   "execution_count": 4,
   "metadata": {},
   "outputs": [
    {
     "data": {
      "text/html": [
       "<div>\n",
       "<style scoped>\n",
       "    .dataframe tbody tr th:only-of-type {\n",
       "        vertical-align: middle;\n",
       "    }\n",
       "\n",
       "    .dataframe tbody tr th {\n",
       "        vertical-align: top;\n",
       "    }\n",
       "\n",
       "    .dataframe thead th {\n",
       "        text-align: right;\n",
       "    }\n",
       "</style>\n",
       "<table border=\"1\" class=\"dataframe\">\n",
       "  <thead>\n",
       "    <tr style=\"text-align: right;\">\n",
       "      <th></th>\n",
       "      <th>_id</th>\n",
       "      <th>tweet_text</th>\n",
       "      <th>username</th>\n",
       "      <th>created_at</th>\n",
       "      <th>timestamp</th>\n",
       "      <th>archetype</th>\n",
       "      <th>cleaned_text</th>\n",
       "    </tr>\n",
       "  </thead>\n",
       "  <tbody>\n",
       "    <tr>\n",
       "      <th>68217</th>\n",
       "      <td>5fcaa649345223d8055d9d1d</td>\n",
       "      <td>\"#Amazon is using its immense power &amp;amp; reso...</td>\n",
       "      <td>ProgIntl</td>\n",
       "      <td>2020-12-01 10:14:58.000</td>\n",
       "      <td>NaN</td>\n",
       "      <td>jester</td>\n",
       "      <td>[amazon, using, immense, power, amp, resources...</td>\n",
       "    </tr>\n",
       "    <tr>\n",
       "      <th>37901</th>\n",
       "      <td>6026de945dc094fc123d13a7</td>\n",
       "      <td>\"...we went on an 8-month road trip all across...</td>\n",
       "      <td>subaru_usa</td>\n",
       "      <td>2021-02-08 23:29:02.000</td>\n",
       "      <td>NaN</td>\n",
       "      <td>explorer</td>\n",
       "      <td>[went, month, road, trip, across, country, vis...</td>\n",
       "    </tr>\n",
       "    <tr>\n",
       "      <th>30830</th>\n",
       "      <td>5fc1581614aa7245901a9ce3</td>\n",
       "      <td>\"3.. 2.. 1.. 0.. and liftoff of Sentinel-6 Mic...</td>\n",
       "      <td>NASA</td>\n",
       "      <td>2020-11-21 17:19:21.000</td>\n",
       "      <td>NaN</td>\n",
       "      <td>explorer</td>\n",
       "      <td>[liftoff, sentinel, michael, freilich, continu...</td>\n",
       "    </tr>\n",
       "    <tr>\n",
       "      <th>38240</th>\n",
       "      <td>603018a841c201da0e67e5a1</td>\n",
       "      <td>\"@NASAPersevere is still in space right now, a...</td>\n",
       "      <td>NASA</td>\n",
       "      <td>2021-02-18 19:24:45.000</td>\n",
       "      <td>NaN</td>\n",
       "      <td>explorer</td>\n",
       "      <td>[still, space, right, miles, mars, far, health...</td>\n",
       "    </tr>\n",
       "    <tr>\n",
       "      <th>36002</th>\n",
       "      <td>6013cc55a147999037fb2ab1</td>\n",
       "      <td>\"A Beagle mix called Lisa has brought me compa...</td>\n",
       "      <td>PBS</td>\n",
       "      <td>2021-01-25 18:00:29.000</td>\n",
       "      <td>NaN</td>\n",
       "      <td>explorer</td>\n",
       "      <td>[beagle, mix, called, lisa, brought, companion...</td>\n",
       "    </tr>\n",
       "  </tbody>\n",
       "</table>\n",
       "</div>"
      ],
      "text/plain": [
       "                            _id  \\\n",
       "68217  5fcaa649345223d8055d9d1d   \n",
       "37901  6026de945dc094fc123d13a7   \n",
       "30830  5fc1581614aa7245901a9ce3   \n",
       "38240  603018a841c201da0e67e5a1   \n",
       "36002  6013cc55a147999037fb2ab1   \n",
       "\n",
       "                                              tweet_text    username  \\\n",
       "68217  \"#Amazon is using its immense power &amp; reso...    ProgIntl   \n",
       "37901  \"...we went on an 8-month road trip all across...  subaru_usa   \n",
       "30830  \"3.. 2.. 1.. 0.. and liftoff of Sentinel-6 Mic...        NASA   \n",
       "38240  \"@NASAPersevere is still in space right now, a...        NASA   \n",
       "36002  \"A Beagle mix called Lisa has brought me compa...         PBS   \n",
       "\n",
       "                    created_at timestamp archetype  \\\n",
       "68217  2020-12-01 10:14:58.000       NaN    jester   \n",
       "37901  2021-02-08 23:29:02.000       NaN  explorer   \n",
       "30830  2020-11-21 17:19:21.000       NaN  explorer   \n",
       "38240  2021-02-18 19:24:45.000       NaN  explorer   \n",
       "36002  2021-01-25 18:00:29.000       NaN  explorer   \n",
       "\n",
       "                                            cleaned_text  \n",
       "68217  [amazon, using, immense, power, amp, resources...  \n",
       "37901  [went, month, road, trip, across, country, vis...  \n",
       "30830  [liftoff, sentinel, michael, freilich, continu...  \n",
       "38240  [still, space, right, miles, mars, far, health...  \n",
       "36002  [beagle, mix, called, lisa, brought, companion...  "
      ]
     },
     "execution_count": 4,
     "metadata": {},
     "output_type": "execute_result"
    }
   ],
   "source": [
    "# Clean-up the texts\n",
    "twitter_df[\"cleaned_text\"] = twitter_df[\"tweet_text\"].apply(lambda x: clean_up_text(x))\n",
    "\n",
    "# Tokenize the cleaned texts\n",
    "twitter_df[\"cleaned_text\"] = twitter_df[\"cleaned_text\"].apply(lambda x: nltk.word_tokenize(x))\n",
    "\n",
    "# Remove the stopwords\n",
    "twitter_df[\"cleaned_text\"] = twitter_df[\"cleaned_text\"].apply(lambda x: remove_stopwords(x))\n",
    "\n",
    "# Drop the rows with empty 'cleaned_text' field\n",
    "twitter_df = twitter_df.drop(twitter_df[twitter_df['cleaned_text'].map(len) < 1].index)\n",
    "\n",
    "# Print the new head of the dataset\n",
    "twitter_df.head()"
   ]
  },
  {
   "cell_type": "code",
   "execution_count": 5,
   "metadata": {},
   "outputs": [
    {
     "data": {
      "text/plain": [
       "0    [banda, music, restrictions, go, direction, us...\n",
       "1    [black, creatives, everywhere, every, form, cr...\n",
       "2    [creativity, uniquely, human, trait, algorithm...\n",
       "3    [think, someone, else, would, think, would, sa...\n",
       "4    [good, see, cloud, one, winged, angel, sephiro...\n",
       "Name: cleaned_text, dtype: object"
      ]
     },
     "execution_count": 5,
     "metadata": {},
     "output_type": "execute_result"
    }
   ],
   "source": [
    "# Example 1 - try to get the most occurring words in the 'artist' archetype subset\n",
    "# Extract all the tweets for the 'artist' archetype\n",
    "artist_df = twitter_df.cleaned_text[twitter_df[\"archetype\"] == \"artist\"]\n",
    "\n",
    "# Reset the index of the subset\n",
    "artist_df = artist_df.reset_index(drop=True)\n",
    "\n",
    "# Print the head of the subset\n",
    "artist_df.head()"
   ]
  },
  {
   "cell_type": "code",
   "execution_count": 6,
   "metadata": {},
   "outputs": [
    {
     "name": "stdout",
     "output_type": "stream",
     "text": [
      ">/mnt/HDD_Linux/Praca_magisterska/jupyter_notebooks/data_mining/spmf.jar\n",
      "Converting TEXT to SPMF format.\n",
      "Conversion completed.\n",
      "=============  PREFIXSPAN 0.99-2016 - STATISTICS =============\n",
      " Total time ~ 1052 ms\n",
      " Frequent sequences count : 2918736\n",
      " Max memory (mb) : 188.3369140625\n",
      " minsup = 1 sequences.\n",
      " Pattern count : 2918736\n",
      "===================================================\n",
      "\n",
      "Post-processing to show result in terms of string values.\n",
      "Post-processing completed.\n",
      "\n",
      "                              pattern  sup\n",
      "0                             [banda]    1\n",
      "1                      [banda, music]    1\n",
      "2        [banda, music, restrictions]    1\n",
      "3                  [banda, music, go]    1\n",
      "4           [banda, music, direction]    1\n",
      "...                               ...  ...\n",
      "2918731     [magnet, shipping, costs]    1\n",
      "2918732       [magnet, shipping, get]    1\n",
      "2918733    [magnet, shipping, reward]    1\n",
      "2918734              [magnet, reward]    1\n",
      "2918735         [magnet, reward, get]    1\n",
      "\n",
      "[2918736 rows x 2 columns]\n"
     ]
    }
   ],
   "source": [
    "# Create a list of sentences\n",
    "artist_list = [\" \".join(row) for row in artist_df.tolist()]\n",
    "\n",
    "# SPMF - get the most frequent sequences\n",
    "spmf = Spmf(\"PrefixSpan\", input_direct=artist_list,\n",
    "            output_filename=\"output.txt\", arguments=[0.00005, 3], input_type=\"text\")\n",
    "spmf.run()\n",
    "print(spmf.to_pandas_dataframe(pickle=True))\n",
    "spmf.to_csv(\"output.csv\")"
   ]
  },
  {
   "cell_type": "code",
   "execution_count": null,
   "metadata": {},
   "outputs": [],
   "source": []
  },
  {
   "cell_type": "code",
   "execution_count": 21,
   "metadata": {},
   "outputs": [
    {
     "name": "stdout",
     "output_type": "stream",
     "text": [
      "407119\n",
      "257030\n",
      "115500\n"
     ]
    }
   ],
   "source": [
    "spmf_df = spmf.to_pandas_dataframe()\n",
    "import numpy as np\n",
    "\n",
    "three_w = spmf_df.loc[np.array(list(map(len,spmf_df.pattern.values))) == 3]\n",
    "print(three_w[\"sup\"].sum())\n",
    "\n",
    "two_w = spmf_df.loc[np.array(list(map(len,spmf_df.pattern.values))) == 2]\n",
    "print(two_w[\"sup\"].sum())\n",
    "\n",
    "one_w = spmf_df.loc[np.array(list(map(len,spmf_df.pattern.values))) == 1]\n",
    "print(one_w[\"sup\"].sum())"
   ]
  },
  {
   "cell_type": "code",
   "execution_count": 28,
   "metadata": {},
   "outputs": [],
   "source": [
    "from sklearn.feature_extraction.text import TfidfVectorizer\n",
    "spmf_df[\"pattern\"] = spmf_df[\"pattern\"].apply(lambda x: tuple(x))\n",
    "\n",
    "vectorizer = TfidfVectorizer(vocabulary=spmf_df[\"pattern\"])"
   ]
  },
  {
   "cell_type": "code",
   "execution_count": 34,
   "metadata": {},
   "outputs": [],
   "source": [
    "transformed_list = vectorizer.fit_transform(artist_list)"
   ]
  },
  {
   "cell_type": "code",
   "execution_count": 35,
   "metadata": {},
   "outputs": [
    {
     "name": "stdout",
     "output_type": "stream",
     "text": [
      "\n"
     ]
    }
   ],
   "source": [
    "print(transformed_list)"
   ]
  },
  {
   "cell_type": "code",
   "execution_count": null,
   "metadata": {},
   "outputs": [],
   "source": []
  }
 ],
 "metadata": {
  "kernelspec": {
   "display_name": "Python 3",
   "language": "python",
   "name": "python3"
  },
  "language_info": {
   "codemirror_mode": {
    "name": "ipython",
    "version": 3
   },
   "file_extension": ".py",
   "mimetype": "text/x-python",
   "name": "python",
   "nbconvert_exporter": "python",
   "pygments_lexer": "ipython3",
   "version": "3.9.2"
  }
 },
 "nbformat": 4,
 "nbformat_minor": 4
}
